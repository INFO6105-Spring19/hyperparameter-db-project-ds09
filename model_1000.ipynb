{
 "cells": [
  {
   "cell_type": "markdown",
   "metadata": {},
   "source": [
    " # Abstract"
   ]
  },
  {
   "cell_type": "markdown",
   "metadata": {},
   "source": [
    "<h4 align=\"justify\"> The purpose of my statistical, exploratory data analysis and notebook is studying the dataset “ Housing Prices of Boston”which are affecting the prices of houses and other columns which will be taken into consideration as factors which might affect the prices.The dataset has 5,00,000 rows. The main focus is to run an automfor different runtime(here 1000 seconds) and generate a leaderboard through which we need to find the hyperparameters of each model which will later be used to generate a hyperparameter database. The main objective of this hyperparameter database is to give the range or values of hyperparameter for each public dataset, for this it is required to run millions of datasets and their hyperparameter values for different combination of hyperparameter and then gives the best result. The hyperparameter database will produce the range without search which can later be used to visualize and understand statistical concepts of bias/variance trade off. The three important aspects considered while running this automl are to finding the important hyperparameters, finding the range of the important hyperparameter and later is to show the difference of each model, as in how one is better than the other in giving better predictive results.</h3>"
   ]
  },
  {
   "cell_type": "markdown",
   "metadata": {},
   "source": [
    "### Running the automl for 1000 seconds"
   ]
  },
  {
   "cell_type": "markdown",
   "metadata": {},
   "source": [
    "#### **Importing Libraries**"
   ]
  },
  {
   "cell_type": "code",
   "execution_count": 1,
   "metadata": {},
   "outputs": [],
   "source": [
    "import matplotlib.pyplot as plt\n",
    "import numpy as np\n",
    "import pandas as pd\n",
    "from scipy import stats as st\n",
    "import seaborn as sns\n",
    "from sklearn.model_selection import train_test_split\n",
    "from sklearn.metrics import mean_squared_error\n",
    "from sklearn.linear_model import LinearRegression\n",
    "import missingno as msno\n",
    "from math import* \n",
    "from sklearn.preprocessing import MinMaxScaler\n",
    "from sklearn.model_selection import cross_validate\n",
    "from sklearn.model_selection import cross_val_score\n",
    "from sklearn.model_selection import KFold\n",
    "from sklearn.metrics import mean_squared_error"
   ]
  },
  {
   "cell_type": "markdown",
   "metadata": {},
   "source": [
    "**Importing the libraries and reading the dataset from CSV file**"
   ]
  },
  {
   "cell_type": "code",
   "execution_count": 2,
   "metadata": {},
   "outputs": [],
   "source": [
    "# importing the dataset\n",
    "df=pd.read_csv(\"HousePrices_HalfMil.csv\", decimal = ',')"
   ]
  },
  {
   "cell_type": "code",
   "execution_count": 3,
   "metadata": {},
   "outputs": [
    {
     "data": {
      "text/html": [
       "<div>\n",
       "<style scoped>\n",
       "    .dataframe tbody tr th:only-of-type {\n",
       "        vertical-align: middle;\n",
       "    }\n",
       "\n",
       "    .dataframe tbody tr th {\n",
       "        vertical-align: top;\n",
       "    }\n",
       "\n",
       "    .dataframe thead th {\n",
       "        text-align: right;\n",
       "    }\n",
       "</style>\n",
       "<table border=\"1\" class=\"dataframe\">\n",
       "  <thead>\n",
       "    <tr style=\"text-align: right;\">\n",
       "      <th></th>\n",
       "      <th>Area</th>\n",
       "      <th>Garage</th>\n",
       "      <th>FirePlace</th>\n",
       "      <th>Baths</th>\n",
       "      <th>White Marble</th>\n",
       "      <th>Black Marble</th>\n",
       "      <th>Indian Marble</th>\n",
       "      <th>Floors</th>\n",
       "      <th>City</th>\n",
       "      <th>Solar</th>\n",
       "      <th>Electric</th>\n",
       "      <th>Fiber</th>\n",
       "      <th>Glass Doors</th>\n",
       "      <th>Swiming Pool</th>\n",
       "      <th>Garden</th>\n",
       "      <th>Prices</th>\n",
       "    </tr>\n",
       "  </thead>\n",
       "  <tbody>\n",
       "    <tr>\n",
       "      <th>0</th>\n",
       "      <td>164</td>\n",
       "      <td>2</td>\n",
       "      <td>0</td>\n",
       "      <td>2</td>\n",
       "      <td>0</td>\n",
       "      <td>1</td>\n",
       "      <td>0</td>\n",
       "      <td>0</td>\n",
       "      <td>3</td>\n",
       "      <td>1</td>\n",
       "      <td>1</td>\n",
       "      <td>1</td>\n",
       "      <td>1</td>\n",
       "      <td>0</td>\n",
       "      <td>0</td>\n",
       "      <td>43800</td>\n",
       "    </tr>\n",
       "    <tr>\n",
       "      <th>1</th>\n",
       "      <td>84</td>\n",
       "      <td>2</td>\n",
       "      <td>0</td>\n",
       "      <td>4</td>\n",
       "      <td>0</td>\n",
       "      <td>0</td>\n",
       "      <td>1</td>\n",
       "      <td>1</td>\n",
       "      <td>2</td>\n",
       "      <td>0</td>\n",
       "      <td>0</td>\n",
       "      <td>0</td>\n",
       "      <td>1</td>\n",
       "      <td>1</td>\n",
       "      <td>1</td>\n",
       "      <td>37550</td>\n",
       "    </tr>\n",
       "    <tr>\n",
       "      <th>2</th>\n",
       "      <td>190</td>\n",
       "      <td>2</td>\n",
       "      <td>4</td>\n",
       "      <td>4</td>\n",
       "      <td>1</td>\n",
       "      <td>0</td>\n",
       "      <td>0</td>\n",
       "      <td>0</td>\n",
       "      <td>2</td>\n",
       "      <td>0</td>\n",
       "      <td>0</td>\n",
       "      <td>1</td>\n",
       "      <td>0</td>\n",
       "      <td>0</td>\n",
       "      <td>0</td>\n",
       "      <td>49500</td>\n",
       "    </tr>\n",
       "    <tr>\n",
       "      <th>3</th>\n",
       "      <td>75</td>\n",
       "      <td>2</td>\n",
       "      <td>4</td>\n",
       "      <td>4</td>\n",
       "      <td>0</td>\n",
       "      <td>0</td>\n",
       "      <td>1</td>\n",
       "      <td>1</td>\n",
       "      <td>1</td>\n",
       "      <td>1</td>\n",
       "      <td>1</td>\n",
       "      <td>1</td>\n",
       "      <td>1</td>\n",
       "      <td>1</td>\n",
       "      <td>1</td>\n",
       "      <td>50075</td>\n",
       "    </tr>\n",
       "    <tr>\n",
       "      <th>4</th>\n",
       "      <td>148</td>\n",
       "      <td>1</td>\n",
       "      <td>4</td>\n",
       "      <td>2</td>\n",
       "      <td>1</td>\n",
       "      <td>0</td>\n",
       "      <td>0</td>\n",
       "      <td>1</td>\n",
       "      <td>2</td>\n",
       "      <td>1</td>\n",
       "      <td>0</td>\n",
       "      <td>0</td>\n",
       "      <td>1</td>\n",
       "      <td>1</td>\n",
       "      <td>1</td>\n",
       "      <td>52400</td>\n",
       "    </tr>\n",
       "  </tbody>\n",
       "</table>\n",
       "</div>"
      ],
      "text/plain": [
       "   Area  Garage  FirePlace  Baths  White Marble  Black Marble  Indian Marble  \\\n",
       "0   164       2          0      2             0             1              0   \n",
       "1    84       2          0      4             0             0              1   \n",
       "2   190       2          4      4             1             0              0   \n",
       "3    75       2          4      4             0             0              1   \n",
       "4   148       1          4      2             1             0              0   \n",
       "\n",
       "   Floors  City  Solar  Electric  Fiber  Glass Doors  Swiming Pool  Garden  \\\n",
       "0       0     3      1         1      1            1             0       0   \n",
       "1       1     2      0         0      0            1             1       1   \n",
       "2       0     2      0         0      1            0             0       0   \n",
       "3       1     1      1         1      1            1             1       1   \n",
       "4       1     2      1         0      0            1             1       1   \n",
       "\n",
       "   Prices  \n",
       "0   43800  \n",
       "1   37550  \n",
       "2   49500  \n",
       "3   50075  \n",
       "4   52400  "
      ]
     },
     "execution_count": 3,
     "metadata": {},
     "output_type": "execute_result"
    }
   ],
   "source": [
    "df.head()"
   ]
  },
  {
   "cell_type": "markdown",
   "metadata": {},
   "source": [
    "**Checking the first 5 rows of the dataset to analyse the column types and to check if the data is properly imported or not**"
   ]
  },
  {
   "cell_type": "code",
   "execution_count": 4,
   "metadata": {},
   "outputs": [
    {
     "data": {
      "text/html": [
       "<div>\n",
       "<style scoped>\n",
       "    .dataframe tbody tr th:only-of-type {\n",
       "        vertical-align: middle;\n",
       "    }\n",
       "\n",
       "    .dataframe tbody tr th {\n",
       "        vertical-align: top;\n",
       "    }\n",
       "\n",
       "    .dataframe thead th {\n",
       "        text-align: right;\n",
       "    }\n",
       "</style>\n",
       "<table border=\"1\" class=\"dataframe\">\n",
       "  <thead>\n",
       "    <tr style=\"text-align: right;\">\n",
       "      <th></th>\n",
       "      <th>Area</th>\n",
       "      <th>Garage</th>\n",
       "      <th>FirePlace</th>\n",
       "      <th>Baths</th>\n",
       "      <th>White Marble</th>\n",
       "      <th>Black Marble</th>\n",
       "      <th>Indian Marble</th>\n",
       "      <th>Floors</th>\n",
       "      <th>City</th>\n",
       "      <th>Solar</th>\n",
       "      <th>Electric</th>\n",
       "      <th>Fiber</th>\n",
       "      <th>Glass Doors</th>\n",
       "      <th>Swiming Pool</th>\n",
       "      <th>Garden</th>\n",
       "      <th>Prices</th>\n",
       "    </tr>\n",
       "  </thead>\n",
       "  <tbody>\n",
       "    <tr>\n",
       "      <th>count</th>\n",
       "      <td>500000.000000</td>\n",
       "      <td>500000.000000</td>\n",
       "      <td>500000.000000</td>\n",
       "      <td>500000.000000</td>\n",
       "      <td>500000.000000</td>\n",
       "      <td>500000.000000</td>\n",
       "      <td>500000.000000</td>\n",
       "      <td>500000.000000</td>\n",
       "      <td>500000.000000</td>\n",
       "      <td>500000.000000</td>\n",
       "      <td>500000.00000</td>\n",
       "      <td>500000.000000</td>\n",
       "      <td>500000.00000</td>\n",
       "      <td>500000.000000</td>\n",
       "      <td>500000.000000</td>\n",
       "      <td>500000.000000</td>\n",
       "    </tr>\n",
       "    <tr>\n",
       "      <th>mean</th>\n",
       "      <td>124.929554</td>\n",
       "      <td>2.001290</td>\n",
       "      <td>2.003398</td>\n",
       "      <td>2.998074</td>\n",
       "      <td>0.332992</td>\n",
       "      <td>0.332690</td>\n",
       "      <td>0.334318</td>\n",
       "      <td>0.499386</td>\n",
       "      <td>2.000940</td>\n",
       "      <td>0.498694</td>\n",
       "      <td>0.50065</td>\n",
       "      <td>0.500468</td>\n",
       "      <td>0.49987</td>\n",
       "      <td>0.500436</td>\n",
       "      <td>0.501646</td>\n",
       "      <td>42050.139350</td>\n",
       "    </tr>\n",
       "    <tr>\n",
       "      <th>std</th>\n",
       "      <td>71.795363</td>\n",
       "      <td>0.817005</td>\n",
       "      <td>1.414021</td>\n",
       "      <td>1.414227</td>\n",
       "      <td>0.471284</td>\n",
       "      <td>0.471177</td>\n",
       "      <td>0.471752</td>\n",
       "      <td>0.500000</td>\n",
       "      <td>0.816209</td>\n",
       "      <td>0.499999</td>\n",
       "      <td>0.50000</td>\n",
       "      <td>0.500000</td>\n",
       "      <td>0.50000</td>\n",
       "      <td>0.500000</td>\n",
       "      <td>0.499998</td>\n",
       "      <td>12110.237201</td>\n",
       "    </tr>\n",
       "    <tr>\n",
       "      <th>min</th>\n",
       "      <td>1.000000</td>\n",
       "      <td>1.000000</td>\n",
       "      <td>0.000000</td>\n",
       "      <td>1.000000</td>\n",
       "      <td>0.000000</td>\n",
       "      <td>0.000000</td>\n",
       "      <td>0.000000</td>\n",
       "      <td>0.000000</td>\n",
       "      <td>1.000000</td>\n",
       "      <td>0.000000</td>\n",
       "      <td>0.00000</td>\n",
       "      <td>0.000000</td>\n",
       "      <td>0.00000</td>\n",
       "      <td>0.000000</td>\n",
       "      <td>0.000000</td>\n",
       "      <td>7725.000000</td>\n",
       "    </tr>\n",
       "    <tr>\n",
       "      <th>25%</th>\n",
       "      <td>63.000000</td>\n",
       "      <td>1.000000</td>\n",
       "      <td>1.000000</td>\n",
       "      <td>2.000000</td>\n",
       "      <td>0.000000</td>\n",
       "      <td>0.000000</td>\n",
       "      <td>0.000000</td>\n",
       "      <td>0.000000</td>\n",
       "      <td>1.000000</td>\n",
       "      <td>0.000000</td>\n",
       "      <td>0.00000</td>\n",
       "      <td>0.000000</td>\n",
       "      <td>0.00000</td>\n",
       "      <td>0.000000</td>\n",
       "      <td>0.000000</td>\n",
       "      <td>33500.000000</td>\n",
       "    </tr>\n",
       "    <tr>\n",
       "      <th>50%</th>\n",
       "      <td>125.000000</td>\n",
       "      <td>2.000000</td>\n",
       "      <td>2.000000</td>\n",
       "      <td>3.000000</td>\n",
       "      <td>0.000000</td>\n",
       "      <td>0.000000</td>\n",
       "      <td>0.000000</td>\n",
       "      <td>0.000000</td>\n",
       "      <td>2.000000</td>\n",
       "      <td>0.000000</td>\n",
       "      <td>1.00000</td>\n",
       "      <td>1.000000</td>\n",
       "      <td>0.00000</td>\n",
       "      <td>1.000000</td>\n",
       "      <td>1.000000</td>\n",
       "      <td>41850.000000</td>\n",
       "    </tr>\n",
       "    <tr>\n",
       "      <th>75%</th>\n",
       "      <td>187.000000</td>\n",
       "      <td>3.000000</td>\n",
       "      <td>3.000000</td>\n",
       "      <td>4.000000</td>\n",
       "      <td>1.000000</td>\n",
       "      <td>1.000000</td>\n",
       "      <td>1.000000</td>\n",
       "      <td>1.000000</td>\n",
       "      <td>3.000000</td>\n",
       "      <td>1.000000</td>\n",
       "      <td>1.00000</td>\n",
       "      <td>1.000000</td>\n",
       "      <td>1.00000</td>\n",
       "      <td>1.000000</td>\n",
       "      <td>1.000000</td>\n",
       "      <td>50750.000000</td>\n",
       "    </tr>\n",
       "    <tr>\n",
       "      <th>max</th>\n",
       "      <td>249.000000</td>\n",
       "      <td>3.000000</td>\n",
       "      <td>4.000000</td>\n",
       "      <td>5.000000</td>\n",
       "      <td>1.000000</td>\n",
       "      <td>1.000000</td>\n",
       "      <td>1.000000</td>\n",
       "      <td>1.000000</td>\n",
       "      <td>3.000000</td>\n",
       "      <td>1.000000</td>\n",
       "      <td>1.00000</td>\n",
       "      <td>1.000000</td>\n",
       "      <td>1.00000</td>\n",
       "      <td>1.000000</td>\n",
       "      <td>1.000000</td>\n",
       "      <td>77975.000000</td>\n",
       "    </tr>\n",
       "  </tbody>\n",
       "</table>\n",
       "</div>"
      ],
      "text/plain": [
       "                Area         Garage      FirePlace          Baths  \\\n",
       "count  500000.000000  500000.000000  500000.000000  500000.000000   \n",
       "mean      124.929554       2.001290       2.003398       2.998074   \n",
       "std        71.795363       0.817005       1.414021       1.414227   \n",
       "min         1.000000       1.000000       0.000000       1.000000   \n",
       "25%        63.000000       1.000000       1.000000       2.000000   \n",
       "50%       125.000000       2.000000       2.000000       3.000000   \n",
       "75%       187.000000       3.000000       3.000000       4.000000   \n",
       "max       249.000000       3.000000       4.000000       5.000000   \n",
       "\n",
       "        White Marble   Black Marble  Indian Marble         Floors  \\\n",
       "count  500000.000000  500000.000000  500000.000000  500000.000000   \n",
       "mean        0.332992       0.332690       0.334318       0.499386   \n",
       "std         0.471284       0.471177       0.471752       0.500000   \n",
       "min         0.000000       0.000000       0.000000       0.000000   \n",
       "25%         0.000000       0.000000       0.000000       0.000000   \n",
       "50%         0.000000       0.000000       0.000000       0.000000   \n",
       "75%         1.000000       1.000000       1.000000       1.000000   \n",
       "max         1.000000       1.000000       1.000000       1.000000   \n",
       "\n",
       "                City          Solar      Electric          Fiber  \\\n",
       "count  500000.000000  500000.000000  500000.00000  500000.000000   \n",
       "mean        2.000940       0.498694       0.50065       0.500468   \n",
       "std         0.816209       0.499999       0.50000       0.500000   \n",
       "min         1.000000       0.000000       0.00000       0.000000   \n",
       "25%         1.000000       0.000000       0.00000       0.000000   \n",
       "50%         2.000000       0.000000       1.00000       1.000000   \n",
       "75%         3.000000       1.000000       1.00000       1.000000   \n",
       "max         3.000000       1.000000       1.00000       1.000000   \n",
       "\n",
       "        Glass Doors   Swiming Pool         Garden         Prices  \n",
       "count  500000.00000  500000.000000  500000.000000  500000.000000  \n",
       "mean        0.49987       0.500436       0.501646   42050.139350  \n",
       "std         0.50000       0.500000       0.499998   12110.237201  \n",
       "min         0.00000       0.000000       0.000000    7725.000000  \n",
       "25%         0.00000       0.000000       0.000000   33500.000000  \n",
       "50%         0.00000       1.000000       1.000000   41850.000000  \n",
       "75%         1.00000       1.000000       1.000000   50750.000000  \n",
       "max         1.00000       1.000000       1.000000   77975.000000  "
      ]
     },
     "execution_count": 4,
     "metadata": {},
     "output_type": "execute_result"
    }
   ],
   "source": [
    "df.describe()"
   ]
  },
  {
   "cell_type": "markdown",
   "metadata": {},
   "source": [
    "**Taking the general idea about the dataset, it gives all the statistical parameters of each numerical columns**"
   ]
  },
  {
   "cell_type": "code",
   "execution_count": 5,
   "metadata": {},
   "outputs": [
    {
     "data": {
      "text/html": [
       "<div>\n",
       "<style scoped>\n",
       "    .dataframe tbody tr th:only-of-type {\n",
       "        vertical-align: middle;\n",
       "    }\n",
       "\n",
       "    .dataframe tbody tr th {\n",
       "        vertical-align: top;\n",
       "    }\n",
       "\n",
       "    .dataframe thead th {\n",
       "        text-align: right;\n",
       "    }\n",
       "</style>\n",
       "<table border=\"1\" class=\"dataframe\">\n",
       "  <thead>\n",
       "    <tr style=\"text-align: right;\">\n",
       "      <th></th>\n",
       "      <th>Prices</th>\n",
       "      <th>Area</th>\n",
       "    </tr>\n",
       "  </thead>\n",
       "  <tbody>\n",
       "    <tr>\n",
       "      <th>360194</th>\n",
       "      <td>77975</td>\n",
       "      <td>241</td>\n",
       "    </tr>\n",
       "    <tr>\n",
       "      <th>255760</th>\n",
       "      <td>77700</td>\n",
       "      <td>230</td>\n",
       "    </tr>\n",
       "    <tr>\n",
       "      <th>223348</th>\n",
       "      <td>77525</td>\n",
       "      <td>233</td>\n",
       "    </tr>\n",
       "    <tr>\n",
       "      <th>176716</th>\n",
       "      <td>77375</td>\n",
       "      <td>227</td>\n",
       "    </tr>\n",
       "    <tr>\n",
       "      <th>325338</th>\n",
       "      <td>77250</td>\n",
       "      <td>222</td>\n",
       "    </tr>\n",
       "    <tr>\n",
       "      <th>425570</th>\n",
       "      <td>77225</td>\n",
       "      <td>211</td>\n",
       "    </tr>\n",
       "    <tr>\n",
       "      <th>130103</th>\n",
       "      <td>77225</td>\n",
       "      <td>241</td>\n",
       "    </tr>\n",
       "    <tr>\n",
       "      <th>156202</th>\n",
       "      <td>77175</td>\n",
       "      <td>239</td>\n",
       "    </tr>\n",
       "    <tr>\n",
       "      <th>276143</th>\n",
       "      <td>77075</td>\n",
       "      <td>235</td>\n",
       "    </tr>\n",
       "    <tr>\n",
       "      <th>136879</th>\n",
       "      <td>77000</td>\n",
       "      <td>242</td>\n",
       "    </tr>\n",
       "    <tr>\n",
       "      <th>65891</th>\n",
       "      <td>76975</td>\n",
       "      <td>231</td>\n",
       "    </tr>\n",
       "    <tr>\n",
       "      <th>260366</th>\n",
       "      <td>76950</td>\n",
       "      <td>210</td>\n",
       "    </tr>\n",
       "    <tr>\n",
       "      <th>242435</th>\n",
       "      <td>76825</td>\n",
       "      <td>245</td>\n",
       "    </tr>\n",
       "    <tr>\n",
       "      <th>486713</th>\n",
       "      <td>76800</td>\n",
       "      <td>244</td>\n",
       "    </tr>\n",
       "    <tr>\n",
       "      <th>435136</th>\n",
       "      <td>76775</td>\n",
       "      <td>243</td>\n",
       "    </tr>\n",
       "    <tr>\n",
       "      <th>383638</th>\n",
       "      <td>76750</td>\n",
       "      <td>242</td>\n",
       "    </tr>\n",
       "    <tr>\n",
       "      <th>35902</th>\n",
       "      <td>76600</td>\n",
       "      <td>226</td>\n",
       "    </tr>\n",
       "    <tr>\n",
       "      <th>496479</th>\n",
       "      <td>76550</td>\n",
       "      <td>184</td>\n",
       "    </tr>\n",
       "    <tr>\n",
       "      <th>436666</th>\n",
       "      <td>76550</td>\n",
       "      <td>244</td>\n",
       "    </tr>\n",
       "    <tr>\n",
       "      <th>71324</th>\n",
       "      <td>76500</td>\n",
       "      <td>242</td>\n",
       "    </tr>\n",
       "  </tbody>\n",
       "</table>\n",
       "</div>"
      ],
      "text/plain": [
       "        Prices  Area\n",
       "360194   77975   241\n",
       "255760   77700   230\n",
       "223348   77525   233\n",
       "176716   77375   227\n",
       "325338   77250   222\n",
       "425570   77225   211\n",
       "130103   77225   241\n",
       "156202   77175   239\n",
       "276143   77075   235\n",
       "136879   77000   242\n",
       "65891    76975   231\n",
       "260366   76950   210\n",
       "242435   76825   245\n",
       "486713   76800   244\n",
       "435136   76775   243\n",
       "383638   76750   242\n",
       "35902    76600   226\n",
       "496479   76550   184\n",
       "436666   76550   244\n",
       "71324    76500   242"
      ]
     },
     "execution_count": 5,
     "metadata": {},
     "output_type": "execute_result"
    }
   ],
   "source": [
    "top_housing_prices = df.sort_values('Prices',ascending=False)\n",
    "# Look at top 20\n",
    "top_housing_prices[['Prices','Area']].head(20)"
   ]
  },
  {
   "cell_type": "markdown",
   "metadata": {},
   "source": [
    "**Checking the top 20 Houses with their areas and prices**"
   ]
  },
  {
   "cell_type": "code",
   "execution_count": 6,
   "metadata": {},
   "outputs": [
    {
     "name": "stderr",
     "output_type": "stream",
     "text": [
      "C:\\Users\\jyoti\\Anaconda3\\lib\\site-packages\\scipy\\stats\\stats.py:1713: FutureWarning: Using a non-tuple sequence for multidimensional indexing is deprecated; use `arr[tuple(seq)]` instead of `arr[seq]`. In the future this will be interpreted as an array index, `arr[np.array(seq)]`, which will result either in an error or a different result.\n",
      "  return np.add.reduce(sorted[indexer] * weights, axis=axis) / sumval\n"
     ]
    },
    {
     "data": {
      "image/png": "[encoded data removed]",
      "text/plain": [
       "<Figure size 1152x432 with 1 Axes>"
      ]
     },
     "metadata": {
      "needs_background": "light"
     },
     "output_type": "display_data"
    }
   ],
   "source": [
    "fig, ax = plt.subplots(figsize=(16,6))\n",
    "sns.barplot(x='Area', y='Prices', data=top_housing_prices.head(33), palette='Set1')\n",
    "ax.set_xlabel(ax.get_xlabel(), labelpad=15)\n",
    "ax.set_ylabel(ax.get_ylabel(), labelpad=30)\n",
    "ax.xaxis.label.set_fontsize(16)\n",
    "ax.yaxis.label.set_fontsize(16)\n",
    "plt.xticks(rotation=90)\n",
    "plt.show()"
   ]
  },
  {
   "cell_type": "markdown",
   "metadata": {},
   "source": [
    "**Making a barplot of top 20 Prices of houses and last 20 houses's prices according to its Area**"
   ]
  },
  {
   "cell_type": "code",
   "execution_count": 7,
   "metadata": {},
   "outputs": [
    {
     "data": {
      "image/png": "[encoded data removed]",
      "text/plain": [
       "<Figure size 1152x432 with 1 Axes>"
      ]
     },
     "metadata": {
      "needs_background": "light"
     },
     "output_type": "display_data"
    }
   ],
   "source": [
    "fig, ax = plt.subplots(figsize=(16,6))\n",
    "sns.barplot(x='Area', y='Prices', data=top_housing_prices.tail(33), palette='Set1')\n",
    "ax.set_xlabel(ax.get_xlabel(), labelpad=15)\n",
    "ax.set_ylabel(ax.get_ylabel(), labelpad=30)\n",
    "ax.xaxis.label.set_fontsize(16)\n",
    "ax.yaxis.label.set_fontsize(16)\n",
    "plt.xticks(rotation=90)\n",
    "plt.show()"
   ]
  },
  {
   "cell_type": "code",
   "execution_count": 8,
   "metadata": {},
   "outputs": [
    {
     "data": {
      "text/html": [
       "<div>\n",
       "<style scoped>\n",
       "    .dataframe tbody tr th:only-of-type {\n",
       "        vertical-align: middle;\n",
       "    }\n",
       "\n",
       "    .dataframe tbody tr th {\n",
       "        vertical-align: top;\n",
       "    }\n",
       "\n",
       "    .dataframe thead th {\n",
       "        text-align: right;\n",
       "    }\n",
       "</style>\n",
       "<table border=\"1\" class=\"dataframe\">\n",
       "  <thead>\n",
       "    <tr style=\"text-align: right;\">\n",
       "      <th></th>\n",
       "      <th>total_missing</th>\n",
       "      <th>percent</th>\n",
       "    </tr>\n",
       "  </thead>\n",
       "  <tbody>\n",
       "  </tbody>\n",
       "</table>\n",
       "</div>"
      ],
      "text/plain": [
       "Empty DataFrame\n",
       "Columns: [total_missing, percent]\n",
       "Index: []"
      ]
     },
     "execution_count": 8,
     "metadata": {},
     "output_type": "execute_result"
    }
   ],
   "source": [
    "total = df.isnull().sum()[df.isnull().sum() != 0].sort_values(ascending = False)\n",
    "percent = pd.Series(round(total/len(df)*100,2))\n",
    "pd.concat([total, percent], axis=1, keys=['total_missing', 'percent'])"
   ]
  },
  {
   "cell_type": "markdown",
   "metadata": {},
   "source": [
    "**Checking the columns and the number of missing entries in them\n",
    "Examining this is important as because of this the dataset can lose expressiveness, which can lead to weak and biased analyses**"
   ]
  },
  {
   "cell_type": "code",
   "execution_count": 9,
   "metadata": {},
   "outputs": [
    {
     "name": "stdout",
     "output_type": "stream",
     "text": [
      "0         False\n",
      "1         False\n",
      "2         False\n",
      "3         False\n",
      "4         False\n",
      "5         False\n",
      "6         False\n",
      "7         False\n",
      "8         False\n",
      "9         False\n",
      "10        False\n",
      "11        False\n",
      "12        False\n",
      "13        False\n",
      "14        False\n",
      "15        False\n",
      "16        False\n",
      "17        False\n",
      "18        False\n",
      "19        False\n",
      "20        False\n",
      "21        False\n",
      "22        False\n",
      "23        False\n",
      "24        False\n",
      "25        False\n",
      "26        False\n",
      "27        False\n",
      "28        False\n",
      "29        False\n",
      "          ...  \n",
      "499970    False\n",
      "499971    False\n",
      "499972    False\n",
      "499973    False\n",
      "499974    False\n",
      "499975    False\n",
      "499976    False\n",
      "499977    False\n",
      "499978    False\n",
      "499979    False\n",
      "499980    False\n",
      "499981    False\n",
      "499982    False\n",
      "499983    False\n",
      "499984    False\n",
      "499985    False\n",
      "499986    False\n",
      "499987    False\n",
      "499988    False\n",
      "499989    False\n",
      "499990    False\n",
      "499991    False\n",
      "499992    False\n",
      "499993    False\n",
      "499994    False\n",
      "499995    False\n",
      "499996    False\n",
      "499997    False\n",
      "499998    False\n",
      "499999    False\n",
      "Name: Prices, Length: 500000, dtype: bool\n"
     ]
    }
   ],
   "source": [
    "print(np.isnan(df['Prices']))"
   ]
  },
  {
   "cell_type": "markdown",
   "metadata": {},
   "source": [
    "**Through above code we can see that no element here is null, thus we dont have to drop any row**"
   ]
  },
  {
   "cell_type": "code",
   "execution_count": 10,
   "metadata": {},
   "outputs": [
    {
     "data": {
      "text/plain": [
       "<matplotlib.axes._subplots.AxesSubplot at 0x275496d1860>"
      ]
     },
     "execution_count": 10,
     "metadata": {},
     "output_type": "execute_result"
    },
    {
     "data": {
      "image/png": "[encoded data removed]",
      "text/plain": [
       "<Figure size 1800x720 with 2 Axes>"
      ]
     },
     "metadata": {
      "needs_background": "light"
     },
     "output_type": "display_data"
    }
   ],
   "source": [
    "msno.matrix(df)"
   ]
  },
  {
   "cell_type": "markdown",
   "metadata": {},
   "source": [
    "**The above graph shows that there are no missing values**"
   ]
  },
  {
   "cell_type": "code",
   "execution_count": 11,
   "metadata": {},
   "outputs": [
    {
     "data": {
      "text/plain": [
       "Area             0.000324\n",
       "Garage          -0.002371\n",
       "FirePlace       -0.002794\n",
       "Baths            0.000948\n",
       "White Marble     0.708739\n",
       "Black Marble     0.710182\n",
       "Indian Marble    0.702414\n",
       "Floors           0.002456\n",
       "City            -0.001726\n",
       "Solar            0.005224\n",
       "Electric        -0.002600\n",
       "Fiber           -0.001872\n",
       "Glass Doors      0.000520\n",
       "Swiming Pool    -0.001744\n",
       "Garden          -0.006584\n",
       "Prices           0.035845\n",
       "dtype: float64"
      ]
     },
     "execution_count": 11,
     "metadata": {},
     "output_type": "execute_result"
    }
   ],
   "source": [
    "df.skew()"
   ]
  },
  {
   "cell_type": "markdown",
   "metadata": {},
   "source": [
    "**Skewness tells how assymmetric data is spread around the mean.. If the right tail of histogram then positive skew and negative tail is negative skew**"
   ]
  },
  {
   "cell_type": "code",
   "execution_count": 12,
   "metadata": {},
   "outputs": [
    {
     "data": {
      "text/plain": [
       "<matplotlib.axes._subplots.AxesSubplot at 0x2754964e860>"
      ]
     },
     "execution_count": 12,
     "metadata": {},
     "output_type": "execute_result"
    },
    {
     "data": {
      "image/png": "[encoded data removed]",
      "text/plain": [
       "<Figure size 432x288 with 1 Axes>"
      ]
     },
     "metadata": {
      "needs_background": "light"
     },
     "output_type": "display_data"
    }
   ],
   "source": [
    "y = df['Prices']\n",
    "plt.figure(2); plt.title('Normal')\n",
    "sns.distplot(y, kde=False, fit=st.norm)"
   ]
  },
  {
   "cell_type": "markdown",
   "metadata": {},
   "source": [
    "**The above graph shows if the dataset is normally distributed or not**"
   ]
  },
  {
   "cell_type": "code",
   "execution_count": 13,
   "metadata": {},
   "outputs": [
    {
     "data": {
      "text/plain": [
       "Area            -1.197962\n",
       "Garage          -1.501864\n",
       "FirePlace       -1.299839\n",
       "Baths           -1.299702\n",
       "White Marble    -1.497695\n",
       "Black Marble    -1.495648\n",
       "Indian Marble   -1.506620\n",
       "Floors          -2.000002\n",
       "City            -1.498939\n",
       "Solar           -1.999981\n",
       "Electric        -2.000001\n",
       "Fiber           -2.000004\n",
       "Glass Doors     -2.000008\n",
       "Swiming Pool    -2.000005\n",
       "Garden          -1.999965\n",
       "Prices          -0.492333\n",
       "dtype: float64"
      ]
     },
     "execution_count": 13,
     "metadata": {},
     "output_type": "execute_result"
    }
   ],
   "source": [
    "df.kurt()"
   ]
  },
  {
   "cell_type": "markdown",
   "metadata": {},
   "source": [
    "**The higher the kurtosis the longer is the tail of the histogram which can be seen in the above graph of skewness, but here the kurtosis ins't higher for any column**"
   ]
  },
  {
   "cell_type": "code",
   "execution_count": 14,
   "metadata": {},
   "outputs": [
    {
     "data": {
      "text/plain": [
       "<matplotlib.axes._subplots.AxesSubplot at 0x2750004d828>"
      ]
     },
     "execution_count": 14,
     "metadata": {},
     "output_type": "execute_result"
    },
    {
     "data": {
      "image/png": "[encoded data removed]",
      "text/plain": [
       "<Figure size 432x288 with 1 Axes>"
      ]
     },
     "metadata": {
      "needs_background": "light"
     },
     "output_type": "display_data"
    }
   ],
   "source": [
    "sns.distplot(df['Prices'])"
   ]
  },
  {
   "cell_type": "markdown",
   "metadata": {},
   "source": [
    "**Dist plot shows hw symettrically the data is spread as we are doing regression we need to check for this, we can see the data is symmetrical**"
   ]
  },
  {
   "cell_type": "code",
   "execution_count": 15,
   "metadata": {},
   "outputs": [
    {
     "data": {
      "text/html": [
       "<div>\n",
       "<style scoped>\n",
       "    .dataframe tbody tr th:only-of-type {\n",
       "        vertical-align: middle;\n",
       "    }\n",
       "\n",
       "    .dataframe tbody tr th {\n",
       "        vertical-align: top;\n",
       "    }\n",
       "\n",
       "    .dataframe thead th {\n",
       "        text-align: right;\n",
       "    }\n",
       "</style>\n",
       "<table border=\"1\" class=\"dataframe\">\n",
       "  <thead>\n",
       "    <tr style=\"text-align: right;\">\n",
       "      <th></th>\n",
       "      <th>Area</th>\n",
       "      <th>Garage</th>\n",
       "      <th>FirePlace</th>\n",
       "      <th>Baths</th>\n",
       "      <th>White Marble</th>\n",
       "      <th>Black Marble</th>\n",
       "      <th>Indian Marble</th>\n",
       "      <th>Floors</th>\n",
       "      <th>City</th>\n",
       "      <th>Solar</th>\n",
       "      <th>Electric</th>\n",
       "      <th>Fiber</th>\n",
       "      <th>Glass Doors</th>\n",
       "      <th>Swiming Pool</th>\n",
       "      <th>Garden</th>\n",
       "      <th>Prices</th>\n",
       "    </tr>\n",
       "  </thead>\n",
       "  <tbody>\n",
       "    <tr>\n",
       "      <th>Area</th>\n",
       "      <td>1.000000</td>\n",
       "      <td>-0.000897</td>\n",
       "      <td>0.000374</td>\n",
       "      <td>-0.000398</td>\n",
       "      <td>0.002525</td>\n",
       "      <td>-0.001477</td>\n",
       "      <td>-0.001047</td>\n",
       "      <td>-0.000776</td>\n",
       "      <td>-0.003455</td>\n",
       "      <td>0.000526</td>\n",
       "      <td>-0.000128</td>\n",
       "      <td>0.000114</td>\n",
       "      <td>-0.001230</td>\n",
       "      <td>0.000610</td>\n",
       "      <td>0.001428</td>\n",
       "      <td>0.147717</td>\n",
       "    </tr>\n",
       "    <tr>\n",
       "      <th>Garage</th>\n",
       "      <td>-0.000897</td>\n",
       "      <td>1.000000</td>\n",
       "      <td>0.001307</td>\n",
       "      <td>-0.003647</td>\n",
       "      <td>0.000541</td>\n",
       "      <td>0.001847</td>\n",
       "      <td>-0.002385</td>\n",
       "      <td>-0.000931</td>\n",
       "      <td>0.000793</td>\n",
       "      <td>0.001480</td>\n",
       "      <td>0.000779</td>\n",
       "      <td>-0.000562</td>\n",
       "      <td>-0.002171</td>\n",
       "      <td>0.001088</td>\n",
       "      <td>-0.000669</td>\n",
       "      <td>0.100294</td>\n",
       "    </tr>\n",
       "    <tr>\n",
       "      <th>FirePlace</th>\n",
       "      <td>0.000374</td>\n",
       "      <td>0.001307</td>\n",
       "      <td>1.000000</td>\n",
       "      <td>0.000643</td>\n",
       "      <td>0.000952</td>\n",
       "      <td>-0.000922</td>\n",
       "      <td>-0.000030</td>\n",
       "      <td>0.000185</td>\n",
       "      <td>-0.000211</td>\n",
       "      <td>-0.000309</td>\n",
       "      <td>0.001342</td>\n",
       "      <td>0.001818</td>\n",
       "      <td>-0.000366</td>\n",
       "      <td>0.001295</td>\n",
       "      <td>0.000231</td>\n",
       "      <td>0.089139</td>\n",
       "    </tr>\n",
       "    <tr>\n",
       "      <th>Baths</th>\n",
       "      <td>-0.000398</td>\n",
       "      <td>-0.003647</td>\n",
       "      <td>0.000643</td>\n",
       "      <td>1.000000</td>\n",
       "      <td>0.002493</td>\n",
       "      <td>-0.002739</td>\n",
       "      <td>0.000246</td>\n",
       "      <td>-0.000880</td>\n",
       "      <td>-0.000858</td>\n",
       "      <td>-0.000755</td>\n",
       "      <td>0.001047</td>\n",
       "      <td>-0.000687</td>\n",
       "      <td>-0.001668</td>\n",
       "      <td>0.002212</td>\n",
       "      <td>0.001723</td>\n",
       "      <td>0.145087</td>\n",
       "    </tr>\n",
       "    <tr>\n",
       "      <th>White Marble</th>\n",
       "      <td>0.002525</td>\n",
       "      <td>0.000541</td>\n",
       "      <td>0.000952</td>\n",
       "      <td>0.002493</td>\n",
       "      <td>1.000000</td>\n",
       "      <td>-0.498893</td>\n",
       "      <td>-0.500723</td>\n",
       "      <td>0.000078</td>\n",
       "      <td>-0.000861</td>\n",
       "      <td>-0.001583</td>\n",
       "      <td>0.000558</td>\n",
       "      <td>-0.000576</td>\n",
       "      <td>-0.000402</td>\n",
       "      <td>-0.001898</td>\n",
       "      <td>0.000959</td>\n",
       "      <td>0.448154</td>\n",
       "    </tr>\n",
       "    <tr>\n",
       "      <th>Black Marble</th>\n",
       "      <td>-0.001477</td>\n",
       "      <td>0.001847</td>\n",
       "      <td>-0.000922</td>\n",
       "      <td>-0.002739</td>\n",
       "      <td>-0.498893</td>\n",
       "      <td>1.000000</td>\n",
       "      <td>-0.500383</td>\n",
       "      <td>-0.000368</td>\n",
       "      <td>-0.000324</td>\n",
       "      <td>0.001764</td>\n",
       "      <td>-0.000549</td>\n",
       "      <td>0.000073</td>\n",
       "      <td>0.000086</td>\n",
       "      <td>0.000713</td>\n",
       "      <td>0.000133</td>\n",
       "      <td>-0.078049</td>\n",
       "    </tr>\n",
       "    <tr>\n",
       "      <th>Indian Marble</th>\n",
       "      <td>-0.001047</td>\n",
       "      <td>-0.002385</td>\n",
       "      <td>-0.000030</td>\n",
       "      <td>0.000246</td>\n",
       "      <td>-0.500723</td>\n",
       "      <td>-0.500383</td>\n",
       "      <td>1.000000</td>\n",
       "      <td>0.000289</td>\n",
       "      <td>0.001184</td>\n",
       "      <td>-0.000180</td>\n",
       "      <td>-0.000010</td>\n",
       "      <td>0.000503</td>\n",
       "      <td>0.000316</td>\n",
       "      <td>0.001184</td>\n",
       "      <td>-0.001091</td>\n",
       "      <td>-0.369756</td>\n",
       "    </tr>\n",
       "    <tr>\n",
       "      <th>Floors</th>\n",
       "      <td>-0.000776</td>\n",
       "      <td>-0.000931</td>\n",
       "      <td>0.000185</td>\n",
       "      <td>-0.000880</td>\n",
       "      <td>0.000078</td>\n",
       "      <td>-0.000368</td>\n",
       "      <td>0.000289</td>\n",
       "      <td>1.000000</td>\n",
       "      <td>-0.000641</td>\n",
       "      <td>-0.002651</td>\n",
       "      <td>0.000082</td>\n",
       "      <td>0.001373</td>\n",
       "      <td>-0.000008</td>\n",
       "      <td>-0.000211</td>\n",
       "      <td>-0.000492</td>\n",
       "      <td>0.619451</td>\n",
       "    </tr>\n",
       "    <tr>\n",
       "      <th>City</th>\n",
       "      <td>-0.003455</td>\n",
       "      <td>0.000793</td>\n",
       "      <td>-0.000211</td>\n",
       "      <td>-0.000858</td>\n",
       "      <td>-0.000861</td>\n",
       "      <td>-0.000324</td>\n",
       "      <td>0.001184</td>\n",
       "      <td>-0.000641</td>\n",
       "      <td>1.000000</td>\n",
       "      <td>0.000488</td>\n",
       "      <td>0.000788</td>\n",
       "      <td>-0.002716</td>\n",
       "      <td>0.000770</td>\n",
       "      <td>0.000322</td>\n",
       "      <td>0.001207</td>\n",
       "      <td>0.233259</td>\n",
       "    </tr>\n",
       "    <tr>\n",
       "      <th>Solar</th>\n",
       "      <td>0.000526</td>\n",
       "      <td>0.001480</td>\n",
       "      <td>-0.000309</td>\n",
       "      <td>-0.000755</td>\n",
       "      <td>-0.001583</td>\n",
       "      <td>0.001764</td>\n",
       "      <td>-0.000180</td>\n",
       "      <td>-0.002651</td>\n",
       "      <td>0.000488</td>\n",
       "      <td>1.000000</td>\n",
       "      <td>0.001883</td>\n",
       "      <td>0.000238</td>\n",
       "      <td>-0.000817</td>\n",
       "      <td>-0.000466</td>\n",
       "      <td>-0.004263</td>\n",
       "      <td>0.008429</td>\n",
       "    </tr>\n",
       "    <tr>\n",
       "      <th>Electric</th>\n",
       "      <td>-0.000128</td>\n",
       "      <td>0.000779</td>\n",
       "      <td>0.001342</td>\n",
       "      <td>0.001047</td>\n",
       "      <td>0.000558</td>\n",
       "      <td>-0.000549</td>\n",
       "      <td>-0.000010</td>\n",
       "      <td>0.000082</td>\n",
       "      <td>0.000788</td>\n",
       "      <td>0.001883</td>\n",
       "      <td>1.000000</td>\n",
       "      <td>-0.000309</td>\n",
       "      <td>0.001088</td>\n",
       "      <td>0.000571</td>\n",
       "      <td>0.000772</td>\n",
       "      <td>0.052443</td>\n",
       "    </tr>\n",
       "    <tr>\n",
       "      <th>Fiber</th>\n",
       "      <td>0.000114</td>\n",
       "      <td>-0.000562</td>\n",
       "      <td>0.001818</td>\n",
       "      <td>-0.000687</td>\n",
       "      <td>-0.000576</td>\n",
       "      <td>0.000073</td>\n",
       "      <td>0.000503</td>\n",
       "      <td>0.001373</td>\n",
       "      <td>-0.002716</td>\n",
       "      <td>0.000238</td>\n",
       "      <td>-0.000309</td>\n",
       "      <td>1.000000</td>\n",
       "      <td>-0.002268</td>\n",
       "      <td>0.004127</td>\n",
       "      <td>-0.000023</td>\n",
       "      <td>0.484626</td>\n",
       "    </tr>\n",
       "    <tr>\n",
       "      <th>Glass Doors</th>\n",
       "      <td>-0.001230</td>\n",
       "      <td>-0.002171</td>\n",
       "      <td>-0.000366</td>\n",
       "      <td>-0.001668</td>\n",
       "      <td>-0.000402</td>\n",
       "      <td>0.000086</td>\n",
       "      <td>0.000316</td>\n",
       "      <td>-0.000008</td>\n",
       "      <td>0.000770</td>\n",
       "      <td>-0.000817</td>\n",
       "      <td>0.001088</td>\n",
       "      <td>-0.002268</td>\n",
       "      <td>1.000000</td>\n",
       "      <td>0.000396</td>\n",
       "      <td>0.003329</td>\n",
       "      <td>0.181973</td>\n",
       "    </tr>\n",
       "    <tr>\n",
       "      <th>Swiming Pool</th>\n",
       "      <td>0.000610</td>\n",
       "      <td>0.001088</td>\n",
       "      <td>0.001295</td>\n",
       "      <td>0.002212</td>\n",
       "      <td>-0.001898</td>\n",
       "      <td>0.000713</td>\n",
       "      <td>0.001184</td>\n",
       "      <td>-0.000211</td>\n",
       "      <td>0.000322</td>\n",
       "      <td>-0.000466</td>\n",
       "      <td>0.000571</td>\n",
       "      <td>0.004127</td>\n",
       "      <td>0.000396</td>\n",
       "      <td>1.000000</td>\n",
       "      <td>-0.000191</td>\n",
       "      <td>0.001787</td>\n",
       "    </tr>\n",
       "    <tr>\n",
       "      <th>Garden</th>\n",
       "      <td>0.001428</td>\n",
       "      <td>-0.000669</td>\n",
       "      <td>0.000231</td>\n",
       "      <td>0.001723</td>\n",
       "      <td>0.000959</td>\n",
       "      <td>0.000133</td>\n",
       "      <td>-0.001091</td>\n",
       "      <td>-0.000492</td>\n",
       "      <td>0.001207</td>\n",
       "      <td>-0.004263</td>\n",
       "      <td>0.000772</td>\n",
       "      <td>-0.000023</td>\n",
       "      <td>0.003329</td>\n",
       "      <td>-0.000191</td>\n",
       "      <td>1.000000</td>\n",
       "      <td>0.001540</td>\n",
       "    </tr>\n",
       "    <tr>\n",
       "      <th>Prices</th>\n",
       "      <td>0.147717</td>\n",
       "      <td>0.100294</td>\n",
       "      <td>0.089139</td>\n",
       "      <td>0.145087</td>\n",
       "      <td>0.448154</td>\n",
       "      <td>-0.078049</td>\n",
       "      <td>-0.369756</td>\n",
       "      <td>0.619451</td>\n",
       "      <td>0.233259</td>\n",
       "      <td>0.008429</td>\n",
       "      <td>0.052443</td>\n",
       "      <td>0.484626</td>\n",
       "      <td>0.181973</td>\n",
       "      <td>0.001787</td>\n",
       "      <td>0.001540</td>\n",
       "      <td>1.000000</td>\n",
       "    </tr>\n",
       "  </tbody>\n",
       "</table>\n",
       "</div>"
      ],
      "text/plain": [
       "                   Area    Garage  FirePlace     Baths  White Marble  \\\n",
       "Area           1.000000 -0.000897   0.000374 -0.000398      0.002525   \n",
       "Garage        -0.000897  1.000000   0.001307 -0.003647      0.000541   \n",
       "FirePlace      0.000374  0.001307   1.000000  0.000643      0.000952   \n",
       "Baths         -0.000398 -0.003647   0.000643  1.000000      0.002493   \n",
       "White Marble   0.002525  0.000541   0.000952  0.002493      1.000000   \n",
       "Black Marble  -0.001477  0.001847  -0.000922 -0.002739     -0.498893   \n",
       "Indian Marble -0.001047 -0.002385  -0.000030  0.000246     -0.500723   \n",
       "Floors        -0.000776 -0.000931   0.000185 -0.000880      0.000078   \n",
       "City          -0.003455  0.000793  -0.000211 -0.000858     -0.000861   \n",
       "Solar          0.000526  0.001480  -0.000309 -0.000755     -0.001583   \n",
       "Electric      -0.000128  0.000779   0.001342  0.001047      0.000558   \n",
       "Fiber          0.000114 -0.000562   0.001818 -0.000687     -0.000576   \n",
       "Glass Doors   -0.001230 -0.002171  -0.000366 -0.001668     -0.000402   \n",
       "Swiming Pool   0.000610  0.001088   0.001295  0.002212     -0.001898   \n",
       "Garden         0.001428 -0.000669   0.000231  0.001723      0.000959   \n",
       "Prices         0.147717  0.100294   0.089139  0.145087      0.448154   \n",
       "\n",
       "               Black Marble  Indian Marble    Floors      City     Solar  \\\n",
       "Area              -0.001477      -0.001047 -0.000776 -0.003455  0.000526   \n",
       "Garage             0.001847      -0.002385 -0.000931  0.000793  0.001480   \n",
       "FirePlace         -0.000922      -0.000030  0.000185 -0.000211 -0.000309   \n",
       "Baths             -0.002739       0.000246 -0.000880 -0.000858 -0.000755   \n",
       "White Marble      -0.498893      -0.500723  0.000078 -0.000861 -0.001583   \n",
       "Black Marble       1.000000      -0.500383 -0.000368 -0.000324  0.001764   \n",
       "Indian Marble     -0.500383       1.000000  0.000289  0.001184 -0.000180   \n",
       "Floors            -0.000368       0.000289  1.000000 -0.000641 -0.002651   \n",
       "City              -0.000324       0.001184 -0.000641  1.000000  0.000488   \n",
       "Solar              0.001764      -0.000180 -0.002651  0.000488  1.000000   \n",
       "Electric          -0.000549      -0.000010  0.000082  0.000788  0.001883   \n",
       "Fiber              0.000073       0.000503  0.001373 -0.002716  0.000238   \n",
       "Glass Doors        0.000086       0.000316 -0.000008  0.000770 -0.000817   \n",
       "Swiming Pool       0.000713       0.001184 -0.000211  0.000322 -0.000466   \n",
       "Garden             0.000133      -0.001091 -0.000492  0.001207 -0.004263   \n",
       "Prices            -0.078049      -0.369756  0.619451  0.233259  0.008429   \n",
       "\n",
       "               Electric     Fiber  Glass Doors  Swiming Pool    Garden  \\\n",
       "Area          -0.000128  0.000114    -0.001230      0.000610  0.001428   \n",
       "Garage         0.000779 -0.000562    -0.002171      0.001088 -0.000669   \n",
       "FirePlace      0.001342  0.001818    -0.000366      0.001295  0.000231   \n",
       "Baths          0.001047 -0.000687    -0.001668      0.002212  0.001723   \n",
       "White Marble   0.000558 -0.000576    -0.000402     -0.001898  0.000959   \n",
       "Black Marble  -0.000549  0.000073     0.000086      0.000713  0.000133   \n",
       "Indian Marble -0.000010  0.000503     0.000316      0.001184 -0.001091   \n",
       "Floors         0.000082  0.001373    -0.000008     -0.000211 -0.000492   \n",
       "City           0.000788 -0.002716     0.000770      0.000322  0.001207   \n",
       "Solar          0.001883  0.000238    -0.000817     -0.000466 -0.004263   \n",
       "Electric       1.000000 -0.000309     0.001088      0.000571  0.000772   \n",
       "Fiber         -0.000309  1.000000    -0.002268      0.004127 -0.000023   \n",
       "Glass Doors    0.001088 -0.002268     1.000000      0.000396  0.003329   \n",
       "Swiming Pool   0.000571  0.004127     0.000396      1.000000 -0.000191   \n",
       "Garden         0.000772 -0.000023     0.003329     -0.000191  1.000000   \n",
       "Prices         0.052443  0.484626     0.181973      0.001787  0.001540   \n",
       "\n",
       "                 Prices  \n",
       "Area           0.147717  \n",
       "Garage         0.100294  \n",
       "FirePlace      0.089139  \n",
       "Baths          0.145087  \n",
       "White Marble   0.448154  \n",
       "Black Marble  -0.078049  \n",
       "Indian Marble -0.369756  \n",
       "Floors         0.619451  \n",
       "City           0.233259  \n",
       "Solar          0.008429  \n",
       "Electric       0.052443  \n",
       "Fiber          0.484626  \n",
       "Glass Doors    0.181973  \n",
       "Swiming Pool   0.001787  \n",
       "Garden         0.001540  \n",
       "Prices         1.000000  "
      ]
     },
     "execution_count": 15,
     "metadata": {},
     "output_type": "execute_result"
    }
   ],
   "source": [
    "df.corr()"
   ]
  },
  {
   "cell_type": "markdown",
   "metadata": {},
   "source": [
    "**Dist plot shows hw symettrically the data is spread as we are doing regression we need to check for this, we can see the data is symmetrical**"
   ]
  },
  {
   "cell_type": "code",
   "execution_count": 16,
   "metadata": {},
   "outputs": [
    {
     "data": {
      "image/png": "[encoded data removed]",
      "text/plain": [
       "<Figure size 1152x864 with 2 Axes>"
      ]
     },
     "metadata": {
      "needs_background": "light"
     },
     "output_type": "display_data"
    }
   ],
   "source": [
    "plt.figure(figsize=(16,12))\n",
    "sns.heatmap(data=df.iloc[:,:].corr(),annot=True,fmt='.2f',cmap='coolwarm')\n",
    "plt.show()"
   ]
  },
  {
   "cell_type": "markdown",
   "metadata": {},
   "source": [
    "**Heat map represents the corealtion in a better way**\n",
    "**Here we can see that White Marble,Indian Marble, Fiber and Floors are max corelated**\n",
    "**Indian Marble and White Marble are corelated with each other as well**"
   ]
  },
  {
   "cell_type": "code",
   "execution_count": 17,
   "metadata": {},
   "outputs": [
    {
     "data": {
      "text/plain": [
       "(500000, 500000)"
      ]
     },
     "execution_count": 17,
     "metadata": {},
     "output_type": "execute_result"
    }
   ],
   "source": [
    "xs = df[['Area','Garage','FirePlace','Baths','White Marble','Black Marble','Indian Marble','Floors','City','Solar','Electric','Fiber','Glass Doors','Swiming Pool','Garden']]\n",
    "ys = df['Prices']\n",
    "len(xs), len(ys)"
   ]
  },
  {
   "cell_type": "markdown",
   "metadata": {},
   "source": [
    "**Checking the total number of rows in our dataset**"
   ]
  },
  {
   "cell_type": "code",
   "execution_count": 18,
   "metadata": {},
   "outputs": [],
   "source": [
    "import h2o\n",
    "from h2o.automl import H2OAutoML\n",
    "import random, os, sys\n",
    "from datetime import datetime\n",
    "import pandas as pd\n",
    "import logging\n",
    "import csv\n",
    "import optparse\n",
    "import time\n",
    "import json\n",
    "from distutils.util import strtobool\n",
    "import psutil"
   ]
  },
  {
   "cell_type": "markdown",
   "metadata": {},
   "source": [
    "**Importing required H2o packages**"
   ]
  },
  {
   "cell_type": "code",
   "execution_count": 22,
   "metadata": {},
   "outputs": [],
   "source": [
    "data_path = (r'C:\\Users\\jyoti\\INFO_6105-master\\INFO_6105-master\\Assignments\\Final Project\\HousePrices_HalfMil.csv')"
   ]
  },
  {
   "cell_type": "code",
   "execution_count": 23,
   "metadata": {},
   "outputs": [],
   "source": [
    "data_path=None\n",
    "all_variables=None\n",
    "test_path=None\n",
    "# target='search_term'\n",
    "target=None\n",
    "nthreads=1                        # Number of parallel threads used to run Algorithms\n",
    "min_mem_size=12\n",
    "classification= False\n",
    "scale=False\n",
    "max_models=None    \n",
    "model_path=None\n",
    "balance_y=False \n",
    "balance_threshold=0.2             \n",
    "name=None \n",
    "server_path=None  \n",
    "analysis=0"
   ]
  },
  {
   "cell_type": "markdown",
   "metadata": {},
   "source": [
    "**Setting the values of the arguments that has to be passes while initialising the H2O**"
   ]
  },
  {
   "cell_type": "code",
   "execution_count": 24,
   "metadata": {},
   "outputs": [],
   "source": [
    "run_time =  1000"
   ]
  },
  {
   "cell_type": "markdown",
   "metadata": {},
   "source": [
    "**The runtime to run the automl for the generation of leaderboard is of 2000 seconds**"
   ]
  },
  {
   "cell_type": "code",
   "execution_count": 25,
   "metadata": {},
   "outputs": [
    {
     "name": "stdout",
     "output_type": "stream",
     "text": [
      "2 GB\n"
     ]
    }
   ],
   "source": [
    "pct_memory=0.5\n",
    "virtual_memory=psutil.virtual_memory()\n",
    "min_mem_size=int(round(int(pct_memory*virtual_memory.available)/1073741824,0))\n",
    "print(min_mem_size, \"GB\")"
   ]
  },
  {
   "cell_type": "markdown",
   "metadata": {},
   "source": [
    "**Setting the min_mem_size which is the memory given to automl in the system is fixed to 5 GB**"
   ]
  },
  {
   "cell_type": "code",
   "execution_count": 26,
   "metadata": {},
   "outputs": [],
   "source": [
    "#Defining functions\n",
    "\n",
    "#generating random run_id\n",
    "def alphabet(n):\n",
    "    alpha='0123456789abcdefghijklmnopqrstuvwxyzABCDEFGHIJKLMNOPQRSTUVWXYZ'    \n",
    "    str=''\n",
    "    r=len(alpha)-1   \n",
    "    while len(str)<n:\n",
    "        i=random.randint(0,r)\n",
    "        str+=alpha[i]   \n",
    "    return str\n",
    "\n",
    "# storing in m_data dictionary  \n",
    "def set_meta_data(analysis,run_id,server,data,model_path,run_time,scale,model,balance,balance_threshold,name,path,nthreads,min_mem_size):\n",
    "    \n",
    "    \n",
    "    m_data={}\n",
    "    # m_data['target']=target\n",
    "    #m_data['classification']=classification\n",
    "    m_data['project'] =name\n",
    "    m_data['run_time']=run_time\n",
    "    m_data['run_id'] =run_id\n",
    "    m_data['start_time_sec'] = time.time()\n",
    "    m_data['min_mem_size'] = min_mem_size\n",
    "    m_data['balance']=balance\n",
    "    m_data['balance_threshold']=balance_threshold \n",
    "    m_data['max_models']=model\n",
    "    m_data['scale']=scale  \n",
    "    m_data['scale']=False\n",
    "    m_data['model_path']=model_path\n",
    "    m_data['server_path']=server\n",
    "    m_data['data_path']=data \n",
    "    m_data['run_path'] =path\n",
    "    m_data['nthreads'] = nthreads\n",
    "  \n",
    "    m_data['analysis'] = analysis\n",
    "    m_data['end_time_sec'] = time.time()  \n",
    "    return m_data\n",
    "\n",
    "#converting dictionary to json\n",
    "def dict_to_json(dct,n):\n",
    "    j = json.dumps(dct, indent=4)\n",
    "    f = open(n, 'w')\n",
    "    print(j, file=f)\n",
    "    f.close()\n",
    "    \n",
    "def get_all_variables_csv(i):\n",
    "    ivd={}\n",
    "    try:\n",
    "        iv = pd.read_csv(i,header=None)\n",
    "    except:\n",
    "        sys.exit(1)    \n",
    "    col=iv.values.tolist()[0]\n",
    "    dt=iv.values.tolist()[1]\n",
    "    i=0\n",
    "    for c in col:\n",
    "        ivd[c.strip()]=dt[i].strip()\n",
    "        i+=1        \n",
    "    return ivd\n",
    "    \n",
    "# Segregating in different lists of int, enum, reals and checking for missing values and then scaling(standardizing)    \n",
    "def impute_missing_values(df, x, scal=False):\n",
    "    # determine column types\n",
    "    ints, reals, enums = [], [], []\n",
    "    for key, val in df.types.items():\n",
    "        if key in x:\n",
    "            if val == 'enum':\n",
    "                enums.append(key)\n",
    "            elif val == 'int':\n",
    "                ints.append(key)            \n",
    "            else: \n",
    "                reals.append(key)    \n",
    "    _ = df[reals].impute(method='mean')\n",
    "    _ = df[ints].impute(method='median')\n",
    "    if scal:\n",
    "        df[reals] = df[reals].scale()\n",
    "        df[ints] = df[ints].scale()    \n",
    "    return\n",
    "\n",
    "# Determining Independent variables (X) from the dataset \n",
    "def get_independent_variables(df, targ):\n",
    "    C = [name for name in df.columns if name != targ]\n",
    "    # determine column types\n",
    "    ints, reals, enums = [], [], []\n",
    "    for key, val in df.types.items():\n",
    "        if key in C:\n",
    "            if val == 'enum':\n",
    "                enums.append(key)\n",
    "            elif val == 'int':\n",
    "                ints.append(key)            \n",
    "            else: \n",
    "                reals.append(key)    \n",
    "    x=ints+enums+reals\n",
    "    return x\n",
    "\n",
    "#Checkinh if X does not exist then remove\n",
    "def check_X(x,df):\n",
    "    for name in x:\n",
    "        if name not in df.columns:\n",
    "            x.remove(name)  \n",
    "    return x"
   ]
  },
  {
   "cell_type": "markdown",
   "metadata": {},
   "source": [
    "**Above functions are the metadata and the such as name of the model, creating unique name to the folders and the model, runtime of each model, setting the server path and data path etc**"
   ]
  },
  {
   "cell_type": "code",
   "execution_count": 27,
   "metadata": {},
   "outputs": [
    {
     "name": "stdout",
     "output_type": "stream",
     "text": [
      "Mm6uuQsCb\n"
     ]
    }
   ],
   "source": [
    "#RUN_ID\n",
    "\n",
    "#randomly generating run_id through alphabet function\n",
    "run_id=alphabet(9)\n",
    "if server_path==None:\n",
    "    server_path=os.path.abspath(os.curdir)\n",
    "os.chdir(server_path) \n",
    "a = run_id + '_EmpAccess_' + str(run_time)\n",
    "run_dir = os.path.join(server_path,a)\n",
    "os.mkdir(run_dir)\n",
    "os.chdir(run_dir)    \n",
    "\n",
    "# run_id to std out\n",
    "print (run_id)\n"
   ]
  },
  {
   "cell_type": "markdown",
   "metadata": {},
   "source": [
    "**Using the above function a unique name code has been generated for the model, each time we run the function the model code is going to get changed**"
   ]
  },
  {
   "cell_type": "markdown",
   "metadata": {},
   "source": [
    "-  **Creating a log file**\n",
    "-  **logfile=run_id+'_autoh2o_log.zip'**\n",
    "-  **logs_path=os.path.join(run_dir,'logs')**\n",
    "-  **print(logs_path,' ',logfile)**"
   ]
  },
  {
   "cell_type": "code",
   "execution_count": 29,
   "metadata": {},
   "outputs": [
    {
     "data": {
      "text/plain": [
       "'Mm6uuQsCb_EmpAccess_1000'"
      ]
     },
     "execution_count": 29,
     "metadata": {},
     "output_type": "execute_result"
    }
   ],
   "source": [
    "name = run_id+'_EmpAccess_' + str(run_time)\n",
    "name"
   ]
  },
  {
   "cell_type": "code",
   "execution_count": 30,
   "metadata": {},
   "outputs": [
    {
     "name": "stdout",
     "output_type": "stream",
     "text": [
      "{'project': 'Mm6uuQsCb_EmpAccess_1000', 'run_time': 1000, 'run_id': 'Mm6uuQsCb', 'start_time_sec': 1556318291.4987745, 'min_mem_size': 2, 'balance': False, 'balance_threshold': 0.2, 'max_models': None, 'scale': False, 'model_path': None, 'server_path': 'C:\\\\Users\\\\jyoti\\\\INFO_6105-master\\\\INFO_6105-master\\\\Assignments\\\\Final Project', 'data_path': None, 'run_path': 'C:\\\\Users\\\\jyoti\\\\INFO_6105-master\\\\INFO_6105-master\\\\Assignments\\\\Final Project\\\\Mm6uuQsCb_EmpAccess_1000', 'nthreads': 1, 'analysis': 0, 'end_time_sec': 1556318291.4987745}\n"
     ]
    }
   ],
   "source": [
    "# meta data\n",
    "meta_data = set_meta_data(analysis, run_id,server_path,data_path,model_path,run_time,scale,max_models,balance_y,balance_threshold,name,run_dir,nthreads,min_mem_size)\n",
    "print(meta_data)"
   ]
  },
  {
   "cell_type": "markdown",
   "metadata": {},
   "source": [
    "**Setting the values for the metadata file**"
   ]
  },
  {
   "cell_type": "code",
   "execution_count": 31,
   "metadata": {},
   "outputs": [
    {
     "name": "stdout",
     "output_type": "stream",
     "text": [
      "Problem Type:  Regression\n"
     ]
    }
   ],
   "source": [
    "if classification :\n",
    "    meta_data[\"Problem_type\"] = \"Classification\"\n",
    "    print(\"Problem Type:  Classification\")\n",
    "else:\n",
    "    meta_data[\"Problem_type\"] = \"Regression\"\n",
    "    print(\"Problem Type:  Regression\")"
   ]
  },
  {
   "cell_type": "markdown",
   "metadata": {},
   "source": [
    "**Displaying if the problem is of regression type or classification**"
   ]
  },
  {
   "cell_type": "markdown",
   "metadata": {},
   "source": [
    "### **Initializing H2O**"
   ]
  },
  {
   "cell_type": "code",
   "execution_count": 32,
   "metadata": {},
   "outputs": [
    {
     "name": "stdout",
     "output_type": "stream",
     "text": [
      "Checking whether there is an H2O instance running at http://localhost:14670..... not found.\n",
      "Attempting to start a local H2O server...\n",
      "; OpenJDK 64-Bit Server VM (build 25.152-b12, mixed mode)56-b12)\n",
      "  Starting server from C:\\Users\\jyoti\\Anaconda3\\lib\\site-packages\\h2o\\backend\\bin\\h2o.jar\n",
      "  Ice root: C:\\Users\\jyoti\\AppData\\Local\\Temp\\tmp8gbaihni\n",
      "  JVM stdout: C:\\Users\\jyoti\\AppData\\Local\\Temp\\tmp8gbaihni\\h2o_jyoti_started_from_python.out\n",
      "  JVM stderr: C:\\Users\\jyoti\\AppData\\Local\\Temp\\tmp8gbaihni\\h2o_jyoti_started_from_python.err\n",
      "  Server is running at http://127.0.0.1:14670\n",
      "Connecting to H2O server at http://127.0.0.1:14670... successful.\n"
     ]
    },
    {
     "data": {
      "text/html": [
       "<div style=\"overflow:auto\"><table style=\"width:50%\"><tr><td>H2O cluster uptime:</td>\n",
       "<td>01 secs</td></tr>\n",
       "<tr><td>H2O cluster timezone:</td>\n",
       "<td>America/New_York</td></tr>\n",
       "<tr><td>H2O data parsing timezone:</td>\n",
       "<td>UTC</td></tr>\n",
       "<tr><td>H2O cluster version:</td>\n",
       "<td>3.22.1.6</td></tr>\n",
       "<tr><td>H2O cluster version age:</td>\n",
       "<td>1 month and 12 days </td></tr>\n",
       "<tr><td>H2O cluster name:</td>\n",
       "<td>H2O_from_python_jyoti_tqw7f3</td></tr>\n",
       "<tr><td>H2O cluster total nodes:</td>\n",
       "<td>1</td></tr>\n",
       "<tr><td>H2O cluster free memory:</td>\n",
       "<td>3.521 Gb</td></tr>\n",
       "<tr><td>H2O cluster total cores:</td>\n",
       "<td>8</td></tr>\n",
       "<tr><td>H2O cluster allowed cores:</td>\n",
       "<td>8</td></tr>\n",
       "<tr><td>H2O cluster status:</td>\n",
       "<td>accepting new members, healthy</td></tr>\n",
       "<tr><td>H2O connection url:</td>\n",
       "<td>http://127.0.0.1:14670</td></tr>\n",
       "<tr><td>H2O connection proxy:</td>\n",
       "<td>None</td></tr>\n",
       "<tr><td>H2O internal security:</td>\n",
       "<td>False</td></tr>\n",
       "<tr><td>H2O API Extensions:</td>\n",
       "<td>Amazon S3, Algos, AutoML, Core V3, Core V4</td></tr>\n",
       "<tr><td>Python version:</td>\n",
       "<td>3.7.1 final</td></tr></table></div>"
      ],
      "text/plain": [
       "--------------------------  ------------------------------------------\n",
       "H2O cluster uptime:         01 secs\n",
       "H2O cluster timezone:       America/New_York\n",
       "H2O data parsing timezone:  UTC\n",
       "H2O cluster version:        3.22.1.6\n",
       "H2O cluster version age:    1 month and 12 days\n",
       "H2O cluster name:           H2O_from_python_jyoti_tqw7f3\n",
       "H2O cluster total nodes:    1\n",
       "H2O cluster free memory:    3.521 Gb\n",
       "H2O cluster total cores:    8\n",
       "H2O cluster allowed cores:  8\n",
       "H2O cluster status:         accepting new members, healthy\n",
       "H2O connection url:         http://127.0.0.1:14670\n",
       "H2O connection proxy:\n",
       "H2O internal security:      False\n",
       "H2O API Extensions:         Amazon S3, Algos, AutoML, Core V3, Core V4\n",
       "Python version:             3.7.1 final\n",
       "--------------------------  ------------------------------------------"
      ]
     },
     "metadata": {},
     "output_type": "display_data"
    }
   ],
   "source": [
    "# 65535 Highest port no\n",
    "port_no=random.randint(5555,55555)\n",
    "\n",
    "#initializing H2O\n",
    "h2o.init(strict_version_check=False,min_mem_size_GB=min_mem_size,port=port_no)"
   ]
  },
  {
   "cell_type": "code",
   "execution_count": 34,
   "metadata": {},
   "outputs": [],
   "source": [
    "data_path = (r'C:\\Users\\jyoti\\INFO_6105-master\\INFO_6105-master\\Assignments\\Final Project\\HousePrices_HalfMil.csv')"
   ]
  },
  {
   "cell_type": "markdown",
   "metadata": {},
   "source": [
    "**Importing the data from the datapath of the system**"
   ]
  },
  {
   "cell_type": "code",
   "execution_count": 35,
   "metadata": {},
   "outputs": [
    {
     "name": "stdout",
     "output_type": "stream",
     "text": [
      "C:\\Users\\jyoti\\INFO_6105-master\\INFO_6105-master\\Assignments\\Final Project\\HousePrices_HalfMil.csv\n"
     ]
    }
   ],
   "source": [
    "print(data_path)"
   ]
  },
  {
   "cell_type": "code",
   "execution_count": 36,
   "metadata": {},
   "outputs": [
    {
     "name": "stdout",
     "output_type": "stream",
     "text": [
      "Parse progress: |█████████████████████████████████████████████████████████| 100%\n"
     ]
    }
   ],
   "source": [
    "#importing data file on h2o server\n",
    "data = h2o.import_file(data_path)"
   ]
  },
  {
   "cell_type": "markdown",
   "metadata": {},
   "source": [
    "**Feeding the data to H2O Automl**"
   ]
  },
  {
   "cell_type": "code",
   "execution_count": 37,
   "metadata": {},
   "outputs": [
    {
     "data": {
      "text/html": [
       "<table>\n",
       "<thead>\n",
       "<tr><th style=\"text-align: right;\">  Area</th><th style=\"text-align: right;\">  Garage</th><th style=\"text-align: right;\">  FirePlace</th><th style=\"text-align: right;\">  Baths</th><th style=\"text-align: right;\">  White Marble</th><th style=\"text-align: right;\">  Black Marble</th><th style=\"text-align: right;\">  Indian Marble</th><th style=\"text-align: right;\">  Floors</th><th style=\"text-align: right;\">  City</th><th style=\"text-align: right;\">  Solar</th><th style=\"text-align: right;\">  Electric</th><th style=\"text-align: right;\">  Fiber</th><th style=\"text-align: right;\">  Glass Doors</th><th style=\"text-align: right;\">  Swiming Pool</th><th style=\"text-align: right;\">  Garden</th><th style=\"text-align: right;\">  Prices</th></tr>\n",
       "</thead>\n",
       "<tbody>\n",
       "<tr><td style=\"text-align: right;\">   164</td><td style=\"text-align: right;\">       2</td><td style=\"text-align: right;\">          0</td><td style=\"text-align: right;\">      2</td><td style=\"text-align: right;\">             0</td><td style=\"text-align: right;\">             1</td><td style=\"text-align: right;\">              0</td><td style=\"text-align: right;\">       0</td><td style=\"text-align: right;\">     3</td><td style=\"text-align: right;\">      1</td><td style=\"text-align: right;\">         1</td><td style=\"text-align: right;\">      1</td><td style=\"text-align: right;\">            1</td><td style=\"text-align: right;\">             0</td><td style=\"text-align: right;\">       0</td><td style=\"text-align: right;\">   43800</td></tr>\n",
       "<tr><td style=\"text-align: right;\">    84</td><td style=\"text-align: right;\">       2</td><td style=\"text-align: right;\">          0</td><td style=\"text-align: right;\">      4</td><td style=\"text-align: right;\">             0</td><td style=\"text-align: right;\">             0</td><td style=\"text-align: right;\">              1</td><td style=\"text-align: right;\">       1</td><td style=\"text-align: right;\">     2</td><td style=\"text-align: right;\">      0</td><td style=\"text-align: right;\">         0</td><td style=\"text-align: right;\">      0</td><td style=\"text-align: right;\">            1</td><td style=\"text-align: right;\">             1</td><td style=\"text-align: right;\">       1</td><td style=\"text-align: right;\">   37550</td></tr>\n",
       "<tr><td style=\"text-align: right;\">   190</td><td style=\"text-align: right;\">       2</td><td style=\"text-align: right;\">          4</td><td style=\"text-align: right;\">      4</td><td style=\"text-align: right;\">             1</td><td style=\"text-align: right;\">             0</td><td style=\"text-align: right;\">              0</td><td style=\"text-align: right;\">       0</td><td style=\"text-align: right;\">     2</td><td style=\"text-align: right;\">      0</td><td style=\"text-align: right;\">         0</td><td style=\"text-align: right;\">      1</td><td style=\"text-align: right;\">            0</td><td style=\"text-align: right;\">             0</td><td style=\"text-align: right;\">       0</td><td style=\"text-align: right;\">   49500</td></tr>\n",
       "<tr><td style=\"text-align: right;\">    75</td><td style=\"text-align: right;\">       2</td><td style=\"text-align: right;\">          4</td><td style=\"text-align: right;\">      4</td><td style=\"text-align: right;\">             0</td><td style=\"text-align: right;\">             0</td><td style=\"text-align: right;\">              1</td><td style=\"text-align: right;\">       1</td><td style=\"text-align: right;\">     1</td><td style=\"text-align: right;\">      1</td><td style=\"text-align: right;\">         1</td><td style=\"text-align: right;\">      1</td><td style=\"text-align: right;\">            1</td><td style=\"text-align: right;\">             1</td><td style=\"text-align: right;\">       1</td><td style=\"text-align: right;\">   50075</td></tr>\n",
       "<tr><td style=\"text-align: right;\">   148</td><td style=\"text-align: right;\">       1</td><td style=\"text-align: right;\">          4</td><td style=\"text-align: right;\">      2</td><td style=\"text-align: right;\">             1</td><td style=\"text-align: right;\">             0</td><td style=\"text-align: right;\">              0</td><td style=\"text-align: right;\">       1</td><td style=\"text-align: right;\">     2</td><td style=\"text-align: right;\">      1</td><td style=\"text-align: right;\">         0</td><td style=\"text-align: right;\">      0</td><td style=\"text-align: right;\">            1</td><td style=\"text-align: right;\">             1</td><td style=\"text-align: right;\">       1</td><td style=\"text-align: right;\">   52400</td></tr>\n",
       "<tr><td style=\"text-align: right;\">   124</td><td style=\"text-align: right;\">       3</td><td style=\"text-align: right;\">          3</td><td style=\"text-align: right;\">      3</td><td style=\"text-align: right;\">             0</td><td style=\"text-align: right;\">             1</td><td style=\"text-align: right;\">              0</td><td style=\"text-align: right;\">       1</td><td style=\"text-align: right;\">     1</td><td style=\"text-align: right;\">      0</td><td style=\"text-align: right;\">         0</td><td style=\"text-align: right;\">      1</td><td style=\"text-align: right;\">            1</td><td style=\"text-align: right;\">             1</td><td style=\"text-align: right;\">       1</td><td style=\"text-align: right;\">   54300</td></tr>\n",
       "<tr><td style=\"text-align: right;\">    58</td><td style=\"text-align: right;\">       1</td><td style=\"text-align: right;\">          0</td><td style=\"text-align: right;\">      2</td><td style=\"text-align: right;\">             0</td><td style=\"text-align: right;\">             0</td><td style=\"text-align: right;\">              1</td><td style=\"text-align: right;\">       0</td><td style=\"text-align: right;\">     3</td><td style=\"text-align: right;\">      0</td><td style=\"text-align: right;\">         1</td><td style=\"text-align: right;\">      1</td><td style=\"text-align: right;\">            1</td><td style=\"text-align: right;\">             0</td><td style=\"text-align: right;\">       1</td><td style=\"text-align: right;\">   34400</td></tr>\n",
       "<tr><td style=\"text-align: right;\">   249</td><td style=\"text-align: right;\">       2</td><td style=\"text-align: right;\">          1</td><td style=\"text-align: right;\">      1</td><td style=\"text-align: right;\">             1</td><td style=\"text-align: right;\">             0</td><td style=\"text-align: right;\">              0</td><td style=\"text-align: right;\">       1</td><td style=\"text-align: right;\">     1</td><td style=\"text-align: right;\">      0</td><td style=\"text-align: right;\">         1</td><td style=\"text-align: right;\">      0</td><td style=\"text-align: right;\">            1</td><td style=\"text-align: right;\">             1</td><td style=\"text-align: right;\">       0</td><td style=\"text-align: right;\">   50425</td></tr>\n",
       "<tr><td style=\"text-align: right;\">   243</td><td style=\"text-align: right;\">       1</td><td style=\"text-align: right;\">          0</td><td style=\"text-align: right;\">      2</td><td style=\"text-align: right;\">             0</td><td style=\"text-align: right;\">             0</td><td style=\"text-align: right;\">              1</td><td style=\"text-align: right;\">       1</td><td style=\"text-align: right;\">     1</td><td style=\"text-align: right;\">      0</td><td style=\"text-align: right;\">         0</td><td style=\"text-align: right;\">      0</td><td style=\"text-align: right;\">            0</td><td style=\"text-align: right;\">             1</td><td style=\"text-align: right;\">       0</td><td style=\"text-align: right;\">   29575</td></tr>\n",
       "<tr><td style=\"text-align: right;\">   242</td><td style=\"text-align: right;\">       1</td><td style=\"text-align: right;\">          2</td><td style=\"text-align: right;\">      4</td><td style=\"text-align: right;\">             0</td><td style=\"text-align: right;\">             0</td><td style=\"text-align: right;\">              1</td><td style=\"text-align: right;\">       0</td><td style=\"text-align: right;\">     2</td><td style=\"text-align: right;\">      1</td><td style=\"text-align: right;\">         0</td><td style=\"text-align: right;\">      0</td><td style=\"text-align: right;\">            0</td><td style=\"text-align: right;\">             1</td><td style=\"text-align: right;\">       0</td><td style=\"text-align: right;\">   22300</td></tr>\n",
       "</tbody>\n",
       "</table>"
      ]
     },
     "metadata": {},
     "output_type": "display_data"
    },
    {
     "data": {
      "text/plain": []
     },
     "execution_count": 37,
     "metadata": {},
     "output_type": "execute_result"
    }
   ],
   "source": [
    "data.head()"
   ]
  },
  {
   "cell_type": "code",
   "execution_count": 38,
   "metadata": {},
   "outputs": [
    {
     "name": "stdout",
     "output_type": "stream",
     "text": [
      "Total rows in the data set =  500000\n",
      "Total Columns in the data set =  16\n",
      "rows X columns =  (500000, 16)\n",
      "Total Records =  8000000\n"
     ]
    }
   ],
   "source": [
    "rows = len(data)\n",
    "print(\"Total rows in the data set = \", rows)\n",
    "cols = len(data.columns)\n",
    "print(\"Total Columns in the data set = \", cols)\n",
    "\n",
    "rowscols = data.shape\n",
    "shape = rows * cols\n",
    "print(\"rows X columns = \", rowscols)\n",
    "print(\"Total Records = \", shape)\n",
    "\n",
    "meta_data['Total Records'] = shape"
   ]
  },
  {
   "cell_type": "markdown",
   "metadata": {},
   "source": [
    "**Displaying the details of the dataset above**"
   ]
  },
  {
   "cell_type": "code",
   "execution_count": 39,
   "metadata": {},
   "outputs": [
    {
     "data": {
      "text/plain": [
       "'Mm6uuQsCbHousePrices_HalfMil_1000'"
      ]
     },
     "execution_count": 39,
     "metadata": {},
     "output_type": "execute_result"
    }
   ],
   "source": [
    "name = run_id+'HousePrices_HalfMil_1000'\n",
    "name"
   ]
  },
  {
   "cell_type": "markdown",
   "metadata": {},
   "source": [
    "**The above name will be used as folder name to generate the csv and jason files**"
   ]
  },
  {
   "cell_type": "code",
   "execution_count": 40,
   "metadata": {},
   "outputs": [
    {
     "data": {
      "text/plain": [
       "'Prices'"
      ]
     },
     "execution_count": 40,
     "metadata": {},
     "output_type": "execute_result"
    }
   ],
   "source": [
    "# dependent variable\n",
    "# assign target an d inputs for classification or regression\n",
    "if target==None:\n",
    "    target=\"Prices\"   \n",
    "y = target\n",
    "meta_data['Target']=y\n",
    "y"
   ]
  },
  {
   "cell_type": "markdown",
   "metadata": {},
   "source": [
    "**Setting the name of the columns**"
   ]
  },
  {
   "cell_type": "code",
   "execution_count": 41,
   "metadata": {},
   "outputs": [],
   "source": [
    "if all_variables is not None:\n",
    "    ivd=get_all_variables_csv(all_variables)\n",
    "    print(ivd)    \n",
    "    X=check_all_variables(data,ivd,y)\n",
    "    print(X)"
   ]
  },
  {
   "cell_type": "code",
   "execution_count": 42,
   "metadata": {},
   "outputs": [
    {
     "name": "stdout",
     "output_type": "stream",
     "text": [
      "['Area', 'Garage', 'FirePlace', 'Baths', 'White Marble', 'Black Marble', 'Indian Marble', 'Floors', 'City', 'Solar', 'Electric', 'Fiber', 'Glass Doors', 'Swiming Pool', 'Garden']\n"
     ]
    }
   ],
   "source": [
    "# independent variables\n",
    "# putting all independent variables in the list X \n",
    "\n",
    "X = []  \n",
    "if all_variables is None:\n",
    "    X=get_independent_variables(data, target)  \n",
    "    print(X)  \n",
    "else: \n",
    "    ivd=get_all_variables_csv(all_variables)    \n",
    "    X=check_all_variables(data, ivd)\n",
    "\n",
    "\n",
    "X=check_X(X,data)\n",
    "\n",
    "\n",
    "# Add independent variables to meta data\n",
    "\n",
    "meta_data['X']=X  \n",
    "\n",
    "\n",
    "# impute missing values\n",
    "\n",
    "_=impute_missing_values(data,X, scale)"
   ]
  },
  {
   "cell_type": "markdown",
   "metadata": {},
   "source": [
    "**Setting the column name of the predictors in the X**"
   ]
  },
  {
   "cell_type": "code",
   "execution_count": 43,
   "metadata": {},
   "outputs": [],
   "source": [
    "def get_variables_types(data):\n",
    "    d={}\n",
    "    for key, val in data.types.items():\n",
    "        d[key]=val           \n",
    "    return d"
   ]
  },
  {
   "cell_type": "code",
   "execution_count": 44,
   "metadata": {},
   "outputs": [
    {
     "data": {
      "text/plain": [
       "{'Area': 'int',\n",
       " 'Garage': 'int',\n",
       " 'FirePlace': 'int',\n",
       " 'Baths': 'int',\n",
       " 'White Marble': 'int',\n",
       " 'Black Marble': 'int',\n",
       " 'Indian Marble': 'int',\n",
       " 'Floors': 'int',\n",
       " 'City': 'int',\n",
       " 'Solar': 'int',\n",
       " 'Electric': 'int',\n",
       " 'Fiber': 'int',\n",
       " 'Glass Doors': 'int',\n",
       " 'Swiming Pool': 'int',\n",
       " 'Garden': 'int',\n",
       " 'Prices': 'int'}"
      ]
     },
     "execution_count": 44,
     "metadata": {},
     "output_type": "execute_result"
    }
   ],
   "source": [
    "allV=get_variables_types(data)\n",
    "allV"
   ]
  },
  {
   "cell_type": "markdown",
   "metadata": {},
   "source": [
    "**Checking the datatype of each column**"
   ]
  },
  {
   "cell_type": "code",
   "execution_count": 45,
   "metadata": {},
   "outputs": [],
   "source": [
    "# Adding the data types to meta data \n",
    "meta_data['variables']=allV"
   ]
  },
  {
   "cell_type": "code",
   "execution_count": 46,
   "metadata": {},
   "outputs": [
    {
     "name": "stdout",
     "output_type": "stream",
     "text": [
      "Parse progress: |█████████████████████████████████████████████████████████| 100%\n"
     ]
    }
   ],
   "source": [
    "data1 = h2o.H2OFrame(df)"
   ]
  },
  {
   "cell_type": "markdown",
   "metadata": {},
   "source": [
    "**Giving the data to H2O dataframe**"
   ]
  },
  {
   "cell_type": "code",
   "execution_count": 47,
   "metadata": {},
   "outputs": [],
   "source": [
    "train,test = data.split_frame(ratios=[0.8],seed=123)"
   ]
  },
  {
   "cell_type": "code",
   "execution_count": 48,
   "metadata": {},
   "outputs": [],
   "source": [
    "x = ['Area','Garage','FirePlace','Baths','White Marble','Black Marble','Indian Marble','Floors','City','Solar','Electric','Fiber','Glass Doors','Swiming Pool','Garden']\n",
    "y = 'Prices'"
   ]
  },
  {
   "cell_type": "code",
   "execution_count": 47,
   "metadata": {},
   "outputs": [],
   "source": [
    "from h2o.automl import H2OAutoML\n",
    "aml = H2OAutoML(max_runtime_secs=1000)"
   ]
  },
  {
   "cell_type": "code",
   "execution_count": 80,
   "metadata": {},
   "outputs": [],
   "source": [
    "model_start_time = time.time()"
   ]
  },
  {
   "cell_type": "code",
   "execution_count": 81,
   "metadata": {},
   "outputs": [
    {
     "name": "stdout",
     "output_type": "stream",
     "text": [
      "AutoML progress: |████████████████████████████████████████████████████████| 100%\n"
     ]
    }
   ],
   "source": [
    "aml.train(x=x,y=y,training_frame=train)"
   ]
  },
  {
   "cell_type": "markdown",
   "metadata": {},
   "source": [
    "**Ran the automl for 1000 seconds**"
   ]
  },
  {
   "cell_type": "code",
   "execution_count": 82,
   "metadata": {},
   "outputs": [
    {
     "name": "stdout",
     "output_type": "stream",
     "text": [
      "Execution time for  1000 sec =   1060.0588459968567\n"
     ]
    }
   ],
   "source": [
    "execution_time =  time.time() - model_start_time\n",
    "meta_data['model_execution_time_sec'] = execution_time\n",
    "print(\"Execution time for \", run_time,\"sec =  \",meta_data['model_execution_time_sec'])"
   ]
  },
  {
   "cell_type": "code",
   "execution_count": 54,
   "metadata": {},
   "outputs": [
    {
     "data": {
      "text/html": [
       "<div>\n",
       "<style scoped>\n",
       "    .dataframe tbody tr th:only-of-type {\n",
       "        vertical-align: middle;\n",
       "    }\n",
       "\n",
       "    .dataframe tbody tr th {\n",
       "        vertical-align: top;\n",
       "    }\n",
       "\n",
       "    .dataframe thead th {\n",
       "        text-align: right;\n",
       "    }\n",
       "</style>\n",
       "<table border=\"1\" class=\"dataframe\">\n",
       "  <thead>\n",
       "    <tr style=\"text-align: right;\">\n",
       "      <th></th>\n",
       "      <th>model_id</th>\n",
       "      <th>mean_residual_deviance</th>\n",
       "      <th>rmse</th>\n",
       "      <th>mse</th>\n",
       "      <th>mae</th>\n",
       "      <th>rmsle</th>\n",
       "    </tr>\n",
       "  </thead>\n",
       "  <tbody>\n",
       "    <tr>\n",
       "      <th>0</th>\n",
       "      <td>GBM_2_AutoML_20190417_182705</td>\n",
       "      <td>2.966410e+04</td>\n",
       "      <td>172.232686</td>\n",
       "      <td>2.966410e+04</td>\n",
       "      <td>136.530259</td>\n",
       "      <td>0.004781</td>\n",
       "    </tr>\n",
       "    <tr>\n",
       "      <th>1</th>\n",
       "      <td>GBM_1_AutoML_20190417_182705</td>\n",
       "      <td>3.482398e+04</td>\n",
       "      <td>186.611848</td>\n",
       "      <td>3.482398e+04</td>\n",
       "      <td>148.092800</td>\n",
       "      <td>0.005145</td>\n",
       "    </tr>\n",
       "    <tr>\n",
       "      <th>2</th>\n",
       "      <td>GLM_grid_1_AutoML_20190417_181353_model_1</td>\n",
       "      <td>1.463908e+08</td>\n",
       "      <td>12099.205650</td>\n",
       "      <td>1.463908e+08</td>\n",
       "      <td>9888.143986</td>\n",
       "      <td>0.320038</td>\n",
       "    </tr>\n",
       "    <tr>\n",
       "      <th>3</th>\n",
       "      <td>GLM_grid_1_AutoML_20190417_182705_model_1</td>\n",
       "      <td>1.463908e+08</td>\n",
       "      <td>12099.205650</td>\n",
       "      <td>1.463908e+08</td>\n",
       "      <td>9888.143986</td>\n",
       "      <td>0.320038</td>\n",
       "    </tr>\n",
       "    <tr>\n",
       "      <th>4</th>\n",
       "      <td>StackedEnsemble_BestOfFamily_AutoML_20190417_1...</td>\n",
       "      <td>1.463913e+08</td>\n",
       "      <td>12099.225749</td>\n",
       "      <td>1.463913e+08</td>\n",
       "      <td>9888.129941</td>\n",
       "      <td>0.320038</td>\n",
       "    </tr>\n",
       "    <tr>\n",
       "      <th>5</th>\n",
       "      <td>StackedEnsemble_AllModels_AutoML_20190417_181353</td>\n",
       "      <td>1.463913e+08</td>\n",
       "      <td>12099.226738</td>\n",
       "      <td>1.463913e+08</td>\n",
       "      <td>9888.129709</td>\n",
       "      <td>0.320038</td>\n",
       "    </tr>\n",
       "  </tbody>\n",
       "</table>\n",
       "</div>"
      ],
      "text/plain": [
       "                                            model_id  mean_residual_deviance  \\\n",
       "0                       GBM_2_AutoML_20190417_182705            2.966410e+04   \n",
       "1                       GBM_1_AutoML_20190417_182705            3.482398e+04   \n",
       "2          GLM_grid_1_AutoML_20190417_181353_model_1            1.463908e+08   \n",
       "3          GLM_grid_1_AutoML_20190417_182705_model_1            1.463908e+08   \n",
       "4  StackedEnsemble_BestOfFamily_AutoML_20190417_1...            1.463913e+08   \n",
       "5   StackedEnsemble_AllModels_AutoML_20190417_181353            1.463913e+08   \n",
       "\n",
       "           rmse           mse          mae     rmsle  \n",
       "0    172.232686  2.966410e+04   136.530259  0.004781  \n",
       "1    186.611848  3.482398e+04   148.092800  0.005145  \n",
       "2  12099.205650  1.463908e+08  9888.143986  0.320038  \n",
       "3  12099.205650  1.463908e+08  9888.143986  0.320038  \n",
       "4  12099.225749  1.463913e+08  9888.129941  0.320038  \n",
       "5  12099.226738  1.463913e+08  9888.129709  0.320038  "
      ]
     },
     "execution_count": 54,
     "metadata": {},
     "output_type": "execute_result"
    }
   ],
   "source": [
    "lb2 = aml.leaderboard.as_data_frame()\n",
    "lb2"
   ]
  },
  {
   "cell_type": "markdown",
   "metadata": {},
   "source": [
    "**Leaderboard that displays the model generated by the automl**"
   ]
  },
  {
   "cell_type": "code",
   "execution_count": 55,
   "metadata": {},
   "outputs": [],
   "source": [
    "length = len(lb1)- 1\n",
    "length\n",
    "meta_data[\"Models_generated\"] = length"
   ]
  },
  {
   "cell_type": "code",
   "execution_count": 56,
   "metadata": {},
   "outputs": [],
   "source": [
    "# save leaderboard to csv\n",
    "# run_time = run_time.ascharacter()\n",
    "leaderboard_stats=run_id+'Melbournehousingprices_500' + '_leaderboard.csv'\n",
    "lb1.to_csv(leaderboard_stats)"
   ]
  },
  {
   "cell_type": "markdown",
   "metadata": {},
   "source": [
    "**Setting the leaderboard to CSV with the name given above**"
   ]
  },
  {
   "cell_type": "code",
   "execution_count": 57,
   "metadata": {},
   "outputs": [],
   "source": [
    "# STart best model as first model\n",
    "model_set=lb1['model_id']\n",
    "mod_best=h2o.get_model(model_set[0])"
   ]
  },
  {
   "cell_type": "markdown",
   "metadata": {},
   "source": [
    "**Saving the model and displaying the model's parameter and hyperparameter**"
   ]
  },
  {
   "cell_type": "code",
   "execution_count": 58,
   "metadata": {},
   "outputs": [
    {
     "data": {
      "text/plain": [
       "{'model_id': {'default': None,\n",
       "  'actual': {'__meta': {'schema_version': 3,\n",
       "    'schema_name': 'ModelKeyV3',\n",
       "    'schema_type': 'Key<Model>'},\n",
       "   'name': 'GBM_2_AutoML_20190417_182705',\n",
       "   'type': 'Key<Model>',\n",
       "   'URL': '/3/Models/GBM_2_AutoML_20190417_182705'}},\n",
       " 'training_frame': {'default': None,\n",
       "  'actual': {'__meta': {'schema_version': 3,\n",
       "    'schema_name': 'FrameKeyV3',\n",
       "    'schema_type': 'Key<Frame>'},\n",
       "   'name': 'automl_training_py_6_sid_9ee3',\n",
       "   'type': 'Key<Frame>',\n",
       "   'URL': '/3/Frames/automl_training_py_6_sid_9ee3'}},\n",
       " 'validation_frame': {'default': None, 'actual': None},\n",
       " 'nfolds': {'default': 0, 'actual': 5},\n",
       " 'keep_cross_validation_models': {'default': True, 'actual': False},\n",
       " 'keep_cross_validation_predictions': {'default': False, 'actual': True},\n",
       " 'keep_cross_validation_fold_assignment': {'default': False, 'actual': False},\n",
       " 'score_each_iteration': {'default': False, 'actual': False},\n",
       " 'score_tree_interval': {'default': 0, 'actual': 5},\n",
       " 'fold_assignment': {'default': 'AUTO', 'actual': 'Modulo'},\n",
       " 'fold_column': {'default': None, 'actual': None},\n",
       " 'response_column': {'default': None,\n",
       "  'actual': {'__meta': {'schema_version': 3,\n",
       "    'schema_name': 'ColSpecifierV3',\n",
       "    'schema_type': 'VecSpecifier'},\n",
       "   'column_name': 'Prices',\n",
       "   'is_member_of_frames': None}},\n",
       " 'ignored_columns': {'default': None, 'actual': []},\n",
       " 'ignore_const_cols': {'default': True, 'actual': True},\n",
       " 'offset_column': {'default': None, 'actual': None},\n",
       " 'weights_column': {'default': None, 'actual': None},\n",
       " 'balance_classes': {'default': False, 'actual': False},\n",
       " 'class_sampling_factors': {'default': None, 'actual': None},\n",
       " 'max_after_balance_size': {'default': 5.0, 'actual': 5.0},\n",
       " 'max_confusion_matrix_size': {'default': 20, 'actual': 20},\n",
       " 'max_hit_ratio_k': {'default': 0, 'actual': 0},\n",
       " 'ntrees': {'default': 50, 'actual': 205},\n",
       " 'max_depth': {'default': 5, 'actual': 15},\n",
       " 'min_rows': {'default': 10.0, 'actual': 100.0},\n",
       " 'nbins': {'default': 20, 'actual': 20},\n",
       " 'nbins_top_level': {'default': 1024, 'actual': 1024},\n",
       " 'nbins_cats': {'default': 1024, 'actual': 1024},\n",
       " 'r2_stopping': {'default': 1.7976931348623157e+308,\n",
       "  'actual': 1.7976931348623157e+308},\n",
       " 'stopping_rounds': {'default': 0, 'actual': 0},\n",
       " 'stopping_metric': {'default': 'AUTO', 'actual': 'deviance'},\n",
       " 'stopping_tolerance': {'default': 0.001, 'actual': 0.0015806726004257985},\n",
       " 'max_runtime_secs': {'default': 0.0, 'actual': 0.0},\n",
       " 'seed': {'default': -1, 'actual': 6344403308522716344},\n",
       " 'build_tree_one_node': {'default': False, 'actual': False},\n",
       " 'learn_rate': {'default': 0.1, 'actual': 0.1},\n",
       " 'learn_rate_annealing': {'default': 1.0, 'actual': 1.0},\n",
       " 'distribution': {'default': 'AUTO', 'actual': 'gaussian'},\n",
       " 'quantile_alpha': {'default': 0.5, 'actual': 0.5},\n",
       " 'tweedie_power': {'default': 1.5, 'actual': 1.5},\n",
       " 'huber_alpha': {'default': 0.9, 'actual': 0.9},\n",
       " 'checkpoint': {'default': None, 'actual': None},\n",
       " 'sample_rate': {'default': 1.0, 'actual': 0.8},\n",
       " 'sample_rate_per_class': {'default': None, 'actual': None},\n",
       " 'col_sample_rate': {'default': 1.0, 'actual': 0.8},\n",
       " 'col_sample_rate_change_per_level': {'default': 1.0, 'actual': 1.0},\n",
       " 'col_sample_rate_per_tree': {'default': 1.0, 'actual': 0.8},\n",
       " 'min_split_improvement': {'default': 1e-05, 'actual': 1e-05},\n",
       " 'histogram_type': {'default': 'AUTO', 'actual': 'AUTO'},\n",
       " 'max_abs_leafnode_pred': {'default': 1.7976931348623157e+308,\n",
       "  'actual': 1.7976931348623157e+308},\n",
       " 'pred_noise_bandwidth': {'default': 0.0, 'actual': 0.0},\n",
       " 'categorical_encoding': {'default': 'AUTO', 'actual': 'AUTO'},\n",
       " 'calibrate_model': {'default': False, 'actual': False},\n",
       " 'calibration_frame': {'default': None, 'actual': None},\n",
       " 'custom_metric_func': {'default': None, 'actual': None},\n",
       " 'export_checkpoints_dir': {'default': None, 'actual': None},\n",
       " 'monotone_constraints': {'default': None, 'actual': None},\n",
       " 'check_constant_response': {'default': True, 'actual': True}}"
      ]
     },
     "execution_count": 58,
     "metadata": {},
     "output_type": "execute_result"
    }
   ],
   "source": [
    "mod_best.params"
   ]
  },
  {
   "cell_type": "code",
   "execution_count": 59,
   "metadata": {},
   "outputs": [
    {
     "name": "stdout",
     "output_type": "stream",
     "text": [
      "\n",
      "ModelMetricsRegression: gbm\n",
      "** Reported on test data. **\n",
      "\n",
      "MSE: 27569.558546292516\n",
      "RMSE: 166.0408339725277\n",
      "MAE: 131.47522386945926\n",
      "RMSLE: 0.004623596710396046\n",
      "Mean Residual Deviance: 27569.558546292516\n"
     ]
    },
    {
     "data": {
      "text/plain": []
     },
     "execution_count": 59,
     "metadata": {},
     "output_type": "execute_result"
    }
   ],
   "source": [
    "aml.leader.model_performance(test)"
   ]
  },
  {
   "cell_type": "markdown",
   "metadata": {},
   "source": [
    "**The performance of the top model in the test data is displayed above**"
   ]
  },
  {
   "cell_type": "code",
   "execution_count": 60,
   "metadata": {},
   "outputs": [
    {
     "name": "stdout",
     "output_type": "stream",
     "text": [
      "Model Details\n",
      "=============\n",
      "H2OGradientBoostingEstimator :  Gradient Boosting Machine\n",
      "Model Key:  GBM_2_AutoML_20190417_182705\n",
      "\n",
      "\n",
      "ModelMetricsRegression: gbm\n",
      "** Reported on train data. **\n",
      "\n",
      "MSE: 26149.941886676665\n",
      "RMSE: 161.70943660367092\n",
      "MAE: 127.9736890708115\n",
      "RMSLE: 0.004511833619352955\n",
      "Mean Residual Deviance: 26149.941886676665\n",
      "\n",
      "ModelMetricsRegression: gbm\n",
      "** Reported on cross-validation data. **\n",
      "\n",
      "MSE: 29664.09803465186\n",
      "RMSE: 172.23268573256314\n",
      "MAE: 136.53025903109298\n",
      "RMSLE: 0.004780520764551986\n",
      "Mean Residual Deviance: 29664.09803465186\n",
      "Cross-Validation Metrics Summary: \n"
     ]
    },
    {
     "data": {
      "text/html": [
       "<div style=\"overflow:auto\"><table style=\"width:50%\"><tr><td><b></b></td>\n",
       "<td><b>mean</b></td>\n",
       "<td><b>sd</b></td>\n",
       "<td><b>cv_1_valid</b></td>\n",
       "<td><b>cv_2_valid</b></td>\n",
       "<td><b>cv_3_valid</b></td>\n",
       "<td><b>cv_4_valid</b></td>\n",
       "<td><b>cv_5_valid</b></td></tr>\n",
       "<tr><td>mae</td>\n",
       "<td>136.53026</td>\n",
       "<td>1.0971618</td>\n",
       "<td>139.13708</td>\n",
       "<td>137.32744</td>\n",
       "<td>134.7794</td>\n",
       "<td>135.4082</td>\n",
       "<td>135.99913</td></tr>\n",
       "<tr><td>mean_residual_deviance</td>\n",
       "<td>29664.096</td>\n",
       "<td>489.95078</td>\n",
       "<td>30868.846</td>\n",
       "<td>29935.104</td>\n",
       "<td>28912.568</td>\n",
       "<td>29146.094</td>\n",
       "<td>29457.863</td></tr>\n",
       "<tr><td>mse</td>\n",
       "<td>29664.096</td>\n",
       "<td>489.95078</td>\n",
       "<td>30868.846</td>\n",
       "<td>29935.104</td>\n",
       "<td>28912.568</td>\n",
       "<td>29146.094</td>\n",
       "<td>29457.863</td></tr>\n",
       "<tr><td>r2</td>\n",
       "<td>0.9997973</td>\n",
       "<td>0.0000032</td>\n",
       "<td>0.9997894</td>\n",
       "<td>0.9997954</td>\n",
       "<td>0.9998014</td>\n",
       "<td>0.9998018</td>\n",
       "<td>0.9997989</td></tr>\n",
       "<tr><td>residual_deviance</td>\n",
       "<td>29664.096</td>\n",
       "<td>489.95078</td>\n",
       "<td>30868.846</td>\n",
       "<td>29935.104</td>\n",
       "<td>28912.568</td>\n",
       "<td>29146.094</td>\n",
       "<td>29457.863</td></tr>\n",
       "<tr><td>rmse</td>\n",
       "<td>172.22102</td>\n",
       "<td>1.4166003</td>\n",
       "<td>175.69531</td>\n",
       "<td>173.01764</td>\n",
       "<td>170.03696</td>\n",
       "<td>170.72227</td>\n",
       "<td>171.63293</td></tr>\n",
       "<tr><td>rmsle</td>\n",
       "<td>0.0047801</td>\n",
       "<td>0.0000458</td>\n",
       "<td>0.0048779</td>\n",
       "<td>0.0047752</td>\n",
       "<td>0.0046803</td>\n",
       "<td>0.0047568</td>\n",
       "<td>0.0048101</td></tr></table></div>"
      ],
      "text/plain": [
       "                        mean        sd           cv_1_valid    cv_2_valid    cv_3_valid    cv_4_valid    cv_5_valid\n",
       "----------------------  ----------  -----------  ------------  ------------  ------------  ------------  ------------\n",
       "mae                     136.53      1.09716      139.137       137.327       134.779       135.408       135.999\n",
       "mean_residual_deviance  29664.1     489.951      30868.8       29935.1       28912.6       29146.1       29457.9\n",
       "mse                     29664.1     489.951      30868.8       29935.1       28912.6       29146.1       29457.9\n",
       "r2                      0.999797    3.23851e-06  0.999789      0.999795      0.999801      0.999802      0.999799\n",
       "residual_deviance       29664.1     489.951      30868.8       29935.1       28912.6       29146.1       29457.9\n",
       "rmse                    172.221     1.4166       175.695       173.018       170.037       170.722       171.633\n",
       "rmsle                   0.00478008  4.58147e-05  0.00487793    0.00477524    0.00468034    0.00475679    0.00481011"
      ]
     },
     "metadata": {},
     "output_type": "display_data"
    },
    {
     "name": "stdout",
     "output_type": "stream",
     "text": [
      "Scoring History: \n"
     ]
    },
    {
     "data": {
      "text/html": [
       "<div style=\"overflow:auto\"><table style=\"width:50%\"><tr><td><b></b></td>\n",
       "<td><b>timestamp</b></td>\n",
       "<td><b>duration</b></td>\n",
       "<td><b>number_of_trees</b></td>\n",
       "<td><b>training_rmse</b></td>\n",
       "<td><b>training_mae</b></td>\n",
       "<td><b>training_deviance</b></td></tr>\n",
       "<tr><td></td>\n",
       "<td>2019-04-17 18:38:27</td>\n",
       "<td> 3 min 46.377 sec</td>\n",
       "<td>0.0</td>\n",
       "<td>12099.2315897</td>\n",
       "<td>9888.1719803</td>\n",
       "<td>146391405.0603352</td></tr>\n",
       "<tr><td></td>\n",
       "<td>2019-04-17 18:38:28</td>\n",
       "<td> 3 min 47.299 sec</td>\n",
       "<td>5.0</td>\n",
       "<td>7929.2491742</td>\n",
       "<td>6469.5038915</td>\n",
       "<td>62872992.4662298</td></tr>\n",
       "<tr><td></td>\n",
       "<td>2019-04-17 18:38:28</td>\n",
       "<td> 3 min 48.096 sec</td>\n",
       "<td>10.0</td>\n",
       "<td>5436.1141902</td>\n",
       "<td>4422.7114477</td>\n",
       "<td>29551337.4884435</td></tr>\n",
       "<tr><td></td>\n",
       "<td>2019-04-17 18:38:29</td>\n",
       "<td> 3 min 49.002 sec</td>\n",
       "<td>15.0</td>\n",
       "<td>3657.5619692</td>\n",
       "<td>2964.8371937</td>\n",
       "<td>13377759.5583572</td></tr>\n",
       "<tr><td></td>\n",
       "<td>2019-04-17 18:38:30</td>\n",
       "<td> 3 min 49.767 sec</td>\n",
       "<td>20.0</td>\n",
       "<td>2626.4427156</td>\n",
       "<td>2128.5117430</td>\n",
       "<td>6898201.3384635</td></tr>\n",
       "<tr><td>---</td>\n",
       "<td>---</td>\n",
       "<td>---</td>\n",
       "<td>---</td>\n",
       "<td>---</td>\n",
       "<td>---</td>\n",
       "<td>---</td></tr>\n",
       "<tr><td></td>\n",
       "<td>2019-04-17 18:38:59</td>\n",
       "<td> 4 min 18.964 sec</td>\n",
       "<td>220.0</td>\n",
       "<td>162.4198721</td>\n",
       "<td>128.5329268</td>\n",
       "<td>26380.2148626</td></tr>\n",
       "<tr><td></td>\n",
       "<td>2019-04-17 18:39:00</td>\n",
       "<td> 4 min 19.605 sec</td>\n",
       "<td>225.0</td>\n",
       "<td>161.7094366</td>\n",
       "<td>127.9736891</td>\n",
       "<td>26149.9418867</td></tr>\n",
       "<tr><td></td>\n",
       "<td>2019-04-17 18:39:00</td>\n",
       "<td> 4 min 19.792 sec</td>\n",
       "<td>230.0</td>\n",
       "<td>161.7094366</td>\n",
       "<td>127.9736891</td>\n",
       "<td>26149.9418867</td></tr>\n",
       "<tr><td></td>\n",
       "<td>2019-04-17 18:39:00</td>\n",
       "<td> 4 min 19.948 sec</td>\n",
       "<td>235.0</td>\n",
       "<td>161.7094366</td>\n",
       "<td>127.9736891</td>\n",
       "<td>26149.9418867</td></tr>\n",
       "<tr><td></td>\n",
       "<td>2019-04-17 18:39:00</td>\n",
       "<td> 4 min 20.026 sec</td>\n",
       "<td>238.0</td>\n",
       "<td>161.7094366</td>\n",
       "<td>127.9736891</td>\n",
       "<td>26149.9418867</td></tr></table></div>"
      ],
      "text/plain": [
       "     timestamp            duration          number_of_trees    training_rmse       training_mae        training_deviance\n",
       "---  -------------------  ----------------  -----------------  ------------------  ------------------  -------------------\n",
       "     2019-04-17 18:38:27  3 min 46.377 sec  0.0                12099.231589664492  9888.171980260644   146391405.06033516\n",
       "     2019-04-17 18:38:28  3 min 47.299 sec  5.0                7929.249174179725   6469.503891527241   62872992.46622985\n",
       "     2019-04-17 18:38:28  3 min 48.096 sec  10.0               5436.114190158579   4422.711447657991   29551337.48844346\n",
       "     2019-04-17 18:38:29  3 min 49.002 sec  15.0               3657.5619691752645  2964.8371936582807  13377759.558357239\n",
       "     2019-04-17 18:38:30  3 min 49.767 sec  20.0               2626.442715625745   2128.5117430081486  6898201.33846354\n",
       "---  ---                  ---               ---                ---                 ---                 ---\n",
       "     2019-04-17 18:38:59  4 min 18.964 sec  220.0              162.41987212974917  128.5329267963347   26380.214862644072\n",
       "     2019-04-17 18:39:00  4 min 19.605 sec  225.0              161.70943660367092  127.9736890708115   26149.941886676665\n",
       "     2019-04-17 18:39:00  4 min 19.792 sec  230.0              161.70943660367092  127.9736890708115   26149.941886676665\n",
       "     2019-04-17 18:39:00  4 min 19.948 sec  235.0              161.70943660367092  127.9736890708115   26149.941886676665\n",
       "     2019-04-17 18:39:00  4 min 20.026 sec  238.0              161.70943660367092  127.9736890708115   26149.941886676665"
      ]
     },
     "metadata": {},
     "output_type": "display_data"
    },
    {
     "name": "stdout",
     "output_type": "stream",
     "text": [
      "\n",
      "See the whole table with table.as_data_frame()\n",
      "Variable Importances: \n"
     ]
    },
    {
     "data": {
      "text/html": [
       "<div style=\"overflow:auto\"><table style=\"width:50%\"><tr><td><b>variable</b></td>\n",
       "<td><b>relative_importance</b></td>\n",
       "<td><b>scaled_importance</b></td>\n",
       "<td><b>percentage</b></td></tr>\n",
       "<tr><td>Floors</td>\n",
       "<td>116001219805184.0000000</td>\n",
       "<td>1.0</td>\n",
       "<td>0.4265708</td></tr>\n",
       "<tr><td>Fiber</td>\n",
       "<td>60367396929536.0000000</td>\n",
       "<td>0.5204031</td>\n",
       "<td>0.2219888</td></tr>\n",
       "<tr><td>White Marble</td>\n",
       "<td>40338743885824.0000000</td>\n",
       "<td>0.3477441</td>\n",
       "<td>0.1483375</td></tr>\n",
       "<tr><td>City</td>\n",
       "<td>13632411795456.0000000</td>\n",
       "<td>0.1175196</td>\n",
       "<td>0.0501304</td></tr>\n",
       "<tr><td>Indian Marble</td>\n",
       "<td>11609458081792.0000000</td>\n",
       "<td>0.1000805</td>\n",
       "<td>0.0426914</td></tr>\n",
       "<tr><td>Glass Doors</td>\n",
       "<td>8269725171712.0000000</td>\n",
       "<td>0.0712900</td>\n",
       "<td>0.0304102</td></tr>\n",
       "<tr><td>Black Marble</td>\n",
       "<td>5807332130816.0000000</td>\n",
       "<td>0.0500627</td>\n",
       "<td>0.0213553</td></tr>\n",
       "<tr><td>Area</td>\n",
       "<td>5482950950912.0000000</td>\n",
       "<td>0.0472663</td>\n",
       "<td>0.0201624</td></tr>\n",
       "<tr><td>Baths</td>\n",
       "<td>5267784728576.0000000</td>\n",
       "<td>0.0454115</td>\n",
       "<td>0.0193712</td></tr>\n",
       "<tr><td>Garage</td>\n",
       "<td>2539710578688.0000000</td>\n",
       "<td>0.0218938</td>\n",
       "<td>0.0093393</td></tr>\n",
       "<tr><td>FirePlace</td>\n",
       "<td>1932850102272.0000000</td>\n",
       "<td>0.0166623</td>\n",
       "<td>0.0071077</td></tr>\n",
       "<tr><td>Electric</td>\n",
       "<td>663123001344.0000000</td>\n",
       "<td>0.0057165</td>\n",
       "<td>0.0024385</td></tr>\n",
       "<tr><td>Solar</td>\n",
       "<td>26218334208.0000000</td>\n",
       "<td>0.0002260</td>\n",
       "<td>0.0000964</td></tr>\n",
       "<tr><td>Swiming Pool</td>\n",
       "<td>13094504.0000000</td>\n",
       "<td>0.0000001</td>\n",
       "<td>0.0000000</td></tr>\n",
       "<tr><td>Garden</td>\n",
       "<td>11017283.0000000</td>\n",
       "<td>0.0000001</td>\n",
       "<td>0.0000000</td></tr></table></div>"
      ],
      "text/plain": [
       "variable       relative_importance    scaled_importance    percentage\n",
       "-------------  ---------------------  -------------------  ------------\n",
       "Floors         1.16001e+14            1                    0.426571\n",
       "Fiber          6.03674e+13            0.520403             0.221989\n",
       "White Marble   4.03387e+13            0.347744             0.148337\n",
       "City           1.36324e+13            0.11752              0.0501304\n",
       "Indian Marble  1.16095e+13            0.10008              0.0426914\n",
       "Glass Doors    8.26973e+12            0.07129              0.0304102\n",
       "Black Marble   5.80733e+12            0.0500627            0.0213553\n",
       "Area           5.48295e+12            0.0472663            0.0201624\n",
       "Baths          5.26778e+12            0.0454115            0.0193712\n",
       "Garage         2.53971e+12            0.0218938            0.00933927\n",
       "FirePlace      1.93285e+12            0.0166623            0.00710766\n",
       "Electric       6.63123e+11            0.00571652           0.0024385\n",
       "Solar          2.62183e+10            0.000226018          9.64126e-05\n",
       "Swiming Pool   1.30945e+07            1.12882e-07          4.81524e-08\n",
       "Garden         1.10173e+07            9.49756e-08          4.05138e-08"
      ]
     },
     "metadata": {},
     "output_type": "display_data"
    },
    {
     "name": "stdout",
     "output_type": "stream",
     "text": [
      "<bound method ModelBase.coef_norm of >\n"
     ]
    }
   ],
   "source": [
    "# generating normalized coeff.\n",
    "mods=mod_best.coef_norm\n",
    "print(mods)"
   ]
  },
  {
   "cell_type": "code",
   "execution_count": 61,
   "metadata": {},
   "outputs": [
    {
     "data": {
      "text/plain": [
       "pandas.core.series.Series"
      ]
     },
     "execution_count": 61,
     "metadata": {},
     "output_type": "execute_result"
    }
   ],
   "source": [
    "model_set=lb1['model_id']\n",
    "type(model_set)"
   ]
  },
  {
   "cell_type": "code",
   "execution_count": 62,
   "metadata": {},
   "outputs": [],
   "source": [
    "jsonDicts = []\n",
    "for m in model_set.iteritems():\n",
    "    m,model_name = m\n",
    "    mod_best = h2o.get_model(model_name)\n",
    "    jsonDicts.append(mod_best.params)"
   ]
  },
  {
   "cell_type": "code",
   "execution_count": 63,
   "metadata": {},
   "outputs": [
    {
     "name": "stdout",
     "output_type": "stream",
     "text": [
      "[{'model_id': {'default': None, 'actual': {'__meta': {'schema_version': 3, 'schema_name': 'ModelKeyV3', 'schema_type': 'Key<Model>'}, 'name': 'GBM_2_AutoML_20190417_182705', 'type': 'Key<Model>', 'URL': '/3/Models/GBM_2_AutoML_20190417_182705'}}, 'training_frame': {'default': None, 'actual': {'__meta': {'schema_version': 3, 'schema_name': 'FrameKeyV3', 'schema_type': 'Key<Frame>'}, 'name': 'automl_training_py_6_sid_9ee3', 'type': 'Key<Frame>', 'URL': '/3/Frames/automl_training_py_6_sid_9ee3'}}, 'validation_frame': {'default': None, 'actual': None}, 'nfolds': {'default': 0, 'actual': 5}, 'keep_cross_validation_models': {'default': True, 'actual': False}, 'keep_cross_validation_predictions': {'default': False, 'actual': True}, 'keep_cross_validation_fold_assignment': {'default': False, 'actual': False}, 'score_each_iteration': {'default': False, 'actual': False}, 'score_tree_interval': {'default': 0, 'actual': 5}, 'fold_assignment': {'default': 'AUTO', 'actual': 'Modulo'}, 'fold_column': {'default': None, 'actual': None}, 'response_column': {'default': None, 'actual': {'__meta': {'schema_version': 3, 'schema_name': 'ColSpecifierV3', 'schema_type': 'VecSpecifier'}, 'column_name': 'Prices', 'is_member_of_frames': None}}, 'ignored_columns': {'default': None, 'actual': []}, 'ignore_const_cols': {'default': True, 'actual': True}, 'offset_column': {'default': None, 'actual': None}, 'weights_column': {'default': None, 'actual': None}, 'balance_classes': {'default': False, 'actual': False}, 'class_sampling_factors': {'default': None, 'actual': None}, 'max_after_balance_size': {'default': 5.0, 'actual': 5.0}, 'max_confusion_matrix_size': {'default': 20, 'actual': 20}, 'max_hit_ratio_k': {'default': 0, 'actual': 0}, 'ntrees': {'default': 50, 'actual': 205}, 'max_depth': {'default': 5, 'actual': 15}, 'min_rows': {'default': 10.0, 'actual': 100.0}, 'nbins': {'default': 20, 'actual': 20}, 'nbins_top_level': {'default': 1024, 'actual': 1024}, 'nbins_cats': {'default': 1024, 'actual': 1024}, 'r2_stopping': {'default': 1.7976931348623157e+308, 'actual': 1.7976931348623157e+308}, 'stopping_rounds': {'default': 0, 'actual': 0}, 'stopping_metric': {'default': 'AUTO', 'actual': 'deviance'}, 'stopping_tolerance': {'default': 0.001, 'actual': 0.0015806726004257985}, 'max_runtime_secs': {'default': 0.0, 'actual': 0.0}, 'seed': {'default': -1, 'actual': 6344403308522716344}, 'build_tree_one_node': {'default': False, 'actual': False}, 'learn_rate': {'default': 0.1, 'actual': 0.1}, 'learn_rate_annealing': {'default': 1.0, 'actual': 1.0}, 'distribution': {'default': 'AUTO', 'actual': 'gaussian'}, 'quantile_alpha': {'default': 0.5, 'actual': 0.5}, 'tweedie_power': {'default': 1.5, 'actual': 1.5}, 'huber_alpha': {'default': 0.9, 'actual': 0.9}, 'checkpoint': {'default': None, 'actual': None}, 'sample_rate': {'default': 1.0, 'actual': 0.8}, 'sample_rate_per_class': {'default': None, 'actual': None}, 'col_sample_rate': {'default': 1.0, 'actual': 0.8}, 'col_sample_rate_change_per_level': {'default': 1.0, 'actual': 1.0}, 'col_sample_rate_per_tree': {'default': 1.0, 'actual': 0.8}, 'min_split_improvement': {'default': 1e-05, 'actual': 1e-05}, 'histogram_type': {'default': 'AUTO', 'actual': 'AUTO'}, 'max_abs_leafnode_pred': {'default': 1.7976931348623157e+308, 'actual': 1.7976931348623157e+308}, 'pred_noise_bandwidth': {'default': 0.0, 'actual': 0.0}, 'categorical_encoding': {'default': 'AUTO', 'actual': 'AUTO'}, 'calibrate_model': {'default': False, 'actual': False}, 'calibration_frame': {'default': None, 'actual': None}, 'custom_metric_func': {'default': None, 'actual': None}, 'export_checkpoints_dir': {'default': None, 'actual': None}, 'monotone_constraints': {'default': None, 'actual': None}, 'check_constant_response': {'default': True, 'actual': True}}, {'model_id': {'default': None, 'actual': {'__meta': {'schema_version': 3, 'schema_name': 'ModelKeyV3', 'schema_type': 'Key<Model>'}, 'name': 'GBM_1_AutoML_20190417_182705', 'type': 'Key<Model>', 'URL': '/3/Models/GBM_1_AutoML_20190417_182705'}}, 'training_frame': {'default': None, 'actual': {'__meta': {'schema_version': 3, 'schema_name': 'FrameKeyV3', 'schema_type': 'Key<Frame>'}, 'name': 'automl_training_py_6_sid_9ee3', 'type': 'Key<Frame>', 'URL': '/3/Frames/automl_training_py_6_sid_9ee3'}}, 'validation_frame': {'default': None, 'actual': None}, 'nfolds': {'default': 0, 'actual': 5}, 'keep_cross_validation_models': {'default': True, 'actual': False}, 'keep_cross_validation_predictions': {'default': False, 'actual': True}, 'keep_cross_validation_fold_assignment': {'default': False, 'actual': False}, 'score_each_iteration': {'default': False, 'actual': False}, 'score_tree_interval': {'default': 0, 'actual': 5}, 'fold_assignment': {'default': 'AUTO', 'actual': 'Modulo'}, 'fold_column': {'default': None, 'actual': None}, 'response_column': {'default': None, 'actual': {'__meta': {'schema_version': 3, 'schema_name': 'ColSpecifierV3', 'schema_type': 'VecSpecifier'}, 'column_name': 'Prices', 'is_member_of_frames': None}}, 'ignored_columns': {'default': None, 'actual': []}, 'ignore_const_cols': {'default': True, 'actual': True}, 'offset_column': {'default': None, 'actual': None}, 'weights_column': {'default': None, 'actual': None}, 'balance_classes': {'default': False, 'actual': False}, 'class_sampling_factors': {'default': None, 'actual': None}, 'max_after_balance_size': {'default': 5.0, 'actual': 5.0}, 'max_confusion_matrix_size': {'default': 20, 'actual': 20}, 'max_hit_ratio_k': {'default': 0, 'actual': 0}, 'ntrees': {'default': 50, 'actual': 205}, 'max_depth': {'default': 5, 'actual': 15}, 'min_rows': {'default': 10.0, 'actual': 100.0}, 'nbins': {'default': 20, 'actual': 20}, 'nbins_top_level': {'default': 1024, 'actual': 1024}, 'nbins_cats': {'default': 1024, 'actual': 1024}, 'r2_stopping': {'default': 1.7976931348623157e+308, 'actual': 1.7976931348623157e+308}, 'stopping_rounds': {'default': 0, 'actual': 0}, 'stopping_metric': {'default': 'AUTO', 'actual': 'deviance'}, 'stopping_tolerance': {'default': 0.001, 'actual': 0.0015806726004257985}, 'max_runtime_secs': {'default': 0.0, 'actual': 0.0}, 'seed': {'default': -1, 'actual': 6344403308522716344}, 'build_tree_one_node': {'default': False, 'actual': False}, 'learn_rate': {'default': 0.1, 'actual': 0.1}, 'learn_rate_annealing': {'default': 1.0, 'actual': 1.0}, 'distribution': {'default': 'AUTO', 'actual': 'gaussian'}, 'quantile_alpha': {'default': 0.5, 'actual': 0.5}, 'tweedie_power': {'default': 1.5, 'actual': 1.5}, 'huber_alpha': {'default': 0.9, 'actual': 0.9}, 'checkpoint': {'default': None, 'actual': None}, 'sample_rate': {'default': 1.0, 'actual': 0.8}, 'sample_rate_per_class': {'default': None, 'actual': None}, 'col_sample_rate': {'default': 1.0, 'actual': 0.8}, 'col_sample_rate_change_per_level': {'default': 1.0, 'actual': 1.0}, 'col_sample_rate_per_tree': {'default': 1.0, 'actual': 0.8}, 'min_split_improvement': {'default': 1e-05, 'actual': 1e-05}, 'histogram_type': {'default': 'AUTO', 'actual': 'AUTO'}, 'max_abs_leafnode_pred': {'default': 1.7976931348623157e+308, 'actual': 1.7976931348623157e+308}, 'pred_noise_bandwidth': {'default': 0.0, 'actual': 0.0}, 'categorical_encoding': {'default': 'AUTO', 'actual': 'AUTO'}, 'calibrate_model': {'default': False, 'actual': False}, 'calibration_frame': {'default': None, 'actual': None}, 'custom_metric_func': {'default': None, 'actual': None}, 'export_checkpoints_dir': {'default': None, 'actual': None}, 'monotone_constraints': {'default': None, 'actual': None}, 'check_constant_response': {'default': True, 'actual': True}}, {'model_id': {'default': None, 'actual': {'__meta': {'schema_version': 3, 'schema_name': 'ModelKeyV3', 'schema_type': 'Key<Model>'}, 'name': 'GLM_grid_1_AutoML_20190417_181353_model_1', 'type': 'Key<Model>', 'URL': '/3/Models/GLM_grid_1_AutoML_20190417_181353_model_1'}}, 'training_frame': {'default': None, 'actual': {'__meta': {'schema_version': 3, 'schema_name': 'FrameKeyV3', 'schema_type': 'Key<Frame>'}, 'name': 'automl_training_py_6_sid_9ee3', 'type': 'Key<Frame>', 'URL': '/3/Frames/automl_training_py_6_sid_9ee3'}}, 'validation_frame': {'default': None, 'actual': None}, 'nfolds': {'default': 0, 'actual': 5}, 'seed': {'default': -1, 'actual': -268582361245371910}, 'keep_cross_validation_models': {'default': True, 'actual': False}, 'keep_cross_validation_predictions': {'default': False, 'actual': True}, 'keep_cross_validation_fold_assignment': {'default': False, 'actual': False}, 'fold_assignment': {'default': 'AUTO', 'actual': 'Modulo'}, 'fold_column': {'default': None, 'actual': None}, 'response_column': {'default': None, 'actual': {'__meta': {'schema_version': 3, 'schema_name': 'ColSpecifierV3', 'schema_type': 'VecSpecifier'}, 'column_name': 'Prices', 'is_member_of_frames': None}}, 'ignored_columns': {'default': None, 'actual': []}, 'ignore_const_cols': {'default': True, 'actual': True}, 'score_each_iteration': {'default': False, 'actual': False}, 'offset_column': {'default': None, 'actual': None}, 'weights_column': {'default': None, 'actual': None}, 'family': {'default': 'gaussian', 'actual': 'gaussian'}, 'tweedie_variance_power': {'default': 0.0, 'actual': 0.0}, 'tweedie_link_power': {'default': 1.0, 'actual': 1.0}, 'solver': {'default': 'AUTO', 'actual': 'COORDINATE_DESCENT'}, 'alpha': {'default': None, 'actual': [0.0, 0.2, 0.4, 0.6, 0.8, 1.0]}, 'lambda': {'default': None, 'actual': [749571.309688754, 465496.48247256264, 289081.20200638974, 179524.32402834488, 111487.64670323252]}, 'lambda_search': {'default': False, 'actual': True}, 'early_stopping': {'default': True, 'actual': True}, 'nlambdas': {'default': -1, 'actual': 30}, 'standardize': {'default': True, 'actual': True}, 'missing_values_handling': {'default': 'MeanImputation', 'actual': 'MeanImputation'}, 'compute_p_values': {'default': False, 'actual': False}, 'remove_collinear_columns': {'default': False, 'actual': False}, 'intercept': {'default': True, 'actual': True}, 'non_negative': {'default': False, 'actual': False}, 'max_iterations': {'default': -1, 'actual': 300}, 'objective_epsilon': {'default': -1.0, 'actual': 0.0001}, 'beta_epsilon': {'default': 0.0001, 'actual': 0.0001}, 'gradient_epsilon': {'default': -1.0, 'actual': 1.0000000000000002e-06}, 'link': {'default': 'family_default', 'actual': 'identity'}, 'prior': {'default': -1.0, 'actual': -1.0}, 'lambda_min_ratio': {'default': -1.0, 'actual': 1.0000000000000002e-06}, 'beta_constraints': {'default': None, 'actual': None}, 'max_active_predictors': {'default': -1, 'actual': 5000}, 'interactions': {'default': None, 'actual': None}, 'interaction_pairs': {'default': None, 'actual': None}, 'obj_reg': {'default': -1.0, 'actual': 2.498525869736855e-06}, 'export_checkpoints_dir': {'default': None, 'actual': None}, 'balance_classes': {'default': False, 'actual': False}, 'class_sampling_factors': {'default': None, 'actual': None}, 'max_after_balance_size': {'default': 5.0, 'actual': 5.0}, 'max_confusion_matrix_size': {'default': 20, 'actual': 20}, 'max_hit_ratio_k': {'default': 0, 'actual': 0}, 'max_runtime_secs': {'default': 0.0, 'actual': 6.5}, 'custom_metric_func': {'default': None, 'actual': None}}, {'model_id': {'default': None, 'actual': {'__meta': {'schema_version': 3, 'schema_name': 'ModelKeyV3', 'schema_type': 'Key<Model>'}, 'name': 'GLM_grid_1_AutoML_20190417_182705_model_1', 'type': 'Key<Model>', 'URL': '/3/Models/GLM_grid_1_AutoML_20190417_182705_model_1'}}, 'training_frame': {'default': None, 'actual': {'__meta': {'schema_version': 3, 'schema_name': 'FrameKeyV3', 'schema_type': 'Key<Frame>'}, 'name': 'automl_training_py_6_sid_9ee3', 'type': 'Key<Frame>', 'URL': '/3/Frames/automl_training_py_6_sid_9ee3'}}, 'validation_frame': {'default': None, 'actual': None}, 'nfolds': {'default': 0, 'actual': 5}, 'seed': {'default': -1, 'actual': -5613084001208796172}, 'keep_cross_validation_models': {'default': True, 'actual': False}, 'keep_cross_validation_predictions': {'default': False, 'actual': True}, 'keep_cross_validation_fold_assignment': {'default': False, 'actual': False}, 'fold_assignment': {'default': 'AUTO', 'actual': 'Modulo'}, 'fold_column': {'default': None, 'actual': None}, 'response_column': {'default': None, 'actual': {'__meta': {'schema_version': 3, 'schema_name': 'ColSpecifierV3', 'schema_type': 'VecSpecifier'}, 'column_name': 'Prices', 'is_member_of_frames': None}}, 'ignored_columns': {'default': None, 'actual': []}, 'ignore_const_cols': {'default': True, 'actual': True}, 'score_each_iteration': {'default': False, 'actual': False}, 'offset_column': {'default': None, 'actual': None}, 'weights_column': {'default': None, 'actual': None}, 'family': {'default': 'gaussian', 'actual': 'gaussian'}, 'tweedie_variance_power': {'default': 0.0, 'actual': 0.0}, 'tweedie_link_power': {'default': 1.0, 'actual': 1.0}, 'solver': {'default': 'AUTO', 'actual': 'COORDINATE_DESCENT'}, 'alpha': {'default': None, 'actual': [0.0, 0.2, 0.4, 0.6, 0.8, 1.0]}, 'lambda': {'default': None, 'actual': [749571.309688754, 465496.48247256264, 289081.20200638974, 179524.32402834488, 111487.64670323252]}, 'lambda_search': {'default': False, 'actual': True}, 'early_stopping': {'default': True, 'actual': True}, 'nlambdas': {'default': -1, 'actual': 30}, 'standardize': {'default': True, 'actual': True}, 'missing_values_handling': {'default': 'MeanImputation', 'actual': 'MeanImputation'}, 'compute_p_values': {'default': False, 'actual': False}, 'remove_collinear_columns': {'default': False, 'actual': False}, 'intercept': {'default': True, 'actual': True}, 'non_negative': {'default': False, 'actual': False}, 'max_iterations': {'default': -1, 'actual': 300}, 'objective_epsilon': {'default': -1.0, 'actual': 0.0001}, 'beta_epsilon': {'default': 0.0001, 'actual': 0.0001}, 'gradient_epsilon': {'default': -1.0, 'actual': 1.0000000000000002e-06}, 'link': {'default': 'family_default', 'actual': 'identity'}, 'prior': {'default': -1.0, 'actual': -1.0}, 'lambda_min_ratio': {'default': -1.0, 'actual': 1.0000000000000002e-06}, 'beta_constraints': {'default': None, 'actual': None}, 'max_active_predictors': {'default': -1, 'actual': 5000}, 'interactions': {'default': None, 'actual': None}, 'interaction_pairs': {'default': None, 'actual': None}, 'obj_reg': {'default': -1.0, 'actual': 2.498525869736855e-06}, 'export_checkpoints_dir': {'default': None, 'actual': None}, 'balance_classes': {'default': False, 'actual': False}, 'class_sampling_factors': {'default': None, 'actual': None}, 'max_after_balance_size': {'default': 5.0, 'actual': 5.0}, 'max_confusion_matrix_size': {'default': 20, 'actual': 20}, 'max_hit_ratio_k': {'default': 0, 'actual': 0}, 'max_runtime_secs': {'default': 0.0, 'actual': 11.5}, 'custom_metric_func': {'default': None, 'actual': None}}, {'model_id': {'default': None, 'actual': {'__meta': {'schema_version': 3, 'schema_name': 'ModelKeyV3', 'schema_type': 'Key<Model>'}, 'name': 'StackedEnsemble_BestOfFamily_AutoML_20190417_181353', 'type': 'Key<Model>', 'URL': '/3/Models/StackedEnsemble_BestOfFamily_AutoML_20190417_181353'}}, 'training_frame': {'default': None, 'actual': {'__meta': {'schema_version': 3, 'schema_name': 'FrameKeyV3', 'schema_type': 'Key<Frame>'}, 'name': 'automl_training_py_6_sid_9ee3', 'type': 'Key<Frame>', 'URL': '/3/Frames/automl_training_py_6_sid_9ee3'}}, 'response_column': {'default': None, 'actual': {'__meta': {'schema_version': 3, 'schema_name': 'ColSpecifierV3', 'schema_type': 'VecSpecifier'}, 'column_name': 'Prices', 'is_member_of_frames': None}}, 'validation_frame': {'default': None, 'actual': None}, 'base_models': {'default': [], 'actual': [{'__meta': {'schema_version': 3, 'schema_name': 'ModelKeyV3', 'schema_type': 'Key<Model>'}, 'name': 'GLM_grid_1_AutoML_20190417_182705_model_1', 'type': 'Key<Model>', 'URL': '/3/Models/GLM_grid_1_AutoML_20190417_182705_model_1'}]}, 'metalearner_algorithm': {'default': 'AUTO', 'actual': 'AUTO'}, 'metalearner_nfolds': {'default': 0, 'actual': 5}, 'metalearner_fold_assignment': {'default': None, 'actual': None}, 'metalearner_fold_column': {'default': None, 'actual': None}, 'keep_levelone_frame': {'default': False, 'actual': True}, 'metalearner_params': {'default': '', 'actual': ''}, 'seed': {'default': -1, 'actual': 6585695469569683059}, 'export_checkpoints_dir': {'default': None, 'actual': None}}, {'model_id': {'default': None, 'actual': {'__meta': {'schema_version': 3, 'schema_name': 'ModelKeyV3', 'schema_type': 'Key<Model>'}, 'name': 'StackedEnsemble_AllModels_AutoML_20190417_181353', 'type': 'Key<Model>', 'URL': '/3/Models/StackedEnsemble_AllModels_AutoML_20190417_181353'}}, 'training_frame': {'default': None, 'actual': {'__meta': {'schema_version': 3, 'schema_name': 'FrameKeyV3', 'schema_type': 'Key<Frame>'}, 'name': 'automl_training_py_6_sid_9ee3', 'type': 'Key<Frame>', 'URL': '/3/Frames/automl_training_py_6_sid_9ee3'}}, 'response_column': {'default': None, 'actual': {'__meta': {'schema_version': 3, 'schema_name': 'ColSpecifierV3', 'schema_type': 'VecSpecifier'}, 'column_name': 'Prices', 'is_member_of_frames': None}}, 'validation_frame': {'default': None, 'actual': None}, 'base_models': {'default': [], 'actual': [{'__meta': {'schema_version': 3, 'schema_name': 'ModelKeyV3', 'schema_type': 'Key<Model>'}, 'name': 'GLM_grid_1_AutoML_20190417_182705_model_1', 'type': 'Key<Model>', 'URL': '/3/Models/GLM_grid_1_AutoML_20190417_182705_model_1'}, {'__meta': {'schema_version': 3, 'schema_name': 'ModelKeyV3', 'schema_type': 'Key<Model>'}, 'name': 'GLM_grid_1_AutoML_20190417_181353_model_1', 'type': 'Key<Model>', 'URL': '/3/Models/GLM_grid_1_AutoML_20190417_181353_model_1'}]}, 'metalearner_algorithm': {'default': 'AUTO', 'actual': 'AUTO'}, 'metalearner_nfolds': {'default': 0, 'actual': 5}, 'metalearner_fold_assignment': {'default': None, 'actual': None}, 'metalearner_fold_column': {'default': None, 'actual': None}, 'keep_levelone_frame': {'default': False, 'actual': True}, 'metalearner_params': {'default': '', 'actual': ''}, 'seed': {'default': -1, 'actual': -6669013783547012780}, 'export_checkpoints_dir': {'default': None, 'actual': None}}]"
     ]
    },
    {
     "name": "stdout",
     "output_type": "stream",
     "text": [
      "\n"
     ]
    }
   ],
   "source": [
    "print(jsonDicts)"
   ]
  },
  {
   "cell_type": "code",
   "execution_count": 64,
   "metadata": {},
   "outputs": [],
   "source": [
    "n=run_id+'MelbourneHousingPrices_1000_hy_parameter.json'\n",
    "dict_to_json(jsonDicts,n)"
   ]
  },
  {
   "cell_type": "code",
   "execution_count": 65,
   "metadata": {},
   "outputs": [],
   "source": [
    "meta_data['end_time'] = time.time()"
   ]
  },
  {
   "cell_type": "code",
   "execution_count": 66,
   "metadata": {},
   "outputs": [
    {
     "data": {
      "text/plain": [
       "{'project': 'd5nTmwyIp_EmpAccess_500',\n",
       " 'run_time': 500,\n",
       " 'run_id': 'd5nTmwyIp',\n",
       " 'start_time_sec': 1555539172.6287012,\n",
       " 'min_mem_size': 1,\n",
       " 'balance': False,\n",
       " 'balance_threshold': 0.2,\n",
       " 'max_models': None,\n",
       " 'scale': False,\n",
       " 'model_path': None,\n",
       " 'server_path': 'C:\\\\Users\\\\jyoti\\\\INFO_6105-master\\\\INFO_6105-master\\\\Assignments\\\\Final Project',\n",
       " 'data_path': None,\n",
       " 'run_path': 'C:\\\\Users\\\\jyoti\\\\INFO_6105-master\\\\INFO_6105-master\\\\Assignments\\\\Final Project\\\\d5nTmwyIp_EmpAccess_500',\n",
       " 'nthreads': 1,\n",
       " 'analysis': 0,\n",
       " 'end_time_sec': 1555539172.6287012,\n",
       " 'Problem_type': 'Regression',\n",
       " 'Total Records': 8000000,\n",
       " 'Target': 'Prices',\n",
       " 'X': ['Area',\n",
       "  'Garage',\n",
       "  'FirePlace',\n",
       "  'Baths',\n",
       "  'White Marble',\n",
       "  'Black Marble',\n",
       "  'Indian Marble',\n",
       "  'Floors',\n",
       "  'City',\n",
       "  'Solar',\n",
       "  'Electric',\n",
       "  'Fiber',\n",
       "  'Glass Doors',\n",
       "  'Swiming Pool',\n",
       "  'Garden'],\n",
       " 'variables': {'Area': 'int',\n",
       "  'Garage': 'int',\n",
       "  'FirePlace': 'int',\n",
       "  'Baths': 'int',\n",
       "  'White Marble': 'int',\n",
       "  'Black Marble': 'int',\n",
       "  'Indian Marble': 'int',\n",
       "  'Floors': 'int',\n",
       "  'City': 'int',\n",
       "  'Solar': 'int',\n",
       "  'Electric': 'int',\n",
       "  'Fiber': 'int',\n",
       "  'Glass Doors': 'int',\n",
       "  'Swiming Pool': 'int',\n",
       "  'Garden': 'int',\n",
       "  'Prices': 'int'},\n",
       " 'model_execution_time_sec': 1842.8140523433685,\n",
       " 'Models_generated': 5,\n",
       " 'end_time': 1555541330.7240603}"
      ]
     },
     "execution_count": 66,
     "metadata": {},
     "output_type": "execute_result"
    }
   ],
   "source": [
    "meta_data"
   ]
  },
  {
   "cell_type": "code",
   "execution_count": 67,
   "metadata": {},
   "outputs": [],
   "source": [
    "n=run_id+'MelbHousingPrices_1000_meta_data.json'\n",
    "dict_to_json(meta_data,n)"
   ]
  },
  {
   "cell_type": "markdown",
   "metadata": {},
   "source": [
    "**Saving the jason file for metadata**"
   ]
  },
  {
   "cell_type": "markdown",
   "metadata": {},
   "source": [
    "# Finding Important hyperparameter"
   ]
  },
  {
   "cell_type": "code",
   "execution_count": 49,
   "metadata": {},
   "outputs": [],
   "source": [
    "train1,valid,test1 = data1.split_frame(ratios=[0.8,0.09],seed=123)"
   ]
  },
  {
   "cell_type": "markdown",
   "metadata": {},
   "source": [
    "**Splitting the dataframe again into test, valid and train**"
   ]
  },
  {
   "cell_type": "code",
   "execution_count": 49,
   "metadata": {},
   "outputs": [
    {
     "data": {
      "text/html": [
       "<table>\n",
       "<thead>\n",
       "<tr><th style=\"text-align: right;\">  Area</th><th style=\"text-align: right;\">  Garage</th><th style=\"text-align: right;\">  FirePlace</th><th style=\"text-align: right;\">  Baths</th><th style=\"text-align: right;\">  White Marble</th><th style=\"text-align: right;\">  Black Marble</th><th style=\"text-align: right;\">  Indian Marble</th><th style=\"text-align: right;\">  Floors</th><th style=\"text-align: right;\">  City</th><th style=\"text-align: right;\">  Solar</th><th style=\"text-align: right;\">  Electric</th><th style=\"text-align: right;\">  Fiber</th><th style=\"text-align: right;\">  Glass Doors</th><th style=\"text-align: right;\">  Swiming Pool</th><th style=\"text-align: right;\">  Garden</th><th style=\"text-align: right;\">  Prices</th></tr>\n",
       "</thead>\n",
       "<tbody>\n",
       "<tr><td style=\"text-align: right;\">   164</td><td style=\"text-align: right;\">       2</td><td style=\"text-align: right;\">          0</td><td style=\"text-align: right;\">      2</td><td style=\"text-align: right;\">             0</td><td style=\"text-align: right;\">             1</td><td style=\"text-align: right;\">              0</td><td style=\"text-align: right;\">       0</td><td style=\"text-align: right;\">     3</td><td style=\"text-align: right;\">      1</td><td style=\"text-align: right;\">         1</td><td style=\"text-align: right;\">      1</td><td style=\"text-align: right;\">            1</td><td style=\"text-align: right;\">             0</td><td style=\"text-align: right;\">       0</td><td style=\"text-align: right;\">   43800</td></tr>\n",
       "<tr><td style=\"text-align: right;\">    84</td><td style=\"text-align: right;\">       2</td><td style=\"text-align: right;\">          0</td><td style=\"text-align: right;\">      4</td><td style=\"text-align: right;\">             0</td><td style=\"text-align: right;\">             0</td><td style=\"text-align: right;\">              1</td><td style=\"text-align: right;\">       1</td><td style=\"text-align: right;\">     2</td><td style=\"text-align: right;\">      0</td><td style=\"text-align: right;\">         0</td><td style=\"text-align: right;\">      0</td><td style=\"text-align: right;\">            1</td><td style=\"text-align: right;\">             1</td><td style=\"text-align: right;\">       1</td><td style=\"text-align: right;\">   37550</td></tr>\n",
       "<tr><td style=\"text-align: right;\">   190</td><td style=\"text-align: right;\">       2</td><td style=\"text-align: right;\">          4</td><td style=\"text-align: right;\">      4</td><td style=\"text-align: right;\">             1</td><td style=\"text-align: right;\">             0</td><td style=\"text-align: right;\">              0</td><td style=\"text-align: right;\">       0</td><td style=\"text-align: right;\">     2</td><td style=\"text-align: right;\">      0</td><td style=\"text-align: right;\">         0</td><td style=\"text-align: right;\">      1</td><td style=\"text-align: right;\">            0</td><td style=\"text-align: right;\">             0</td><td style=\"text-align: right;\">       0</td><td style=\"text-align: right;\">   49500</td></tr>\n",
       "<tr><td style=\"text-align: right;\">    75</td><td style=\"text-align: right;\">       2</td><td style=\"text-align: right;\">          4</td><td style=\"text-align: right;\">      4</td><td style=\"text-align: right;\">             0</td><td style=\"text-align: right;\">             0</td><td style=\"text-align: right;\">              1</td><td style=\"text-align: right;\">       1</td><td style=\"text-align: right;\">     1</td><td style=\"text-align: right;\">      1</td><td style=\"text-align: right;\">         1</td><td style=\"text-align: right;\">      1</td><td style=\"text-align: right;\">            1</td><td style=\"text-align: right;\">             1</td><td style=\"text-align: right;\">       1</td><td style=\"text-align: right;\">   50075</td></tr>\n",
       "<tr><td style=\"text-align: right;\">   148</td><td style=\"text-align: right;\">       1</td><td style=\"text-align: right;\">          4</td><td style=\"text-align: right;\">      2</td><td style=\"text-align: right;\">             1</td><td style=\"text-align: right;\">             0</td><td style=\"text-align: right;\">              0</td><td style=\"text-align: right;\">       1</td><td style=\"text-align: right;\">     2</td><td style=\"text-align: right;\">      1</td><td style=\"text-align: right;\">         0</td><td style=\"text-align: right;\">      0</td><td style=\"text-align: right;\">            1</td><td style=\"text-align: right;\">             1</td><td style=\"text-align: right;\">       1</td><td style=\"text-align: right;\">   52400</td></tr>\n",
       "<tr><td style=\"text-align: right;\">   124</td><td style=\"text-align: right;\">       3</td><td style=\"text-align: right;\">          3</td><td style=\"text-align: right;\">      3</td><td style=\"text-align: right;\">             0</td><td style=\"text-align: right;\">             1</td><td style=\"text-align: right;\">              0</td><td style=\"text-align: right;\">       1</td><td style=\"text-align: right;\">     1</td><td style=\"text-align: right;\">      0</td><td style=\"text-align: right;\">         0</td><td style=\"text-align: right;\">      1</td><td style=\"text-align: right;\">            1</td><td style=\"text-align: right;\">             1</td><td style=\"text-align: right;\">       1</td><td style=\"text-align: right;\">   54300</td></tr>\n",
       "<tr><td style=\"text-align: right;\">    58</td><td style=\"text-align: right;\">       1</td><td style=\"text-align: right;\">          0</td><td style=\"text-align: right;\">      2</td><td style=\"text-align: right;\">             0</td><td style=\"text-align: right;\">             0</td><td style=\"text-align: right;\">              1</td><td style=\"text-align: right;\">       0</td><td style=\"text-align: right;\">     3</td><td style=\"text-align: right;\">      0</td><td style=\"text-align: right;\">         1</td><td style=\"text-align: right;\">      1</td><td style=\"text-align: right;\">            1</td><td style=\"text-align: right;\">             0</td><td style=\"text-align: right;\">       1</td><td style=\"text-align: right;\">   34400</td></tr>\n",
       "<tr><td style=\"text-align: right;\">   249</td><td style=\"text-align: right;\">       2</td><td style=\"text-align: right;\">          1</td><td style=\"text-align: right;\">      1</td><td style=\"text-align: right;\">             1</td><td style=\"text-align: right;\">             0</td><td style=\"text-align: right;\">              0</td><td style=\"text-align: right;\">       1</td><td style=\"text-align: right;\">     1</td><td style=\"text-align: right;\">      0</td><td style=\"text-align: right;\">         1</td><td style=\"text-align: right;\">      0</td><td style=\"text-align: right;\">            1</td><td style=\"text-align: right;\">             1</td><td style=\"text-align: right;\">       0</td><td style=\"text-align: right;\">   50425</td></tr>\n",
       "<tr><td style=\"text-align: right;\">    61</td><td style=\"text-align: right;\">       2</td><td style=\"text-align: right;\">          4</td><td style=\"text-align: right;\">      5</td><td style=\"text-align: right;\">             0</td><td style=\"text-align: right;\">             0</td><td style=\"text-align: right;\">              1</td><td style=\"text-align: right;\">       1</td><td style=\"text-align: right;\">     1</td><td style=\"text-align: right;\">      1</td><td style=\"text-align: right;\">         0</td><td style=\"text-align: right;\">      1</td><td style=\"text-align: right;\">            1</td><td style=\"text-align: right;\">             1</td><td style=\"text-align: right;\">       1</td><td style=\"text-align: right;\">   49725</td></tr>\n",
       "<tr><td style=\"text-align: right;\">   189</td><td style=\"text-align: right;\">       2</td><td style=\"text-align: right;\">          0</td><td style=\"text-align: right;\">      4</td><td style=\"text-align: right;\">             0</td><td style=\"text-align: right;\">             1</td><td style=\"text-align: right;\">              0</td><td style=\"text-align: right;\">       0</td><td style=\"text-align: right;\">     2</td><td style=\"text-align: right;\">      1</td><td style=\"text-align: right;\">         1</td><td style=\"text-align: right;\">      0</td><td style=\"text-align: right;\">            1</td><td style=\"text-align: right;\">             1</td><td style=\"text-align: right;\">       1</td><td style=\"text-align: right;\">   31675</td></tr>\n",
       "</tbody>\n",
       "</table>"
      ]
     },
     "metadata": {},
     "output_type": "display_data"
    },
    {
     "data": {
      "text/plain": []
     },
     "execution_count": 49,
     "metadata": {},
     "output_type": "execute_result"
    }
   ],
   "source": [
    "train1.head()"
   ]
  },
  {
   "cell_type": "markdown",
   "metadata": {},
   "source": [
    "**Displaying the top 10 values of the training data**"
   ]
  },
  {
   "cell_type": "code",
   "execution_count": 50,
   "metadata": {},
   "outputs": [
    {
     "name": "stdout",
     "output_type": "stream",
     "text": [
      "gbm Grid Build progress: |████████████████████████████████████████████████| 100%\n"
     ]
    },
    {
     "data": {
      "text/plain": [
       "155.4633820191283"
      ]
     },
     "execution_count": 50,
     "metadata": {},
     "output_type": "execute_result"
    }
   ],
   "source": [
    "# Use same data as above\n",
    "from h2o.estimators.gbm import H2OGradientBoostingEstimator\n",
    "from h2o.grid.grid_search import H2OGridSearch\n",
    "# GBM hyperparameters\n",
    "gbm_params2 = {'learn_rate': [i * 0.01 for i in range(1, 11)],\n",
    "                'max_depth': list(range(2, 11)),\n",
    "                'sample_rate': [i * 0.1 for i in range(5, 11)],\n",
    "                'col_sample_rate': [i * 0.1 for i in range(1, 11)]}\n",
    "\n",
    "# Search criteria\n",
    "search_criteria = {'strategy': 'RandomDiscrete', 'max_models': 36, 'seed': 1}\n",
    "\n",
    "# Train and validate a random grid of GBMs\n",
    "gbm_grid2 = H2OGridSearch(model=H2OGradientBoostingEstimator,\n",
    "                          grid_id='gbm_grid2',\n",
    "                          hyper_params=gbm_params2,\n",
    "                          search_criteria=search_criteria)\n",
    "gbm_grid2.train(x=x, y=y,\n",
    "                training_frame=train,\n",
    "                validation_frame=valid,\n",
    "                ntrees=100,\n",
    "                seed=1)\n",
    "\n",
    "# Get the grid results, sorted by validation AUC\n",
    "gbm_gridperf2 = gbm_grid2.get_grid(sort_by='rmse')\n",
    "gbm_gridperf2\n",
    "\n",
    "# Grab the top GBM model, chosen by validation AUC\n",
    "best_gbm2 = gbm_gridperf2.models[0]\n",
    "\n",
    "# Now let's evaluate the model performance on a test set\n",
    "# so we get an honest estimate of top model performance\n",
    "best_gbm_perf2 = best_gbm2.model_performance(test)\n",
    "\n",
    "best_gbm_perf2.rmse()\n",
    "# 0.7810757307013204"
   ]
  },
  {
   "cell_type": "markdown",
   "metadata": {},
   "source": [
    "**Applying random grid search in the dataset by passing the hyperparameter**"
   ]
  },
  {
   "cell_type": "code",
   "execution_count": 51,
   "metadata": {},
   "outputs": [
    {
     "name": "stdout",
     "output_type": "stream",
     "text": [
      "          col_sample_rate learn_rate max_depth         sample_rate  \\\n",
      "0                     1.0       0.09        10                 0.9   \n",
      "1                     0.8       0.09        10  0.7000000000000001   \n",
      "2      0.7000000000000001       0.09        10                 0.5   \n",
      "3      0.7000000000000001       0.08         9  0.6000000000000001   \n",
      "4                     0.5        0.1         8  0.7000000000000001   \n",
      "5                     0.8       0.05        10  0.6000000000000001   \n",
      "6                     0.9       0.08         6                 0.8   \n",
      "7                     1.0       0.09         5                 0.5   \n",
      "8     0.30000000000000004       0.08         6                 0.8   \n",
      "9                     0.4       0.08         5                 0.8   \n",
      "10    0.30000000000000004        0.1         6  0.7000000000000001   \n",
      "11    0.30000000000000004       0.04        10                 0.9   \n",
      "12                    0.9       0.06         6                 0.9   \n",
      "13                    0.4       0.04         9                 0.5   \n",
      "14                    0.2       0.06         7                 0.8   \n",
      "15                    0.4       0.07         5                 0.5   \n",
      "16                    0.2       0.09         6                 1.0   \n",
      "17     0.7000000000000001       0.04         8                 1.0   \n",
      "18     0.7000000000000001        0.1         3  0.7000000000000001   \n",
      "19     0.6000000000000001       0.04         7                 0.8   \n",
      "20                    0.9       0.04         7                 1.0   \n",
      "21                    0.2        0.1         3                 0.8   \n",
      "22                    0.1        0.1        10                 0.5   \n",
      "23                    0.2       0.06         4                 0.9   \n",
      "24     0.6000000000000001       0.05         4                 0.9   \n",
      "25                    0.2       0.03         7                 1.0   \n",
      "26                    0.9       0.06         3                 0.8   \n",
      "27     0.7000000000000001       0.08         2                 0.5   \n",
      "28                    0.9       0.04         4                 0.5   \n",
      "29                    1.0       0.07         2  0.6000000000000001   \n",
      "30    0.30000000000000004       0.06         2  0.7000000000000001   \n",
      "31                    0.1       0.09         3                 0.9   \n",
      "32                    0.4       0.01         6  0.6000000000000001   \n",
      "33                    0.1       0.02         6                 0.5   \n",
      "34                    0.1       0.01        10                 0.5   \n",
      "35                    0.1       0.01         6  0.6000000000000001   \n",
      "\n",
      "             model_ids                rmse  \n",
      "0   gbm_grid2_model_28  155.18829021008722  \n",
      "1   gbm_grid2_model_26  157.80912105548475  \n",
      "2   gbm_grid2_model_36  163.43508829947265  \n",
      "3   gbm_grid2_model_27  174.35297101914279  \n",
      "4   gbm_grid2_model_20  201.21236070690443  \n",
      "5    gbm_grid2_model_4  237.83227507336164  \n",
      "6   gbm_grid2_model_11  253.90871012968933  \n",
      "7   gbm_grid2_model_24  296.55156188667166  \n",
      "8   gbm_grid2_model_16   396.5201019335877  \n",
      "9    gbm_grid2_model_3   402.2303386891413  \n",
      "10  gbm_grid2_model_12   417.3495758849555  \n",
      "11   gbm_grid2_model_2  423.17139268983186  \n",
      "12   gbm_grid2_model_7   468.0865466318915  \n",
      "13  gbm_grid2_model_19   499.6380721149669  \n",
      "14  gbm_grid2_model_31   506.9163410591141  \n",
      "15   gbm_grid2_model_6   519.9651514857426  \n",
      "16  gbm_grid2_model_22   529.1931597696074  \n",
      "17  gbm_grid2_model_34    632.016646879787  \n",
      "18  gbm_grid2_model_18   690.0265909845699  \n",
      "19  gbm_grid2_model_33   820.1407986965169  \n",
      "20  gbm_grid2_model_35   821.6857962527287  \n",
      "21  gbm_grid2_model_25   911.1763221030527  \n",
      "22   gbm_grid2_model_9  1070.5524097856076  \n",
      "23  gbm_grid2_model_14   1173.761151551815  \n",
      "24  gbm_grid2_model_30  1421.4246531130732  \n",
      "25  gbm_grid2_model_29   1502.245017674271  \n",
      "26  gbm_grid2_model_17  1631.3848073782237  \n",
      "27  gbm_grid2_model_15   1873.380708036631  \n",
      "28  gbm_grid2_model_13  1930.0168299409204  \n",
      "29   gbm_grid2_model_5   2206.596078389688  \n",
      "30   gbm_grid2_model_8   2676.898135366657  \n",
      "31  gbm_grid2_model_21  2704.5312320452394  \n",
      "32   gbm_grid2_model_1  5246.7921642872625  \n",
      "33  gbm_grid2_model_32    6565.92688903642  \n",
      "34  gbm_grid2_model_10   8134.472485135922  \n",
      "35  gbm_grid2_model_23   8977.191298007878  \n"
     ]
    },
    {
     "data": {
      "text/plain": []
     },
     "execution_count": 51,
     "metadata": {},
     "output_type": "execute_result"
    }
   ],
   "source": [
    "gbm_gridperf1 = gbm_grid2.get_grid(sort_by='rmse')\n",
    "gbm_gridperf1"
   ]
  },
  {
   "cell_type": "markdown",
   "metadata": {},
   "source": [
    "**Displaying the combination of each hyperparameter and their result**"
   ]
  },
  {
   "cell_type": "code",
   "execution_count": 52,
   "metadata": {},
   "outputs": [
    {
     "data": {
      "text/plain": [
       "155.4633820191283"
      ]
     },
     "execution_count": 52,
     "metadata": {},
     "output_type": "execute_result"
    }
   ],
   "source": [
    "best_gbm1 = gbm_gridperf1.models[0]\n",
    "# evaluate the model performance on a test set of top model performance\n",
    "best_gbm_perf1 = best_gbm1.model_performance(test)\n",
    "best_gbm_perf1.rmse()"
   ]
  },
  {
   "cell_type": "markdown",
   "metadata": {},
   "source": [
    "**Again applying Grid search in GBM by increasing the number of trees**"
   ]
  },
  {
   "cell_type": "code",
   "execution_count": 53,
   "metadata": {},
   "outputs": [
    {
     "name": "stdout",
     "output_type": "stream",
     "text": [
      "gbm Grid Build progress: |████████████████████████████████████████████████| 100%\n"
     ]
    },
    {
     "data": {
      "text/plain": [
       "58.73377447701464"
      ]
     },
     "execution_count": 53,
     "metadata": {},
     "output_type": "execute_result"
    }
   ],
   "source": [
    "# Use same data as above\n",
    "from h2o.estimators.gbm import H2OGradientBoostingEstimator\n",
    "from h2o.grid.grid_search import H2OGridSearch\n",
    "# GBM hyperparameters\n",
    "gbm_params2 = {'learn_rate': [i * 0.01 for i in range(1, 11)],\n",
    "                'max_depth': list(range(2, 11)),\n",
    "                'sample_rate': [i * 0.1 for i in range(5, 11)],\n",
    "                'col_sample_rate': [i * 0.1 for i in range(1, 11)]}\n",
    "\n",
    "# Search criteria\n",
    "search_criteria = {'strategy': 'RandomDiscrete', 'max_models': 36, 'seed': 1}\n",
    "\n",
    "# Train and validate a random grid of GBMs\n",
    "gbm_grid2 = H2OGridSearch(model=H2OGradientBoostingEstimator,\n",
    "                          grid_id='gbm_grid2',\n",
    "                          hyper_params=gbm_params2,\n",
    "                          search_criteria=search_criteria)\n",
    "gbm_grid2.train(x=x, y=y,\n",
    "                training_frame=train,\n",
    "                validation_frame=valid,\n",
    "                ntrees=1000,\n",
    "                seed=1)\n",
    "\n",
    "# Get the grid results, sorted by validation AUC\n",
    "gbm_gridperf2 = gbm_grid2.get_grid(sort_by='rmse')\n",
    "gbm_gridperf2\n",
    "\n",
    "# Grab the top GBM model, chosen by validation AUC\n",
    "best_gbm2 = gbm_gridperf2.models[0]\n",
    "\n",
    "# Now let's evaluate the model performance on a test set\n",
    "# so we get an honest estimate of top model performance\n",
    "best_gbm_perf2 = best_gbm2.model_performance(test)\n",
    "\n",
    "best_gbm_perf2.rmse()\n",
    "# 0.7810757307013204"
   ]
  },
  {
   "cell_type": "code",
   "execution_count": 54,
   "metadata": {},
   "outputs": [
    {
     "name": "stdout",
     "output_type": "stream",
     "text": [
      "           col_sample_rate learn_rate max_depth         sample_rate  \\\n",
      "0                      1.0       0.07         2  0.6000000000000001   \n",
      "1       0.7000000000000001       0.08         2                 0.5   \n",
      "2                      0.9       0.04         4                 0.5   \n",
      "3                      0.9       0.06         3                 0.8   \n",
      "4                      0.9       0.04         7                 1.0   \n",
      "5                      0.4       0.04         9                 0.5   \n",
      "6       0.6000000000000001       0.04         7                 0.8   \n",
      "7       0.7000000000000001       0.04         8                 1.0   \n",
      "8                      0.8       0.05        10  0.6000000000000001   \n",
      "9       0.6000000000000001       0.05         4                 0.9   \n",
      "10     0.30000000000000004       0.04        10                 0.9   \n",
      "11                     0.4       0.01         6  0.6000000000000001   \n",
      "12                     0.9       0.06         6                 0.9   \n",
      "13                     1.0       0.09        10                 0.9   \n",
      "14                     0.8       0.09        10  0.7000000000000001   \n",
      "15      0.7000000000000001       0.09        10                 0.5   \n",
      "16      0.7000000000000001       0.08         9  0.6000000000000001   \n",
      "17                     1.0       0.09        10                 0.9   \n",
      "18                     0.8       0.09        10  0.7000000000000001   \n",
      "19                     0.9       0.08         6                 0.8   \n",
      "20      0.7000000000000001       0.09        10                 0.5   \n",
      "21      0.7000000000000001       0.08         9  0.6000000000000001   \n",
      "22     0.30000000000000004       0.06         2  0.7000000000000001   \n",
      "23                     0.5        0.1         8  0.7000000000000001   \n",
      "24                     1.0       0.09         5                 0.5   \n",
      "25                     0.5        0.1         8  0.7000000000000001   \n",
      "26                     0.4       0.07         5                 0.5   \n",
      "27                     0.4       0.08         5                 0.8   \n",
      "28                     0.2       0.03         7                 1.0   \n",
      "29                     0.8       0.05        10  0.6000000000000001   \n",
      ".. ..                  ...        ...       ...                 ...   \n",
      "42     0.30000000000000004       0.04        10                 0.9   \n",
      "43                     0.1       0.02         6                 0.5   \n",
      "44                     0.1       0.01        10                 0.5   \n",
      "45                     0.9       0.06         6                 0.9   \n",
      "46                     0.4       0.04         9                 0.5   \n",
      "47                     0.2       0.06         7                 0.8   \n",
      "48                     0.4       0.07         5                 0.5   \n",
      "49                     0.2       0.09         6                 1.0   \n",
      "50      0.7000000000000001       0.04         8                 1.0   \n",
      "51                     0.1       0.09         3                 0.9   \n",
      "52      0.7000000000000001        0.1         3  0.7000000000000001   \n",
      "53      0.6000000000000001       0.04         7                 0.8   \n",
      "54                     0.9       0.04         7                 1.0   \n",
      "55                     0.1       0.01         6  0.6000000000000001   \n",
      "56                     0.1        0.1        10                 0.5   \n",
      "57                     0.2        0.1         3                 0.8   \n",
      "58                     0.1        0.1        10                 0.5   \n",
      "59                     0.2       0.06         4                 0.9   \n",
      "60      0.6000000000000001       0.05         4                 0.9   \n",
      "61                     0.2       0.03         7                 1.0   \n",
      "62                     0.9       0.06         3                 0.8   \n",
      "63      0.7000000000000001       0.08         2                 0.5   \n",
      "64                     0.9       0.04         4                 0.5   \n",
      "65                     1.0       0.07         2  0.6000000000000001   \n",
      "66     0.30000000000000004       0.06         2  0.7000000000000001   \n",
      "67                     0.1       0.09         3                 0.9   \n",
      "68                     0.4       0.01         6  0.6000000000000001   \n",
      "69                     0.1       0.02         6                 0.5   \n",
      "70                     0.1       0.01        10                 0.5   \n",
      "71                     0.1       0.01         6  0.6000000000000001   \n",
      "\n",
      "             model_ids                rmse  \n",
      "0   gbm_grid2_model_41  58.766387468596044  \n",
      "1   gbm_grid2_model_51   60.88754694858882  \n",
      "2   gbm_grid2_model_49   98.23234218618553  \n",
      "3   gbm_grid2_model_53  106.40540484688152  \n",
      "4   gbm_grid2_model_71  110.54304415759785  \n",
      "5   gbm_grid2_model_55  114.39201268849584  \n",
      "6   gbm_grid2_model_69  114.85169528368188  \n",
      "7   gbm_grid2_model_70  115.49688628610973  \n",
      "8   gbm_grid2_model_40  115.55148863270517  \n",
      "9   gbm_grid2_model_66  117.17985139933826  \n",
      "10  gbm_grid2_model_38  126.84485049757767  \n",
      "11  gbm_grid2_model_37  127.87429838227143  \n",
      "12  gbm_grid2_model_43   131.6529197975949  \n",
      "13  gbm_grid2_model_64  139.75633063905462  \n",
      "14  gbm_grid2_model_62  142.90924077010212  \n",
      "15  gbm_grid2_model_72  147.23640912485368  \n",
      "16  gbm_grid2_model_63   148.5772515127597  \n",
      "17  gbm_grid2_model_28  155.18829021008722  \n",
      "18  gbm_grid2_model_26  157.80912105548475  \n",
      "19  gbm_grid2_model_47  159.00624065526728  \n",
      "20  gbm_grid2_model_36  163.43508829947265  \n",
      "21  gbm_grid2_model_27  174.35297101914279  \n",
      "22  gbm_grid2_model_44   178.3035808117357  \n",
      "23  gbm_grid2_model_56  179.64401955909156  \n",
      "24  gbm_grid2_model_60  180.85520807171358  \n",
      "25  gbm_grid2_model_20  201.21236070690443  \n",
      "26  gbm_grid2_model_42  210.63558664349802  \n",
      "27  gbm_grid2_model_39   214.3486261588243  \n",
      "28  gbm_grid2_model_65  218.63434661147423  \n",
      "29   gbm_grid2_model_4  237.83227507336164  \n",
      "..                 ...                 ...  \n",
      "42   gbm_grid2_model_2  423.17139268983186  \n",
      "43  gbm_grid2_model_68  427.86264567037165  \n",
      "44  gbm_grid2_model_46  441.59449068701315  \n",
      "45   gbm_grid2_model_7   468.0865466318915  \n",
      "46  gbm_grid2_model_19   499.6380721149669  \n",
      "47  gbm_grid2_model_31   506.9163410591141  \n",
      "48   gbm_grid2_model_6   519.9651514857426  \n",
      "49  gbm_grid2_model_22   529.1931597696074  \n",
      "50  gbm_grid2_model_34    632.016646879787  \n",
      "51  gbm_grid2_model_57   651.0744645474964  \n",
      "52  gbm_grid2_model_18   690.0265909845699  \n",
      "53  gbm_grid2_model_33   820.1407986965169  \n",
      "54  gbm_grid2_model_35   821.6857962527287  \n",
      "55  gbm_grid2_model_59   827.9417124229295  \n",
      "56  gbm_grid2_model_45   846.9826096616317  \n",
      "57  gbm_grid2_model_25   911.1763221030527  \n",
      "58   gbm_grid2_model_9  1070.5524097856076  \n",
      "59  gbm_grid2_model_14   1173.761151551815  \n",
      "60  gbm_grid2_model_30  1421.4246531130732  \n",
      "61  gbm_grid2_model_29   1502.245017674271  \n",
      "62  gbm_grid2_model_17  1631.3848073782237  \n",
      "63  gbm_grid2_model_15   1873.380708036631  \n",
      "64  gbm_grid2_model_13  1930.0168299409204  \n",
      "65   gbm_grid2_model_5   2206.596078389688  \n",
      "66   gbm_grid2_model_8   2676.898135366657  \n",
      "67  gbm_grid2_model_21  2704.5312320452394  \n",
      "68   gbm_grid2_model_1  5246.7921642872625  \n",
      "69  gbm_grid2_model_32    6565.92688903642  \n",
      "70  gbm_grid2_model_10   8134.472485135922  \n",
      "71  gbm_grid2_model_23   8977.191298007878  \n",
      "\n",
      "[72 rows x 7 columns]\n"
     ]
    },
    {
     "data": {
      "text/plain": []
     },
     "execution_count": 54,
     "metadata": {},
     "output_type": "execute_result"
    }
   ],
   "source": [
    "gbm_gridperf2"
   ]
  },
  {
   "cell_type": "markdown",
   "metadata": {},
   "source": [
    "**Clearly we can here see that the important hyperparameters are the given mentioned below as by tuning these hyperparaeter we can see the significant change in our test error and accuracy which increased by more than 60%**\n",
    "- **col_sample_rate**\n",
    "- **learn_rate**\n",
    "- **max_depth**\n",
    "- **sample rate**\n",
    "- **number of trees**"
   ]
  },
  {
   "cell_type": "markdown",
   "metadata": {},
   "source": [
    "**The range of hyperparameter thus for GBM is**\n",
    "- **For col_sample_rate - 1.0**\n",
    "- **learn_rate - (0.07-0.09)**\n",
    "- **max_depth - (7-10)**\n",
    "- **sample rat - (0.5-0.9)**\n",
    "- **number of trees - (800-1000)**"
   ]
  },
  {
   "cell_type": "markdown",
   "metadata": {},
   "source": [
    "### Finding Important Hyperparameter of GLM "
   ]
  },
  {
   "cell_type": "code",
   "execution_count": 50,
   "metadata": {},
   "outputs": [],
   "source": [
    "glm_params1 = { 'tweedie_variance_power': [-2,-1,0,1,2],\n",
    "               'tweedie_link_power': [-1,0,1,2],\n",
    "               'alpha' : [0,0.2,0.4,0.7,0.8,1],\n",
    "               'lambda': [0.0013175999248032143,0.09590749037478274, 0.022970099250379815, 0.003416462552479351,0.40044436071981493],\n",
    "              }"
   ]
  },
  {
   "cell_type": "code",
   "execution_count": 51,
   "metadata": {},
   "outputs": [],
   "source": [
    "from h2o.estimators import H2OGeneralizedLinearEstimator\n",
    "from h2o.grid.grid_search import H2OGridSearch\n",
    "# Train and validate a cartesian grid of GLMs\n",
    "glm_grid1 = H2OGridSearch(model=H2OGeneralizedLinearEstimator,\n",
    "                         grid_id='glm_grid1',\n",
    "                         hyper_params=glm_params1)"
   ]
  },
  {
   "cell_type": "code",
   "execution_count": 52,
   "metadata": {},
   "outputs": [
    {
     "name": "stdout",
     "output_type": "stream",
     "text": [
      "glm Grid Build progress: |████████████████████████████████████████████████| 100%\n"
     ]
    }
   ],
   "source": [
    "glm_grid1.train(x=x, y=y,\n",
    "                training_frame=train)"
   ]
  },
  {
   "cell_type": "code",
   "execution_count": 53,
   "metadata": {},
   "outputs": [
    {
     "name": "stdout",
     "output_type": "stream",
     "text": [
      "        alpha                   lambda tweedie_link_power  \\\n",
      "0       [1.0]  [0.0013175999248032143]                0.0   \n",
      "1       [1.0]  [0.0013175999248032143]                0.0   \n",
      "2       [1.0]  [0.0013175999248032143]                2.0   \n",
      "3       [1.0]  [0.0013175999248032143]                2.0   \n",
      "4       [1.0]  [0.0013175999248032143]               -1.0   \n",
      "5       [1.0]  [0.0013175999248032143]               -1.0   \n",
      "6       [1.0]  [0.0013175999248032143]                1.0   \n",
      "7       [1.0]  [0.0013175999248032143]               -1.0   \n",
      "8       [1.0]  [0.0013175999248032143]                0.0   \n",
      "9       [1.0]  [0.0013175999248032143]                1.0   \n",
      "10      [1.0]  [0.0013175999248032143]                2.0   \n",
      "11      [1.0]  [0.0013175999248032143]               -1.0   \n",
      "12      [1.0]  [0.0013175999248032143]               -1.0   \n",
      "13      [1.0]  [0.0013175999248032143]                2.0   \n",
      "14      [1.0]  [0.0013175999248032143]                0.0   \n",
      "15      [1.0]  [0.0013175999248032143]                1.0   \n",
      "16      [1.0]  [0.0013175999248032143]                1.0   \n",
      "17      [1.0]  [0.0013175999248032143]                2.0   \n",
      "18      [1.0]  [0.0013175999248032143]                0.0   \n",
      "19      [1.0]  [0.0013175999248032143]                1.0   \n",
      "20      [1.0]   [0.003416462552479351]                0.0   \n",
      "21      [1.0]   [0.003416462552479351]               -1.0   \n",
      "22      [1.0]   [0.003416462552479351]                1.0   \n",
      "23      [1.0]   [0.003416462552479351]                1.0   \n",
      "24      [1.0]   [0.003416462552479351]               -1.0   \n",
      "25      [1.0]   [0.003416462552479351]                2.0   \n",
      "26      [1.0]   [0.003416462552479351]                0.0   \n",
      "27      [1.0]   [0.003416462552479351]                2.0   \n",
      "28      [1.0]   [0.003416462552479351]               -1.0   \n",
      "29      [1.0]   [0.003416462552479351]               -1.0   \n",
      "..  ..    ...                      ...                ...   \n",
      "570     [0.2]    [0.40044436071981493]                0.0   \n",
      "571     [0.2]    [0.40044436071981493]                0.0   \n",
      "572     [0.2]    [0.40044436071981493]               -1.0   \n",
      "573     [0.2]    [0.40044436071981493]                2.0   \n",
      "574     [0.2]    [0.40044436071981493]                1.0   \n",
      "575     [0.2]    [0.40044436071981493]                0.0   \n",
      "576     [0.2]    [0.40044436071981493]                2.0   \n",
      "577     [0.2]    [0.40044436071981493]               -1.0   \n",
      "578     [0.2]    [0.40044436071981493]               -1.0   \n",
      "579     [0.2]    [0.40044436071981493]               -1.0   \n",
      "580     [0.0]    [0.40044436071981493]                0.0   \n",
      "581     [0.0]    [0.40044436071981493]                1.0   \n",
      "582     [0.0]    [0.40044436071981493]                2.0   \n",
      "583     [0.0]    [0.40044436071981493]                1.0   \n",
      "584     [0.0]    [0.40044436071981493]               -1.0   \n",
      "585     [0.0]    [0.40044436071981493]                1.0   \n",
      "586     [0.0]    [0.40044436071981493]                0.0   \n",
      "587     [0.0]    [0.40044436071981493]                0.0   \n",
      "588     [0.0]    [0.40044436071981493]               -1.0   \n",
      "589     [0.0]    [0.40044436071981493]               -1.0   \n",
      "590     [0.0]    [0.40044436071981493]                2.0   \n",
      "591     [0.0]    [0.40044436071981493]                1.0   \n",
      "592     [0.0]    [0.40044436071981493]                0.0   \n",
      "593     [0.0]    [0.40044436071981493]                1.0   \n",
      "594     [0.0]    [0.40044436071981493]                2.0   \n",
      "595     [0.0]    [0.40044436071981493]               -1.0   \n",
      "596     [0.0]    [0.40044436071981493]                0.0   \n",
      "597     [0.0]    [0.40044436071981493]                2.0   \n",
      "598     [0.0]    [0.40044436071981493]               -1.0   \n",
      "599     [0.0]    [0.40044436071981493]                2.0   \n",
      "\n",
      "    tweedie_variance_power            model_ids                  rmse  \n",
      "0                      2.0  glm_grid1_model_516  0.004442896553888706  \n",
      "1                     -2.0   glm_grid1_model_36  0.004442896553888706  \n",
      "2                     -2.0   glm_grid1_model_96  0.004442896553888706  \n",
      "3                      0.0  glm_grid1_model_336  0.004442896553888706  \n",
      "4                     -1.0  glm_grid1_model_126  0.004442896553888706  \n",
      "5                      1.0  glm_grid1_model_366  0.004442896553888706  \n",
      "6                      0.0  glm_grid1_model_306  0.004442896553888706  \n",
      "7                      0.0  glm_grid1_model_246  0.004442896553888706  \n",
      "8                      0.0  glm_grid1_model_276  0.004442896553888706  \n",
      "9                      1.0  glm_grid1_model_426  0.004442896553888706  \n",
      "10                     2.0  glm_grid1_model_576  0.004442896553888706  \n",
      "11                    -2.0    glm_grid1_model_6  0.004442896553888706  \n",
      "12                     2.0  glm_grid1_model_486  0.004442896553888706  \n",
      "13                    -1.0  glm_grid1_model_216  0.004442896553888706  \n",
      "14                     1.0  glm_grid1_model_396  0.004442896553888706  \n",
      "15                    -2.0   glm_grid1_model_66  0.004442896553888706  \n",
      "16                    -1.0  glm_grid1_model_186  0.004442896553888706  \n",
      "17                     1.0  glm_grid1_model_456  0.004442896553888706  \n",
      "18                    -1.0  glm_grid1_model_156  0.004442896553888706  \n",
      "19                     2.0  glm_grid1_model_546  0.004442896553888706  \n",
      "20                     2.0  glm_grid1_model_534  0.011519369460649955  \n",
      "21                     2.0  glm_grid1_model_504  0.011519369460649955  \n",
      "22                     0.0  glm_grid1_model_324  0.011519369460649955  \n",
      "23                    -2.0   glm_grid1_model_84  0.011519369460649955  \n",
      "24                     1.0  glm_grid1_model_384  0.011519369460649955  \n",
      "25                     0.0  glm_grid1_model_354  0.011519369460649955  \n",
      "26                     1.0  glm_grid1_model_414  0.011519369460649955  \n",
      "27                    -2.0  glm_grid1_model_114  0.011519369460649955  \n",
      "28                     0.0  glm_grid1_model_264  0.011519369460649955  \n",
      "29                    -1.0  glm_grid1_model_144  0.011519369460649955  \n",
      "..                     ...                  ...                   ...  \n",
      "570                   -1.0  glm_grid1_model_176     2778.148097908403  \n",
      "571                    1.0  glm_grid1_model_416     2778.148097908403  \n",
      "572                    0.0  glm_grid1_model_266     2778.148097908403  \n",
      "573                    2.0  glm_grid1_model_596     2778.148097908403  \n",
      "574                   -1.0  glm_grid1_model_206     2778.148097908403  \n",
      "575                    0.0  glm_grid1_model_296     2778.148097908403  \n",
      "576                   -1.0  glm_grid1_model_236     2778.148097908403  \n",
      "577                   -2.0   glm_grid1_model_26     2778.148097908403  \n",
      "578                    1.0  glm_grid1_model_386     2778.148097908403  \n",
      "579                    2.0  glm_grid1_model_506     2778.148097908403  \n",
      "580                   -2.0   glm_grid1_model_55    3280.6201012595925  \n",
      "581                    2.0  glm_grid1_model_565    3280.6201012595925  \n",
      "582                    1.0  glm_grid1_model_475    3280.6201012595925  \n",
      "583                   -1.0  glm_grid1_model_205    3280.6201012595925  \n",
      "584                   -1.0  glm_grid1_model_145    3280.6201012595925  \n",
      "585                    0.0  glm_grid1_model_325    3280.6201012595925  \n",
      "586                    1.0  glm_grid1_model_415    3280.6201012595925  \n",
      "587                    2.0  glm_grid1_model_535    3280.6201012595925  \n",
      "588                    1.0  glm_grid1_model_385    3280.6201012595925  \n",
      "589                   -2.0   glm_grid1_model_25    3280.6201012595925  \n",
      "590                    2.0  glm_grid1_model_595    3280.6201012595925  \n",
      "591                    1.0  glm_grid1_model_445    3280.6201012595925  \n",
      "592                    0.0  glm_grid1_model_295    3280.6201012595925  \n",
      "593                   -2.0   glm_grid1_model_85    3280.6201012595925  \n",
      "594                   -2.0  glm_grid1_model_115    3280.6201012595925  \n",
      "595                    0.0  glm_grid1_model_265    3280.6201012595925  \n",
      "596                   -1.0  glm_grid1_model_175    3280.6201012595925  \n",
      "597                    0.0  glm_grid1_model_355    3280.6201012595925  \n",
      "598                    2.0  glm_grid1_model_505    3280.6201012595925  \n",
      "599                   -1.0  glm_grid1_model_235    3280.6201012595925  \n",
      "\n"
     ]
    },
    {
     "name": "stdout",
     "output_type": "stream",
     "text": [
      "[600 rows x 7 columns]\n"
     ]
    },
    {
     "data": {
      "text/plain": []
     },
     "execution_count": 53,
     "metadata": {},
     "output_type": "execute_result"
    }
   ],
   "source": [
    "glm_gridperf1 = glm_grid1.get_grid(sort_by='rmse')\n",
    "glm_gridperf1"
   ]
  },
  {
   "cell_type": "code",
   "execution_count": 54,
   "metadata": {},
   "outputs": [],
   "source": [
    "# Grab the top GBM model, chosen by validation AUC\n",
    "best_glm1 = glm_gridperf1.models[0]\n"
   ]
  },
  {
   "cell_type": "code",
   "execution_count": 55,
   "metadata": {},
   "outputs": [
    {
     "data": {
      "text/plain": [
       "0.004461514319263487"
      ]
     },
     "execution_count": 55,
     "metadata": {},
     "output_type": "execute_result"
    }
   ],
   "source": [
    "# Now let's evaluate the model performance on a test set\n",
    "# so we get an honest estimate of top model performance\n",
    "best_glm_perf1 = best_glm1.model_performance(test)\n",
    "\n",
    "best_glm_perf1.rmse()\n",
    "# 0.7810757307013204"
   ]
  },
  {
   "cell_type": "markdown",
   "metadata": {},
   "source": [
    "**Clearly we can here see that the important hyperparameters are the given mentioned below as by tuning these hyperparaeter we can see the significant change in our test error and accuracy which increased by more than 90%**\n",
    "\n",
    "- **tweedie_variance_power**\n",
    "- **tweedie_link_power**\n",
    "- **alpha**\n",
    "- **lambda**"
   ]
  },
  {
   "cell_type": "markdown",
   "metadata": {},
   "source": [
    "**The range of hyperparameter thus for GLM is**\n",
    "\n",
    "- **tweedie_variance_power - ((-2) - 0)**\n",
    "- **tweedie_link_power - ((-1) - 2)**\n",
    "- **alpha - (1)**\n",
    "- **lambda - (0.001 - 0.002)**"
   ]
  },
  {
   "cell_type": "markdown",
   "metadata": {},
   "source": [
    "## **Comparing the models of the leaderboard**"
   ]
  },
  {
   "cell_type": "code",
   "execution_count": 2,
   "metadata": {},
   "outputs": [
    {
     "data": {
      "image/png": "[encoded data removed]",
      "text/plain": [
       "<Figure size 432x288 with 1 Axes>"
      ]
     },
     "metadata": {
      "needs_background": "light"
     },
     "output_type": "display_data"
    }
   ],
   "source": [
    "import matplotlib.pyplot as plt\n",
    "import csv\n",
    "\n",
    "x = []\n",
    "y = []\n",
    "\n",
    "with open(r'C:\\Users\\jyoti\\INFO_6105-master\\INFO_6105-master\\Assignments\\Final Project\\9C8mupedb_EmpAccess_2000\\e8BP5k3JL_EmpAccess_2000\\cg2qaOzf0_EmpAccess_2000\\cg2qaOzf0Melbournehousingprices_2000_leaderboard.csv','r') as csvfile:\n",
    "    plots = csv.reader(csvfile, delimiter=',')\n",
    "    for row in plots:\n",
    "        x.append((row[0]))\n",
    "        y.append((row[3]))\n",
    "\n",
    "plt.plot(x,y, label='Loaded from file!')\n",
    "plt.xlabel('model')\n",
    "plt.ylabel('rmse')\n",
    "plt.title('Interesting Graph\\nCheck it out')\n",
    "plt.legend()\n",
    "plt.show()"
   ]
  },
  {
   "cell_type": "code",
   "execution_count": 3,
   "metadata": {},
   "outputs": [],
   "source": [
    "df_metrix = pd.read_csv(r\"C:\\Users\\jyoti\\INFO_6105-master\\INFO_6105-master\\Assignments\\Final Project\\model_metrics.csv\")"
   ]
  },
  {
   "cell_type": "code",
   "execution_count": 4,
   "metadata": {},
   "outputs": [],
   "source": [
    "y = df_metrix[['model_id','mse', 'rmse','mae','rmsle','mean_residual_deviance']]"
   ]
  },
  {
   "cell_type": "code",
   "execution_count": 5,
   "metadata": {},
   "outputs": [
    {
     "data": {
      "text/plain": [
       "<seaborn.axisgrid.PairGrid at 0x1f035a25c88>"
      ]
     },
     "execution_count": 5,
     "metadata": {},
     "output_type": "execute_result"
    },
    {
     "data": {
      "image/png": "[encoded data removed]",
      "text/plain": [
       "<Figure size 1080x1080 with 42 Axes>"
      ]
     },
     "metadata": {
      "needs_background": "light"
     },
     "output_type": "display_data"
    }
   ],
   "source": [
    "sns.pairplot(y)"
   ]
  },
  {
   "cell_type": "markdown",
   "metadata": {},
   "source": [
    "# Conclusion"
   ]
  },
  {
   "cell_type": "markdown",
   "metadata": {},
   "source": [
    "<h4 align=\"justify\"> The automl is ran in the dataset after cleaning the data and checking the missing values. The runtime of 1000 seconds gave 6 models in the leaderboard, 2 out of them was Gradient Boosting Models, 2 Stacked Ensemble Models while other 2 are Generalised Linear Model.The automl consumed 2GB to run this notebook. The generated parameters and hyperparameters are saved in jason file. The hyperparameter which are important in case of GBM is col_sample_rate, learn_rate, max_depth, sample rate, number of trees with the respective ranges 1.0,(0.07-0.09), (7-10), (0.5-0.9), (800-1000). The important hyperparameter of GLM with thier appropriate ranges are tweedie_variance_power - ((-2) - 0), tweedie_link_power - ((-1) - 2), alpha - (1), lambda - (0.001 - 0.002). The Stacked Ensemble Model aren't taken into consideration for now as they are formed by taking the mean values of residual deviance in case of regression.\n",
    "All the hyperparameter which are important and their ranges are calculated by applying random grid search in the given models i.e GLM and GBM. Through random grid search result where we got 58.77 RMSE in case of GBM and 0.004 in case of GLM. We tuned the hyperparameter of both the algorithms generated by automl.\n",
    "The difference in the model with respect to their residual veriance can be clearly seen in the barplot and the best performed model by the automl can be seen in the pairplot formed. These hyperparmeter for the dataset can be further used in future to generate a hyperparameter database which will produce the range without search which can later be used to visualize and understand statistical concepts of bias/variance trade off.</h4>"
   ]
  },
  {
   "cell_type": "markdown",
   "metadata": {},
   "source": [
    "# Contribution\n",
    "**My contribution is 60% while 40% is the materials i have taken from internet**"
   ]
  },
  {
   "cell_type": "markdown",
   "metadata": {},
   "source": [
    "# Citation"
   ]
  },
  {
   "cell_type": "markdown",
   "metadata": {},
   "source": [
    " - docs.h2o.ai/h2o/latest-stable/h2o-docs/data-science.html\n",
    " - https://github.com/nikbearbrown/CSYE_7245/blob/master/H2O \n",
    " - https://github.com/nikbearbrown/CSYE_7245/blob/master/H2O\n",
    " - https://github.com/prabhuSub/Hyperparamter-Samples\n",
    " - https://github.com/ResidentMario/missingno\n",
    " - https://towardsdatascience.com/visualizing-data-with-pair-plots-in-python-f228cf529166 \n",
    " - https://www.kaggle.com/ekami66/detailed-exploratory-data-analysis-with-python \n",
    " - https://www.datascience.com/blog/introduction-to-correlation-learn-data-science-tutorials\n",
    " - http://docs.h2o.ai/h2o/latest-stable/h2o-docs/grid-search.html"
   ]
  },
  {
   "cell_type": "markdown",
   "metadata": {},
   "source": [
    "# License"
   ]
  },
  {
   "cell_type": "markdown",
   "metadata": {},
   "source": [
    "<h4 align=\"justify\">Copyright 2019 Jyoti Goyal\n",
    "\n",
    "Permission is hereby granted, free of charge, to any person obtaining a copy of this software and associated documentation files (the \"Software\"), to deal in the Software without restriction, including without limitation the rights to use, copy, modify, merge, publish, distribute, sublicense, and/or sell copies of the Software, and to permit persons to whom the Software is furnished to do so, subject to the following conditions:\n",
    "The above copyright notice and this permission notice shall be included in all copies or substantial portions of the Software.\n",
    "THE SOFTWARE IS PROVIDED \"AS IS\", WITHOUT WARRANTY OF ANY KIND, EXPRESS OR IMPLIED, INCLUDING BUT NOT LIMITED TO THE WARRANTIES OF MERCHANTABILITY, FITNESS FOR A PARTICULAR PURPOSE AND NONINFRINGEMENT. IN NO EVENT SHALL THE AUTHORS OR COPYRIGHT HOLDERS BE LIABLE FOR ANY CLAIM, DAMAGES OR OTHER LIABILITY, WHETHER IN AN ACTION OF CONTRACT, TORT OR OTHERWISE, ARISING FROM, OUT OF OR IN CONNECTION WITH THE SOFTWARE OR THE USE OR OTHER DEALINGS IN THE SOFTWARE.</h4>"
   ]
  }
 ],
 "metadata": {
  "kernelspec": {
   "display_name": "Python 3",
   "language": "python",
   "name": "python3"
  },
  "language_info": {
   "codemirror_mode": {
    "name": "ipython",
    "version": 3
   },
   "file_extension": ".py",
   "mimetype": "text/x-python",
   "name": "python",
   "nbconvert_exporter": "python",
   "pygments_lexer": "ipython3",
   "version": "3.7.1"
  }
 },
 "nbformat": 4,
 "nbformat_minor": 2
}
