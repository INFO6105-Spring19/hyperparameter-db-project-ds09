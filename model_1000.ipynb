{
 "cells": [
  {
   "cell_type": "code",
   "execution_count": 1,
   "metadata": {},
   "outputs": [],
   "source": [
    "# importing libraries\n",
    "%matplotlib inline \n",
    "import matplotlib.pyplot as plt\n",
    "import numpy as np\n",
    "import pandas as pd\n",
    "from scipy import stats as st\n",
    "import seaborn as sns\n",
    "import re\n",
    "from sklearn.preprocessing import LabelEncoder\n",
    "from sklearn.model_selection import train_test_split\n",
    "from sklearn.metrics import mean_squared_error\n",
    "from sklearn.metrics import classification_report\n",
    "from sklearn.metrics import confusion_matrix\n",
    "from sklearn.metrics import accuracy_score\n",
    "from sklearn.preprocessing import StandardScaler\n",
    "from sklearn.linear_model import LinearRegression\n",
    "from sklearn.linear_model import LogisticRegression\n",
    "import missingno as msno\n",
    "from math import* \n",
    "from reportlab.lib.styles import ParagraphStyle\n",
    "import statsmodels.api as sm\n",
    "from statsmodels.sandbox.regression.predstd import wls_prediction_std\n",
    "from sklearn.preprocessing import MinMaxScaler\n",
    "from sklearn.linear_model import Ridge\n",
    "from sklearn.model_selection import cross_validate\n",
    "from sklearn.model_selection import cross_val_score\n",
    "from sklearn.model_selection import KFold\n",
    "from sklearn.model_selection import StratifiedKFold\n",
    "from sklearn.metrics import mean_squared_error"
   ]
  },
  {
   "cell_type": "code",
   "execution_count": 2,
   "metadata": {},
   "outputs": [],
   "source": [
    "# importing the dataset\n",
    "df=pd.read_csv(\"HousePrices_HalfMil.csv\", decimal = ',')"
   ]
  },
  {
   "cell_type": "code",
   "execution_count": 3,
   "metadata": {},
   "outputs": [
    {
     "data": {
      "text/html": [
       "<div>\n",
       "<style scoped>\n",
       "    .dataframe tbody tr th:only-of-type {\n",
       "        vertical-align: middle;\n",
       "    }\n",
       "\n",
       "    .dataframe tbody tr th {\n",
       "        vertical-align: top;\n",
       "    }\n",
       "\n",
       "    .dataframe thead th {\n",
       "        text-align: right;\n",
       "    }\n",
       "</style>\n",
       "<table border=\"1\" class=\"dataframe\">\n",
       "  <thead>\n",
       "    <tr style=\"text-align: right;\">\n",
       "      <th></th>\n",
       "      <th>Area</th>\n",
       "      <th>Garage</th>\n",
       "      <th>FirePlace</th>\n",
       "      <th>Baths</th>\n",
       "      <th>White Marble</th>\n",
       "      <th>Black Marble</th>\n",
       "      <th>Indian Marble</th>\n",
       "      <th>Floors</th>\n",
       "      <th>City</th>\n",
       "      <th>Solar</th>\n",
       "      <th>Electric</th>\n",
       "      <th>Fiber</th>\n",
       "      <th>Glass Doors</th>\n",
       "      <th>Swiming Pool</th>\n",
       "      <th>Garden</th>\n",
       "      <th>Prices</th>\n",
       "    </tr>\n",
       "  </thead>\n",
       "  <tbody>\n",
       "    <tr>\n",
       "      <th>0</th>\n",
       "      <td>164</td>\n",
       "      <td>2</td>\n",
       "      <td>0</td>\n",
       "      <td>2</td>\n",
       "      <td>0</td>\n",
       "      <td>1</td>\n",
       "      <td>0</td>\n",
       "      <td>0</td>\n",
       "      <td>3</td>\n",
       "      <td>1</td>\n",
       "      <td>1</td>\n",
       "      <td>1</td>\n",
       "      <td>1</td>\n",
       "      <td>0</td>\n",
       "      <td>0</td>\n",
       "      <td>43800</td>\n",
       "    </tr>\n",
       "    <tr>\n",
       "      <th>1</th>\n",
       "      <td>84</td>\n",
       "      <td>2</td>\n",
       "      <td>0</td>\n",
       "      <td>4</td>\n",
       "      <td>0</td>\n",
       "      <td>0</td>\n",
       "      <td>1</td>\n",
       "      <td>1</td>\n",
       "      <td>2</td>\n",
       "      <td>0</td>\n",
       "      <td>0</td>\n",
       "      <td>0</td>\n",
       "      <td>1</td>\n",
       "      <td>1</td>\n",
       "      <td>1</td>\n",
       "      <td>37550</td>\n",
       "    </tr>\n",
       "    <tr>\n",
       "      <th>2</th>\n",
       "      <td>190</td>\n",
       "      <td>2</td>\n",
       "      <td>4</td>\n",
       "      <td>4</td>\n",
       "      <td>1</td>\n",
       "      <td>0</td>\n",
       "      <td>0</td>\n",
       "      <td>0</td>\n",
       "      <td>2</td>\n",
       "      <td>0</td>\n",
       "      <td>0</td>\n",
       "      <td>1</td>\n",
       "      <td>0</td>\n",
       "      <td>0</td>\n",
       "      <td>0</td>\n",
       "      <td>49500</td>\n",
       "    </tr>\n",
       "    <tr>\n",
       "      <th>3</th>\n",
       "      <td>75</td>\n",
       "      <td>2</td>\n",
       "      <td>4</td>\n",
       "      <td>4</td>\n",
       "      <td>0</td>\n",
       "      <td>0</td>\n",
       "      <td>1</td>\n",
       "      <td>1</td>\n",
       "      <td>1</td>\n",
       "      <td>1</td>\n",
       "      <td>1</td>\n",
       "      <td>1</td>\n",
       "      <td>1</td>\n",
       "      <td>1</td>\n",
       "      <td>1</td>\n",
       "      <td>50075</td>\n",
       "    </tr>\n",
       "    <tr>\n",
       "      <th>4</th>\n",
       "      <td>148</td>\n",
       "      <td>1</td>\n",
       "      <td>4</td>\n",
       "      <td>2</td>\n",
       "      <td>1</td>\n",
       "      <td>0</td>\n",
       "      <td>0</td>\n",
       "      <td>1</td>\n",
       "      <td>2</td>\n",
       "      <td>1</td>\n",
       "      <td>0</td>\n",
       "      <td>0</td>\n",
       "      <td>1</td>\n",
       "      <td>1</td>\n",
       "      <td>1</td>\n",
       "      <td>52400</td>\n",
       "    </tr>\n",
       "  </tbody>\n",
       "</table>\n",
       "</div>"
      ],
      "text/plain": [
       "   Area  Garage  FirePlace  Baths  White Marble  Black Marble  Indian Marble  \\\n",
       "0   164       2          0      2             0             1              0   \n",
       "1    84       2          0      4             0             0              1   \n",
       "2   190       2          4      4             1             0              0   \n",
       "3    75       2          4      4             0             0              1   \n",
       "4   148       1          4      2             1             0              0   \n",
       "\n",
       "   Floors  City  Solar  Electric  Fiber  Glass Doors  Swiming Pool  Garden  \\\n",
       "0       0     3      1         1      1            1             0       0   \n",
       "1       1     2      0         0      0            1             1       1   \n",
       "2       0     2      0         0      1            0             0       0   \n",
       "3       1     1      1         1      1            1             1       1   \n",
       "4       1     2      1         0      0            1             1       1   \n",
       "\n",
       "   Prices  \n",
       "0   43800  \n",
       "1   37550  \n",
       "2   49500  \n",
       "3   50075  \n",
       "4   52400  "
      ]
     },
     "execution_count": 3,
     "metadata": {},
     "output_type": "execute_result"
    }
   ],
   "source": [
    "df.head()"
   ]
  },
  {
   "cell_type": "code",
   "execution_count": 4,
   "metadata": {},
   "outputs": [
    {
     "data": {
      "text/html": [
       "<div>\n",
       "<style scoped>\n",
       "    .dataframe tbody tr th:only-of-type {\n",
       "        vertical-align: middle;\n",
       "    }\n",
       "\n",
       "    .dataframe tbody tr th {\n",
       "        vertical-align: top;\n",
       "    }\n",
       "\n",
       "    .dataframe thead th {\n",
       "        text-align: right;\n",
       "    }\n",
       "</style>\n",
       "<table border=\"1\" class=\"dataframe\">\n",
       "  <thead>\n",
       "    <tr style=\"text-align: right;\">\n",
       "      <th></th>\n",
       "      <th>Area</th>\n",
       "      <th>Garage</th>\n",
       "      <th>FirePlace</th>\n",
       "      <th>Baths</th>\n",
       "      <th>White Marble</th>\n",
       "      <th>Black Marble</th>\n",
       "      <th>Indian Marble</th>\n",
       "      <th>Floors</th>\n",
       "      <th>City</th>\n",
       "      <th>Solar</th>\n",
       "      <th>Electric</th>\n",
       "      <th>Fiber</th>\n",
       "      <th>Glass Doors</th>\n",
       "      <th>Swiming Pool</th>\n",
       "      <th>Garden</th>\n",
       "      <th>Prices</th>\n",
       "    </tr>\n",
       "  </thead>\n",
       "  <tbody>\n",
       "    <tr>\n",
       "      <th>count</th>\n",
       "      <td>500000.000000</td>\n",
       "      <td>500000.000000</td>\n",
       "      <td>500000.000000</td>\n",
       "      <td>500000.000000</td>\n",
       "      <td>500000.000000</td>\n",
       "      <td>500000.000000</td>\n",
       "      <td>500000.000000</td>\n",
       "      <td>500000.000000</td>\n",
       "      <td>500000.000000</td>\n",
       "      <td>500000.000000</td>\n",
       "      <td>500000.00000</td>\n",
       "      <td>500000.000000</td>\n",
       "      <td>500000.00000</td>\n",
       "      <td>500000.000000</td>\n",
       "      <td>500000.000000</td>\n",
       "      <td>500000.000000</td>\n",
       "    </tr>\n",
       "    <tr>\n",
       "      <th>mean</th>\n",
       "      <td>124.929554</td>\n",
       "      <td>2.001290</td>\n",
       "      <td>2.003398</td>\n",
       "      <td>2.998074</td>\n",
       "      <td>0.332992</td>\n",
       "      <td>0.332690</td>\n",
       "      <td>0.334318</td>\n",
       "      <td>0.499386</td>\n",
       "      <td>2.000940</td>\n",
       "      <td>0.498694</td>\n",
       "      <td>0.50065</td>\n",
       "      <td>0.500468</td>\n",
       "      <td>0.49987</td>\n",
       "      <td>0.500436</td>\n",
       "      <td>0.501646</td>\n",
       "      <td>42050.139350</td>\n",
       "    </tr>\n",
       "    <tr>\n",
       "      <th>std</th>\n",
       "      <td>71.795363</td>\n",
       "      <td>0.817005</td>\n",
       "      <td>1.414021</td>\n",
       "      <td>1.414227</td>\n",
       "      <td>0.471284</td>\n",
       "      <td>0.471177</td>\n",
       "      <td>0.471752</td>\n",
       "      <td>0.500000</td>\n",
       "      <td>0.816209</td>\n",
       "      <td>0.499999</td>\n",
       "      <td>0.50000</td>\n",
       "      <td>0.500000</td>\n",
       "      <td>0.50000</td>\n",
       "      <td>0.500000</td>\n",
       "      <td>0.499998</td>\n",
       "      <td>12110.237201</td>\n",
       "    </tr>\n",
       "    <tr>\n",
       "      <th>min</th>\n",
       "      <td>1.000000</td>\n",
       "      <td>1.000000</td>\n",
       "      <td>0.000000</td>\n",
       "      <td>1.000000</td>\n",
       "      <td>0.000000</td>\n",
       "      <td>0.000000</td>\n",
       "      <td>0.000000</td>\n",
       "      <td>0.000000</td>\n",
       "      <td>1.000000</td>\n",
       "      <td>0.000000</td>\n",
       "      <td>0.00000</td>\n",
       "      <td>0.000000</td>\n",
       "      <td>0.00000</td>\n",
       "      <td>0.000000</td>\n",
       "      <td>0.000000</td>\n",
       "      <td>7725.000000</td>\n",
       "    </tr>\n",
       "    <tr>\n",
       "      <th>25%</th>\n",
       "      <td>63.000000</td>\n",
       "      <td>1.000000</td>\n",
       "      <td>1.000000</td>\n",
       "      <td>2.000000</td>\n",
       "      <td>0.000000</td>\n",
       "      <td>0.000000</td>\n",
       "      <td>0.000000</td>\n",
       "      <td>0.000000</td>\n",
       "      <td>1.000000</td>\n",
       "      <td>0.000000</td>\n",
       "      <td>0.00000</td>\n",
       "      <td>0.000000</td>\n",
       "      <td>0.00000</td>\n",
       "      <td>0.000000</td>\n",
       "      <td>0.000000</td>\n",
       "      <td>33500.000000</td>\n",
       "    </tr>\n",
       "    <tr>\n",
       "      <th>50%</th>\n",
       "      <td>125.000000</td>\n",
       "      <td>2.000000</td>\n",
       "      <td>2.000000</td>\n",
       "      <td>3.000000</td>\n",
       "      <td>0.000000</td>\n",
       "      <td>0.000000</td>\n",
       "      <td>0.000000</td>\n",
       "      <td>0.000000</td>\n",
       "      <td>2.000000</td>\n",
       "      <td>0.000000</td>\n",
       "      <td>1.00000</td>\n",
       "      <td>1.000000</td>\n",
       "      <td>0.00000</td>\n",
       "      <td>1.000000</td>\n",
       "      <td>1.000000</td>\n",
       "      <td>41850.000000</td>\n",
       "    </tr>\n",
       "    <tr>\n",
       "      <th>75%</th>\n",
       "      <td>187.000000</td>\n",
       "      <td>3.000000</td>\n",
       "      <td>3.000000</td>\n",
       "      <td>4.000000</td>\n",
       "      <td>1.000000</td>\n",
       "      <td>1.000000</td>\n",
       "      <td>1.000000</td>\n",
       "      <td>1.000000</td>\n",
       "      <td>3.000000</td>\n",
       "      <td>1.000000</td>\n",
       "      <td>1.00000</td>\n",
       "      <td>1.000000</td>\n",
       "      <td>1.00000</td>\n",
       "      <td>1.000000</td>\n",
       "      <td>1.000000</td>\n",
       "      <td>50750.000000</td>\n",
       "    </tr>\n",
       "    <tr>\n",
       "      <th>max</th>\n",
       "      <td>249.000000</td>\n",
       "      <td>3.000000</td>\n",
       "      <td>4.000000</td>\n",
       "      <td>5.000000</td>\n",
       "      <td>1.000000</td>\n",
       "      <td>1.000000</td>\n",
       "      <td>1.000000</td>\n",
       "      <td>1.000000</td>\n",
       "      <td>3.000000</td>\n",
       "      <td>1.000000</td>\n",
       "      <td>1.00000</td>\n",
       "      <td>1.000000</td>\n",
       "      <td>1.00000</td>\n",
       "      <td>1.000000</td>\n",
       "      <td>1.000000</td>\n",
       "      <td>77975.000000</td>\n",
       "    </tr>\n",
       "  </tbody>\n",
       "</table>\n",
       "</div>"
      ],
      "text/plain": [
       "                Area         Garage      FirePlace          Baths  \\\n",
       "count  500000.000000  500000.000000  500000.000000  500000.000000   \n",
       "mean      124.929554       2.001290       2.003398       2.998074   \n",
       "std        71.795363       0.817005       1.414021       1.414227   \n",
       "min         1.000000       1.000000       0.000000       1.000000   \n",
       "25%        63.000000       1.000000       1.000000       2.000000   \n",
       "50%       125.000000       2.000000       2.000000       3.000000   \n",
       "75%       187.000000       3.000000       3.000000       4.000000   \n",
       "max       249.000000       3.000000       4.000000       5.000000   \n",
       "\n",
       "        White Marble   Black Marble  Indian Marble         Floors  \\\n",
       "count  500000.000000  500000.000000  500000.000000  500000.000000   \n",
       "mean        0.332992       0.332690       0.334318       0.499386   \n",
       "std         0.471284       0.471177       0.471752       0.500000   \n",
       "min         0.000000       0.000000       0.000000       0.000000   \n",
       "25%         0.000000       0.000000       0.000000       0.000000   \n",
       "50%         0.000000       0.000000       0.000000       0.000000   \n",
       "75%         1.000000       1.000000       1.000000       1.000000   \n",
       "max         1.000000       1.000000       1.000000       1.000000   \n",
       "\n",
       "                City          Solar      Electric          Fiber  \\\n",
       "count  500000.000000  500000.000000  500000.00000  500000.000000   \n",
       "mean        2.000940       0.498694       0.50065       0.500468   \n",
       "std         0.816209       0.499999       0.50000       0.500000   \n",
       "min         1.000000       0.000000       0.00000       0.000000   \n",
       "25%         1.000000       0.000000       0.00000       0.000000   \n",
       "50%         2.000000       0.000000       1.00000       1.000000   \n",
       "75%         3.000000       1.000000       1.00000       1.000000   \n",
       "max         3.000000       1.000000       1.00000       1.000000   \n",
       "\n",
       "        Glass Doors   Swiming Pool         Garden         Prices  \n",
       "count  500000.00000  500000.000000  500000.000000  500000.000000  \n",
       "mean        0.49987       0.500436       0.501646   42050.139350  \n",
       "std         0.50000       0.500000       0.499998   12110.237201  \n",
       "min         0.00000       0.000000       0.000000    7725.000000  \n",
       "25%         0.00000       0.000000       0.000000   33500.000000  \n",
       "50%         0.00000       1.000000       1.000000   41850.000000  \n",
       "75%         1.00000       1.000000       1.000000   50750.000000  \n",
       "max         1.00000       1.000000       1.000000   77975.000000  "
      ]
     },
     "execution_count": 4,
     "metadata": {},
     "output_type": "execute_result"
    }
   ],
   "source": [
    "df.describe()"
   ]
  },
  {
   "cell_type": "code",
   "execution_count": 5,
   "metadata": {},
   "outputs": [
    {
     "data": {
      "text/html": [
       "<div>\n",
       "<style scoped>\n",
       "    .dataframe tbody tr th:only-of-type {\n",
       "        vertical-align: middle;\n",
       "    }\n",
       "\n",
       "    .dataframe tbody tr th {\n",
       "        vertical-align: top;\n",
       "    }\n",
       "\n",
       "    .dataframe thead th {\n",
       "        text-align: right;\n",
       "    }\n",
       "</style>\n",
       "<table border=\"1\" class=\"dataframe\">\n",
       "  <thead>\n",
       "    <tr style=\"text-align: right;\">\n",
       "      <th></th>\n",
       "      <th>Prices</th>\n",
       "      <th>Area</th>\n",
       "    </tr>\n",
       "  </thead>\n",
       "  <tbody>\n",
       "    <tr>\n",
       "      <th>360194</th>\n",
       "      <td>77975</td>\n",
       "      <td>241</td>\n",
       "    </tr>\n",
       "    <tr>\n",
       "      <th>255760</th>\n",
       "      <td>77700</td>\n",
       "      <td>230</td>\n",
       "    </tr>\n",
       "    <tr>\n",
       "      <th>223348</th>\n",
       "      <td>77525</td>\n",
       "      <td>233</td>\n",
       "    </tr>\n",
       "    <tr>\n",
       "      <th>176716</th>\n",
       "      <td>77375</td>\n",
       "      <td>227</td>\n",
       "    </tr>\n",
       "    <tr>\n",
       "      <th>325338</th>\n",
       "      <td>77250</td>\n",
       "      <td>222</td>\n",
       "    </tr>\n",
       "    <tr>\n",
       "      <th>425570</th>\n",
       "      <td>77225</td>\n",
       "      <td>211</td>\n",
       "    </tr>\n",
       "    <tr>\n",
       "      <th>130103</th>\n",
       "      <td>77225</td>\n",
       "      <td>241</td>\n",
       "    </tr>\n",
       "    <tr>\n",
       "      <th>156202</th>\n",
       "      <td>77175</td>\n",
       "      <td>239</td>\n",
       "    </tr>\n",
       "    <tr>\n",
       "      <th>276143</th>\n",
       "      <td>77075</td>\n",
       "      <td>235</td>\n",
       "    </tr>\n",
       "    <tr>\n",
       "      <th>136879</th>\n",
       "      <td>77000</td>\n",
       "      <td>242</td>\n",
       "    </tr>\n",
       "    <tr>\n",
       "      <th>65891</th>\n",
       "      <td>76975</td>\n",
       "      <td>231</td>\n",
       "    </tr>\n",
       "    <tr>\n",
       "      <th>260366</th>\n",
       "      <td>76950</td>\n",
       "      <td>210</td>\n",
       "    </tr>\n",
       "    <tr>\n",
       "      <th>242435</th>\n",
       "      <td>76825</td>\n",
       "      <td>245</td>\n",
       "    </tr>\n",
       "    <tr>\n",
       "      <th>486713</th>\n",
       "      <td>76800</td>\n",
       "      <td>244</td>\n",
       "    </tr>\n",
       "    <tr>\n",
       "      <th>435136</th>\n",
       "      <td>76775</td>\n",
       "      <td>243</td>\n",
       "    </tr>\n",
       "    <tr>\n",
       "      <th>383638</th>\n",
       "      <td>76750</td>\n",
       "      <td>242</td>\n",
       "    </tr>\n",
       "    <tr>\n",
       "      <th>35902</th>\n",
       "      <td>76600</td>\n",
       "      <td>226</td>\n",
       "    </tr>\n",
       "    <tr>\n",
       "      <th>496479</th>\n",
       "      <td>76550</td>\n",
       "      <td>184</td>\n",
       "    </tr>\n",
       "    <tr>\n",
       "      <th>436666</th>\n",
       "      <td>76550</td>\n",
       "      <td>244</td>\n",
       "    </tr>\n",
       "    <tr>\n",
       "      <th>71324</th>\n",
       "      <td>76500</td>\n",
       "      <td>242</td>\n",
       "    </tr>\n",
       "  </tbody>\n",
       "</table>\n",
       "</div>"
      ],
      "text/plain": [
       "        Prices  Area\n",
       "360194   77975   241\n",
       "255760   77700   230\n",
       "223348   77525   233\n",
       "176716   77375   227\n",
       "325338   77250   222\n",
       "425570   77225   211\n",
       "130103   77225   241\n",
       "156202   77175   239\n",
       "276143   77075   235\n",
       "136879   77000   242\n",
       "65891    76975   231\n",
       "260366   76950   210\n",
       "242435   76825   245\n",
       "486713   76800   244\n",
       "435136   76775   243\n",
       "383638   76750   242\n",
       "35902    76600   226\n",
       "496479   76550   184\n",
       "436666   76550   244\n",
       "71324    76500   242"
      ]
     },
     "execution_count": 5,
     "metadata": {},
     "output_type": "execute_result"
    }
   ],
   "source": [
    "top_housing_prices = df.sort_values('Prices',ascending=False)\n",
    "# Look at top 20\n",
    "top_housing_prices[['Prices','Area']].head(20)"
   ]
  },
  {
   "cell_type": "code",
   "execution_count": 6,
   "metadata": {},
   "outputs": [
    {
     "name": "stderr",
     "output_type": "stream",
     "text": [
      "C:\\Users\\jyoti\\Anaconda3\\lib\\site-packages\\scipy\\stats\\stats.py:1713: FutureWarning: Using a non-tuple sequence for multidimensional indexing is deprecated; use `arr[tuple(seq)]` instead of `arr[seq]`. In the future this will be interpreted as an array index, `arr[np.array(seq)]`, which will result either in an error or a different result.\n",
      "  return np.add.reduce(sorted[indexer] * weights, axis=axis) / sumval\n"
     ]
    },
    {
     "data": {
      "image/png": "[encoded data removed]",
      "text/plain": [
       "<Figure size 1152x432 with 1 Axes>"
      ]
     },
     "metadata": {
      "needs_background": "light"
     },
     "output_type": "display_data"
    }
   ],
   "source": [
    "fig, ax = plt.subplots(figsize=(16,6))\n",
    "sns.barplot(x='Area', y='Prices', data=top_housing_prices.head(33), palette='Set1')\n",
    "ax.set_xlabel(ax.get_xlabel(), labelpad=15)\n",
    "ax.set_ylabel(ax.get_ylabel(), labelpad=30)\n",
    "ax.xaxis.label.set_fontsize(16)\n",
    "ax.yaxis.label.set_fontsize(16)\n",
    "plt.xticks(rotation=90)\n",
    "plt.show()"
   ]
  },
  {
   "cell_type": "code",
   "execution_count": 7,
   "metadata": {},
   "outputs": [
    {
     "data": {
      "image/png": "[encoded data removed]",
      "text/plain": [
       "<Figure size 1152x432 with 1 Axes>"
      ]
     },
     "metadata": {
      "needs_background": "light"
     },
     "output_type": "display_data"
    }
   ],
   "source": [
    "fig, ax = plt.subplots(figsize=(16,6))\n",
    "sns.barplot(x='Area', y='Prices', data=top_housing_prices.tail(33), palette='Set1')\n",
    "ax.set_xlabel(ax.get_xlabel(), labelpad=15)\n",
    "ax.set_ylabel(ax.get_ylabel(), labelpad=30)\n",
    "ax.xaxis.label.set_fontsize(16)\n",
    "ax.yaxis.label.set_fontsize(16)\n",
    "plt.xticks(rotation=90)\n",
    "plt.show()"
   ]
  },
  {
   "cell_type": "code",
   "execution_count": 8,
   "metadata": {},
   "outputs": [
    {
     "data": {
      "text/html": [
       "<div>\n",
       "<style scoped>\n",
       "    .dataframe tbody tr th:only-of-type {\n",
       "        vertical-align: middle;\n",
       "    }\n",
       "\n",
       "    .dataframe tbody tr th {\n",
       "        vertical-align: top;\n",
       "    }\n",
       "\n",
       "    .dataframe thead th {\n",
       "        text-align: right;\n",
       "    }\n",
       "</style>\n",
       "<table border=\"1\" class=\"dataframe\">\n",
       "  <thead>\n",
       "    <tr style=\"text-align: right;\">\n",
       "      <th></th>\n",
       "      <th>total_missing</th>\n",
       "      <th>percent</th>\n",
       "    </tr>\n",
       "  </thead>\n",
       "  <tbody>\n",
       "  </tbody>\n",
       "</table>\n",
       "</div>"
      ],
      "text/plain": [
       "Empty DataFrame\n",
       "Columns: [total_missing, percent]\n",
       "Index: []"
      ]
     },
     "execution_count": 8,
     "metadata": {},
     "output_type": "execute_result"
    }
   ],
   "source": [
    "total = df.isnull().sum()[df.isnull().sum() != 0].sort_values(ascending = False)\n",
    "percent = pd.Series(round(total/len(df)*100,2))\n",
    "pd.concat([total, percent], axis=1, keys=['total_missing', 'percent'])"
   ]
  },
  {
   "cell_type": "code",
   "execution_count": 9,
   "metadata": {},
   "outputs": [
    {
     "name": "stdout",
     "output_type": "stream",
     "text": [
      "0         False\n",
      "1         False\n",
      "2         False\n",
      "3         False\n",
      "4         False\n",
      "5         False\n",
      "6         False\n",
      "7         False\n",
      "8         False\n",
      "9         False\n",
      "10        False\n",
      "11        False\n",
      "12        False\n",
      "13        False\n",
      "14        False\n",
      "15        False\n",
      "16        False\n",
      "17        False\n",
      "18        False\n",
      "19        False\n",
      "20        False\n",
      "21        False\n",
      "22        False\n",
      "23        False\n",
      "24        False\n",
      "25        False\n",
      "26        False\n",
      "27        False\n",
      "28        False\n",
      "29        False\n",
      "          ...  \n",
      "499970    False\n",
      "499971    False\n",
      "499972    False\n",
      "499973    False\n",
      "499974    False\n",
      "499975    False\n",
      "499976    False\n",
      "499977    False\n",
      "499978    False\n",
      "499979    False\n",
      "499980    False\n",
      "499981    False\n",
      "499982    False\n",
      "499983    False\n",
      "499984    False\n",
      "499985    False\n",
      "499986    False\n",
      "499987    False\n",
      "499988    False\n",
      "499989    False\n",
      "499990    False\n",
      "499991    False\n",
      "499992    False\n",
      "499993    False\n",
      "499994    False\n",
      "499995    False\n",
      "499996    False\n",
      "499997    False\n",
      "499998    False\n",
      "499999    False\n",
      "Name: Prices, Length: 500000, dtype: bool\n"
     ]
    }
   ],
   "source": [
    "print(np.isnan(df['Prices']))"
   ]
  },
  {
   "cell_type": "code",
   "execution_count": 10,
   "metadata": {},
   "outputs": [
    {
     "data": {
      "text/plain": [
       "<matplotlib.axes._subplots.AxesSubplot at 0x202e7cb00f0>"
      ]
     },
     "execution_count": 10,
     "metadata": {},
     "output_type": "execute_result"
    },
    {
     "data": {
      "image/png": "[encoded data removed]",
      "text/plain": [
       "<Figure size 1800x720 with 2 Axes>"
      ]
     },
     "metadata": {
      "needs_background": "light"
     },
     "output_type": "display_data"
    }
   ],
   "source": [
    "msno.matrix(df)"
   ]
  },
  {
   "cell_type": "code",
   "execution_count": 11,
   "metadata": {},
   "outputs": [
    {
     "data": {
      "text/plain": [
       "Area             0.000324\n",
       "Garage          -0.002371\n",
       "FirePlace       -0.002794\n",
       "Baths            0.000948\n",
       "White Marble     0.708739\n",
       "Black Marble     0.710182\n",
       "Indian Marble    0.702414\n",
       "Floors           0.002456\n",
       "City            -0.001726\n",
       "Solar            0.005224\n",
       "Electric        -0.002600\n",
       "Fiber           -0.001872\n",
       "Glass Doors      0.000520\n",
       "Swiming Pool    -0.001744\n",
       "Garden          -0.006584\n",
       "Prices           0.035845\n",
       "dtype: float64"
      ]
     },
     "execution_count": 11,
     "metadata": {},
     "output_type": "execute_result"
    }
   ],
   "source": [
    "df.skew()"
   ]
  },
  {
   "cell_type": "code",
   "execution_count": 12,
   "metadata": {},
   "outputs": [
    {
     "data": {
      "text/plain": [
       "<matplotlib.axes._subplots.AxesSubplot at 0x202eefeb7f0>"
      ]
     },
     "execution_count": 12,
     "metadata": {},
     "output_type": "execute_result"
    },
    {
     "data": {
      "image/png": "[encoded data removed]",
      "text/plain": [
       "<Figure size 432x288 with 1 Axes>"
      ]
     },
     "metadata": {
      "needs_background": "light"
     },
     "output_type": "display_data"
    }
   ],
   "source": [
    "y = df['Prices']\n",
    "plt.figure(2); plt.title('Normal')\n",
    "sns.distplot(y, kde=False, fit=st.norm)"
   ]
  },
  {
   "cell_type": "code",
   "execution_count": 13,
   "metadata": {},
   "outputs": [
    {
     "data": {
      "text/plain": [
       "Area            -1.197962\n",
       "Garage          -1.501864\n",
       "FirePlace       -1.299839\n",
       "Baths           -1.299702\n",
       "White Marble    -1.497695\n",
       "Black Marble    -1.495648\n",
       "Indian Marble   -1.506620\n",
       "Floors          -2.000002\n",
       "City            -1.498939\n",
       "Solar           -1.999981\n",
       "Electric        -2.000001\n",
       "Fiber           -2.000004\n",
       "Glass Doors     -2.000008\n",
       "Swiming Pool    -2.000005\n",
       "Garden          -1.999965\n",
       "Prices          -0.492333\n",
       "dtype: float64"
      ]
     },
     "execution_count": 13,
     "metadata": {},
     "output_type": "execute_result"
    }
   ],
   "source": [
    "df.kurt()"
   ]
  },
  {
   "cell_type": "code",
   "execution_count": 14,
   "metadata": {},
   "outputs": [
    {
     "data": {
      "text/plain": [
       "<matplotlib.axes._subplots.AxesSubplot at 0x202e7d1c940>"
      ]
     },
     "execution_count": 14,
     "metadata": {},
     "output_type": "execute_result"
    },
    {
     "data": {
      "image/png": "[encoded data removed]",
      "text/plain": [
       "<Figure size 432x288 with 1 Axes>"
      ]
     },
     "metadata": {
      "needs_background": "light"
     },
     "output_type": "display_data"
    }
   ],
   "source": [
    "sns.distplot(df['Prices'])"
   ]
  },
  {
   "cell_type": "code",
   "execution_count": 15,
   "metadata": {},
   "outputs": [
    {
     "data": {
      "text/html": [
       "<div>\n",
       "<style scoped>\n",
       "    .dataframe tbody tr th:only-of-type {\n",
       "        vertical-align: middle;\n",
       "    }\n",
       "\n",
       "    .dataframe tbody tr th {\n",
       "        vertical-align: top;\n",
       "    }\n",
       "\n",
       "    .dataframe thead th {\n",
       "        text-align: right;\n",
       "    }\n",
       "</style>\n",
       "<table border=\"1\" class=\"dataframe\">\n",
       "  <thead>\n",
       "    <tr style=\"text-align: right;\">\n",
       "      <th></th>\n",
       "      <th>Area</th>\n",
       "      <th>Garage</th>\n",
       "      <th>FirePlace</th>\n",
       "      <th>Baths</th>\n",
       "      <th>White Marble</th>\n",
       "      <th>Black Marble</th>\n",
       "      <th>Indian Marble</th>\n",
       "      <th>Floors</th>\n",
       "      <th>City</th>\n",
       "      <th>Solar</th>\n",
       "      <th>Electric</th>\n",
       "      <th>Fiber</th>\n",
       "      <th>Glass Doors</th>\n",
       "      <th>Swiming Pool</th>\n",
       "      <th>Garden</th>\n",
       "      <th>Prices</th>\n",
       "    </tr>\n",
       "  </thead>\n",
       "  <tbody>\n",
       "    <tr>\n",
       "      <th>Area</th>\n",
       "      <td>1.000000</td>\n",
       "      <td>-0.000897</td>\n",
       "      <td>0.000374</td>\n",
       "      <td>-0.000398</td>\n",
       "      <td>0.002525</td>\n",
       "      <td>-0.001477</td>\n",
       "      <td>-0.001047</td>\n",
       "      <td>-0.000776</td>\n",
       "      <td>-0.003455</td>\n",
       "      <td>0.000526</td>\n",
       "      <td>-0.000128</td>\n",
       "      <td>0.000114</td>\n",
       "      <td>-0.001230</td>\n",
       "      <td>0.000610</td>\n",
       "      <td>0.001428</td>\n",
       "      <td>0.147717</td>\n",
       "    </tr>\n",
       "    <tr>\n",
       "      <th>Garage</th>\n",
       "      <td>-0.000897</td>\n",
       "      <td>1.000000</td>\n",
       "      <td>0.001307</td>\n",
       "      <td>-0.003647</td>\n",
       "      <td>0.000541</td>\n",
       "      <td>0.001847</td>\n",
       "      <td>-0.002385</td>\n",
       "      <td>-0.000931</td>\n",
       "      <td>0.000793</td>\n",
       "      <td>0.001480</td>\n",
       "      <td>0.000779</td>\n",
       "      <td>-0.000562</td>\n",
       "      <td>-0.002171</td>\n",
       "      <td>0.001088</td>\n",
       "      <td>-0.000669</td>\n",
       "      <td>0.100294</td>\n",
       "    </tr>\n",
       "    <tr>\n",
       "      <th>FirePlace</th>\n",
       "      <td>0.000374</td>\n",
       "      <td>0.001307</td>\n",
       "      <td>1.000000</td>\n",
       "      <td>0.000643</td>\n",
       "      <td>0.000952</td>\n",
       "      <td>-0.000922</td>\n",
       "      <td>-0.000030</td>\n",
       "      <td>0.000185</td>\n",
       "      <td>-0.000211</td>\n",
       "      <td>-0.000309</td>\n",
       "      <td>0.001342</td>\n",
       "      <td>0.001818</td>\n",
       "      <td>-0.000366</td>\n",
       "      <td>0.001295</td>\n",
       "      <td>0.000231</td>\n",
       "      <td>0.089139</td>\n",
       "    </tr>\n",
       "    <tr>\n",
       "      <th>Baths</th>\n",
       "      <td>-0.000398</td>\n",
       "      <td>-0.003647</td>\n",
       "      <td>0.000643</td>\n",
       "      <td>1.000000</td>\n",
       "      <td>0.002493</td>\n",
       "      <td>-0.002739</td>\n",
       "      <td>0.000246</td>\n",
       "      <td>-0.000880</td>\n",
       "      <td>-0.000858</td>\n",
       "      <td>-0.000755</td>\n",
       "      <td>0.001047</td>\n",
       "      <td>-0.000687</td>\n",
       "      <td>-0.001668</td>\n",
       "      <td>0.002212</td>\n",
       "      <td>0.001723</td>\n",
       "      <td>0.145087</td>\n",
       "    </tr>\n",
       "    <tr>\n",
       "      <th>White Marble</th>\n",
       "      <td>0.002525</td>\n",
       "      <td>0.000541</td>\n",
       "      <td>0.000952</td>\n",
       "      <td>0.002493</td>\n",
       "      <td>1.000000</td>\n",
       "      <td>-0.498893</td>\n",
       "      <td>-0.500723</td>\n",
       "      <td>0.000078</td>\n",
       "      <td>-0.000861</td>\n",
       "      <td>-0.001583</td>\n",
       "      <td>0.000558</td>\n",
       "      <td>-0.000576</td>\n",
       "      <td>-0.000402</td>\n",
       "      <td>-0.001898</td>\n",
       "      <td>0.000959</td>\n",
       "      <td>0.448154</td>\n",
       "    </tr>\n",
       "    <tr>\n",
       "      <th>Black Marble</th>\n",
       "      <td>-0.001477</td>\n",
       "      <td>0.001847</td>\n",
       "      <td>-0.000922</td>\n",
       "      <td>-0.002739</td>\n",
       "      <td>-0.498893</td>\n",
       "      <td>1.000000</td>\n",
       "      <td>-0.500383</td>\n",
       "      <td>-0.000368</td>\n",
       "      <td>-0.000324</td>\n",
       "      <td>0.001764</td>\n",
       "      <td>-0.000549</td>\n",
       "      <td>0.000073</td>\n",
       "      <td>0.000086</td>\n",
       "      <td>0.000713</td>\n",
       "      <td>0.000133</td>\n",
       "      <td>-0.078049</td>\n",
       "    </tr>\n",
       "    <tr>\n",
       "      <th>Indian Marble</th>\n",
       "      <td>-0.001047</td>\n",
       "      <td>-0.002385</td>\n",
       "      <td>-0.000030</td>\n",
       "      <td>0.000246</td>\n",
       "      <td>-0.500723</td>\n",
       "      <td>-0.500383</td>\n",
       "      <td>1.000000</td>\n",
       "      <td>0.000289</td>\n",
       "      <td>0.001184</td>\n",
       "      <td>-0.000180</td>\n",
       "      <td>-0.000010</td>\n",
       "      <td>0.000503</td>\n",
       "      <td>0.000316</td>\n",
       "      <td>0.001184</td>\n",
       "      <td>-0.001091</td>\n",
       "      <td>-0.369756</td>\n",
       "    </tr>\n",
       "    <tr>\n",
       "      <th>Floors</th>\n",
       "      <td>-0.000776</td>\n",
       "      <td>-0.000931</td>\n",
       "      <td>0.000185</td>\n",
       "      <td>-0.000880</td>\n",
       "      <td>0.000078</td>\n",
       "      <td>-0.000368</td>\n",
       "      <td>0.000289</td>\n",
       "      <td>1.000000</td>\n",
       "      <td>-0.000641</td>\n",
       "      <td>-0.002651</td>\n",
       "      <td>0.000082</td>\n",
       "      <td>0.001373</td>\n",
       "      <td>-0.000008</td>\n",
       "      <td>-0.000211</td>\n",
       "      <td>-0.000492</td>\n",
       "      <td>0.619451</td>\n",
       "    </tr>\n",
       "    <tr>\n",
       "      <th>City</th>\n",
       "      <td>-0.003455</td>\n",
       "      <td>0.000793</td>\n",
       "      <td>-0.000211</td>\n",
       "      <td>-0.000858</td>\n",
       "      <td>-0.000861</td>\n",
       "      <td>-0.000324</td>\n",
       "      <td>0.001184</td>\n",
       "      <td>-0.000641</td>\n",
       "      <td>1.000000</td>\n",
       "      <td>0.000488</td>\n",
       "      <td>0.000788</td>\n",
       "      <td>-0.002716</td>\n",
       "      <td>0.000770</td>\n",
       "      <td>0.000322</td>\n",
       "      <td>0.001207</td>\n",
       "      <td>0.233259</td>\n",
       "    </tr>\n",
       "    <tr>\n",
       "      <th>Solar</th>\n",
       "      <td>0.000526</td>\n",
       "      <td>0.001480</td>\n",
       "      <td>-0.000309</td>\n",
       "      <td>-0.000755</td>\n",
       "      <td>-0.001583</td>\n",
       "      <td>0.001764</td>\n",
       "      <td>-0.000180</td>\n",
       "      <td>-0.002651</td>\n",
       "      <td>0.000488</td>\n",
       "      <td>1.000000</td>\n",
       "      <td>0.001883</td>\n",
       "      <td>0.000238</td>\n",
       "      <td>-0.000817</td>\n",
       "      <td>-0.000466</td>\n",
       "      <td>-0.004263</td>\n",
       "      <td>0.008429</td>\n",
       "    </tr>\n",
       "    <tr>\n",
       "      <th>Electric</th>\n",
       "      <td>-0.000128</td>\n",
       "      <td>0.000779</td>\n",
       "      <td>0.001342</td>\n",
       "      <td>0.001047</td>\n",
       "      <td>0.000558</td>\n",
       "      <td>-0.000549</td>\n",
       "      <td>-0.000010</td>\n",
       "      <td>0.000082</td>\n",
       "      <td>0.000788</td>\n",
       "      <td>0.001883</td>\n",
       "      <td>1.000000</td>\n",
       "      <td>-0.000309</td>\n",
       "      <td>0.001088</td>\n",
       "      <td>0.000571</td>\n",
       "      <td>0.000772</td>\n",
       "      <td>0.052443</td>\n",
       "    </tr>\n",
       "    <tr>\n",
       "      <th>Fiber</th>\n",
       "      <td>0.000114</td>\n",
       "      <td>-0.000562</td>\n",
       "      <td>0.001818</td>\n",
       "      <td>-0.000687</td>\n",
       "      <td>-0.000576</td>\n",
       "      <td>0.000073</td>\n",
       "      <td>0.000503</td>\n",
       "      <td>0.001373</td>\n",
       "      <td>-0.002716</td>\n",
       "      <td>0.000238</td>\n",
       "      <td>-0.000309</td>\n",
       "      <td>1.000000</td>\n",
       "      <td>-0.002268</td>\n",
       "      <td>0.004127</td>\n",
       "      <td>-0.000023</td>\n",
       "      <td>0.484626</td>\n",
       "    </tr>\n",
       "    <tr>\n",
       "      <th>Glass Doors</th>\n",
       "      <td>-0.001230</td>\n",
       "      <td>-0.002171</td>\n",
       "      <td>-0.000366</td>\n",
       "      <td>-0.001668</td>\n",
       "      <td>-0.000402</td>\n",
       "      <td>0.000086</td>\n",
       "      <td>0.000316</td>\n",
       "      <td>-0.000008</td>\n",
       "      <td>0.000770</td>\n",
       "      <td>-0.000817</td>\n",
       "      <td>0.001088</td>\n",
       "      <td>-0.002268</td>\n",
       "      <td>1.000000</td>\n",
       "      <td>0.000396</td>\n",
       "      <td>0.003329</td>\n",
       "      <td>0.181973</td>\n",
       "    </tr>\n",
       "    <tr>\n",
       "      <th>Swiming Pool</th>\n",
       "      <td>0.000610</td>\n",
       "      <td>0.001088</td>\n",
       "      <td>0.001295</td>\n",
       "      <td>0.002212</td>\n",
       "      <td>-0.001898</td>\n",
       "      <td>0.000713</td>\n",
       "      <td>0.001184</td>\n",
       "      <td>-0.000211</td>\n",
       "      <td>0.000322</td>\n",
       "      <td>-0.000466</td>\n",
       "      <td>0.000571</td>\n",
       "      <td>0.004127</td>\n",
       "      <td>0.000396</td>\n",
       "      <td>1.000000</td>\n",
       "      <td>-0.000191</td>\n",
       "      <td>0.001787</td>\n",
       "    </tr>\n",
       "    <tr>\n",
       "      <th>Garden</th>\n",
       "      <td>0.001428</td>\n",
       "      <td>-0.000669</td>\n",
       "      <td>0.000231</td>\n",
       "      <td>0.001723</td>\n",
       "      <td>0.000959</td>\n",
       "      <td>0.000133</td>\n",
       "      <td>-0.001091</td>\n",
       "      <td>-0.000492</td>\n",
       "      <td>0.001207</td>\n",
       "      <td>-0.004263</td>\n",
       "      <td>0.000772</td>\n",
       "      <td>-0.000023</td>\n",
       "      <td>0.003329</td>\n",
       "      <td>-0.000191</td>\n",
       "      <td>1.000000</td>\n",
       "      <td>0.001540</td>\n",
       "    </tr>\n",
       "    <tr>\n",
       "      <th>Prices</th>\n",
       "      <td>0.147717</td>\n",
       "      <td>0.100294</td>\n",
       "      <td>0.089139</td>\n",
       "      <td>0.145087</td>\n",
       "      <td>0.448154</td>\n",
       "      <td>-0.078049</td>\n",
       "      <td>-0.369756</td>\n",
       "      <td>0.619451</td>\n",
       "      <td>0.233259</td>\n",
       "      <td>0.008429</td>\n",
       "      <td>0.052443</td>\n",
       "      <td>0.484626</td>\n",
       "      <td>0.181973</td>\n",
       "      <td>0.001787</td>\n",
       "      <td>0.001540</td>\n",
       "      <td>1.000000</td>\n",
       "    </tr>\n",
       "  </tbody>\n",
       "</table>\n",
       "</div>"
      ],
      "text/plain": [
       "                   Area    Garage  FirePlace     Baths  White Marble  \\\n",
       "Area           1.000000 -0.000897   0.000374 -0.000398      0.002525   \n",
       "Garage        -0.000897  1.000000   0.001307 -0.003647      0.000541   \n",
       "FirePlace      0.000374  0.001307   1.000000  0.000643      0.000952   \n",
       "Baths         -0.000398 -0.003647   0.000643  1.000000      0.002493   \n",
       "White Marble   0.002525  0.000541   0.000952  0.002493      1.000000   \n",
       "Black Marble  -0.001477  0.001847  -0.000922 -0.002739     -0.498893   \n",
       "Indian Marble -0.001047 -0.002385  -0.000030  0.000246     -0.500723   \n",
       "Floors        -0.000776 -0.000931   0.000185 -0.000880      0.000078   \n",
       "City          -0.003455  0.000793  -0.000211 -0.000858     -0.000861   \n",
       "Solar          0.000526  0.001480  -0.000309 -0.000755     -0.001583   \n",
       "Electric      -0.000128  0.000779   0.001342  0.001047      0.000558   \n",
       "Fiber          0.000114 -0.000562   0.001818 -0.000687     -0.000576   \n",
       "Glass Doors   -0.001230 -0.002171  -0.000366 -0.001668     -0.000402   \n",
       "Swiming Pool   0.000610  0.001088   0.001295  0.002212     -0.001898   \n",
       "Garden         0.001428 -0.000669   0.000231  0.001723      0.000959   \n",
       "Prices         0.147717  0.100294   0.089139  0.145087      0.448154   \n",
       "\n",
       "               Black Marble  Indian Marble    Floors      City     Solar  \\\n",
       "Area              -0.001477      -0.001047 -0.000776 -0.003455  0.000526   \n",
       "Garage             0.001847      -0.002385 -0.000931  0.000793  0.001480   \n",
       "FirePlace         -0.000922      -0.000030  0.000185 -0.000211 -0.000309   \n",
       "Baths             -0.002739       0.000246 -0.000880 -0.000858 -0.000755   \n",
       "White Marble      -0.498893      -0.500723  0.000078 -0.000861 -0.001583   \n",
       "Black Marble       1.000000      -0.500383 -0.000368 -0.000324  0.001764   \n",
       "Indian Marble     -0.500383       1.000000  0.000289  0.001184 -0.000180   \n",
       "Floors            -0.000368       0.000289  1.000000 -0.000641 -0.002651   \n",
       "City              -0.000324       0.001184 -0.000641  1.000000  0.000488   \n",
       "Solar              0.001764      -0.000180 -0.002651  0.000488  1.000000   \n",
       "Electric          -0.000549      -0.000010  0.000082  0.000788  0.001883   \n",
       "Fiber              0.000073       0.000503  0.001373 -0.002716  0.000238   \n",
       "Glass Doors        0.000086       0.000316 -0.000008  0.000770 -0.000817   \n",
       "Swiming Pool       0.000713       0.001184 -0.000211  0.000322 -0.000466   \n",
       "Garden             0.000133      -0.001091 -0.000492  0.001207 -0.004263   \n",
       "Prices            -0.078049      -0.369756  0.619451  0.233259  0.008429   \n",
       "\n",
       "               Electric     Fiber  Glass Doors  Swiming Pool    Garden  \\\n",
       "Area          -0.000128  0.000114    -0.001230      0.000610  0.001428   \n",
       "Garage         0.000779 -0.000562    -0.002171      0.001088 -0.000669   \n",
       "FirePlace      0.001342  0.001818    -0.000366      0.001295  0.000231   \n",
       "Baths          0.001047 -0.000687    -0.001668      0.002212  0.001723   \n",
       "White Marble   0.000558 -0.000576    -0.000402     -0.001898  0.000959   \n",
       "Black Marble  -0.000549  0.000073     0.000086      0.000713  0.000133   \n",
       "Indian Marble -0.000010  0.000503     0.000316      0.001184 -0.001091   \n",
       "Floors         0.000082  0.001373    -0.000008     -0.000211 -0.000492   \n",
       "City           0.000788 -0.002716     0.000770      0.000322  0.001207   \n",
       "Solar          0.001883  0.000238    -0.000817     -0.000466 -0.004263   \n",
       "Electric       1.000000 -0.000309     0.001088      0.000571  0.000772   \n",
       "Fiber         -0.000309  1.000000    -0.002268      0.004127 -0.000023   \n",
       "Glass Doors    0.001088 -0.002268     1.000000      0.000396  0.003329   \n",
       "Swiming Pool   0.000571  0.004127     0.000396      1.000000 -0.000191   \n",
       "Garden         0.000772 -0.000023     0.003329     -0.000191  1.000000   \n",
       "Prices         0.052443  0.484626     0.181973      0.001787  0.001540   \n",
       "\n",
       "                 Prices  \n",
       "Area           0.147717  \n",
       "Garage         0.100294  \n",
       "FirePlace      0.089139  \n",
       "Baths          0.145087  \n",
       "White Marble   0.448154  \n",
       "Black Marble  -0.078049  \n",
       "Indian Marble -0.369756  \n",
       "Floors         0.619451  \n",
       "City           0.233259  \n",
       "Solar          0.008429  \n",
       "Electric       0.052443  \n",
       "Fiber          0.484626  \n",
       "Glass Doors    0.181973  \n",
       "Swiming Pool   0.001787  \n",
       "Garden         0.001540  \n",
       "Prices         1.000000  "
      ]
     },
     "execution_count": 15,
     "metadata": {},
     "output_type": "execute_result"
    }
   ],
   "source": [
    "df.corr()"
   ]
  },
  {
   "cell_type": "code",
   "execution_count": 16,
   "metadata": {},
   "outputs": [
    {
     "data": {
      "image/png": "[encoded data removed]",
      "text/plain": [
       "<Figure size 1152x864 with 2 Axes>"
      ]
     },
     "metadata": {
      "needs_background": "light"
     },
     "output_type": "display_data"
    }
   ],
   "source": [
    "plt.figure(figsize=(16,12))\n",
    "sns.heatmap(data=df.iloc[:,:].corr(),annot=True,fmt='.2f',cmap='coolwarm')\n",
    "plt.show()"
   ]
  },
  {
   "cell_type": "code",
   "execution_count": 17,
   "metadata": {},
   "outputs": [
    {
     "data": {
      "text/plain": [
       "(500000, 500000)"
      ]
     },
     "execution_count": 17,
     "metadata": {},
     "output_type": "execute_result"
    }
   ],
   "source": [
    "xs = df[['Area','Garage','FirePlace','Baths','White Marble','Black Marble','Indian Marble','Floors','City','Solar','Electric','Fiber','Glass Doors','Swiming Pool','Garden']]\n",
    "ys = df['Prices']\n",
    "len(xs), len(ys)"
   ]
  },
  {
   "cell_type": "code",
   "execution_count": 52,
   "metadata": {},
   "outputs": [],
   "source": [
    "import h2o\n",
    "from h2o.automl import H2OAutoML\n",
    "import random, os, sys\n",
    "from datetime import datetime\n",
    "import pandas as pd\n",
    "import logging\n",
    "import csv\n",
    "import optparse\n",
    "import time\n",
    "import json\n",
    "from distutils.util import strtobool\n",
    "import psutil"
   ]
  },
  {
   "cell_type": "code",
   "execution_count": 64,
   "metadata": {},
   "outputs": [],
   "source": [
    "data_path = (r'C:\\Users\\jyoti\\INFO_6105-master\\INFO_6105-master\\Assignments\\Final Project\\HousePrices_HalfMil.csv')"
   ]
  },
  {
   "cell_type": "code",
   "execution_count": 54,
   "metadata": {},
   "outputs": [],
   "source": [
    "data_path=None\n",
    "all_variables=None\n",
    "test_path=None\n",
    "# target='search_term'\n",
    "target=None\n",
    "nthreads=1                        # Number of parallel threads used to run Algorithms\n",
    "min_mem_size=12\n",
    "classification= False\n",
    "scale=False\n",
    "max_models=None    \n",
    "model_path=None\n",
    "balance_y=False \n",
    "balance_threshold=0.2             \n",
    "name=None \n",
    "server_path=None  \n",
    "analysis=0"
   ]
  },
  {
   "cell_type": "code",
   "execution_count": 55,
   "metadata": {},
   "outputs": [],
   "source": [
    "run_time =  1000"
   ]
  },
  {
   "cell_type": "code",
   "execution_count": 56,
   "metadata": {},
   "outputs": [
    {
     "name": "stdout",
     "output_type": "stream",
     "text": [
      "3 GB\n"
     ]
    }
   ],
   "source": [
    "pct_memory=0.5\n",
    "virtual_memory=psutil.virtual_memory()\n",
    "min_mem_size=int(round(int(pct_memory*virtual_memory.available)/1073741824,0))\n",
    "print(min_mem_size, \"GB\")"
   ]
  },
  {
   "cell_type": "code",
   "execution_count": 57,
   "metadata": {},
   "outputs": [],
   "source": [
    "#Defining functions\n",
    "\n",
    "#generating random run_id\n",
    "def alphabet(n):\n",
    "    alpha='0123456789abcdefghijklmnopqrstuvwxyzABCDEFGHIJKLMNOPQRSTUVWXYZ'    \n",
    "    str=''\n",
    "    r=len(alpha)-1   \n",
    "    while len(str)<n:\n",
    "        i=random.randint(0,r)\n",
    "        str+=alpha[i]   \n",
    "    return str\n",
    "\n",
    "# storing in m_data dictionary  \n",
    "def set_meta_data(analysis,run_id,server,data,model_path,run_time,scale,model,balance,balance_threshold,name,path,nthreads,min_mem_size):\n",
    "    \n",
    "    \n",
    "    m_data={}\n",
    "    # m_data['target']=target\n",
    "    #m_data['classification']=classification\n",
    "    m_data['project'] =name\n",
    "    m_data['run_time']=run_time\n",
    "    m_data['run_id'] =run_id\n",
    "    m_data['start_time_sec'] = time.time()\n",
    "    m_data['min_mem_size'] = min_mem_size\n",
    "    m_data['balance']=balance\n",
    "    m_data['balance_threshold']=balance_threshold \n",
    "    m_data['max_models']=model\n",
    "    m_data['scale']=scale  \n",
    "    m_data['scale']=False\n",
    "    m_data['model_path']=model_path\n",
    "    m_data['server_path']=server\n",
    "    m_data['data_path']=data \n",
    "    m_data['run_path'] =path\n",
    "    m_data['nthreads'] = nthreads\n",
    "  \n",
    "    m_data['analysis'] = analysis\n",
    "    m_data['end_time_sec'] = time.time()  \n",
    "    return m_data\n",
    "\n",
    "#converting dictionary to json\n",
    "def dict_to_json(dct,n):\n",
    "    j = json.dumps(dct, indent=4)\n",
    "    f = open(n, 'w')\n",
    "    print(j, file=f)\n",
    "    f.close()\n",
    "    \n",
    "def get_all_variables_csv(i):\n",
    "    ivd={}\n",
    "    try:\n",
    "        iv = pd.read_csv(i,header=None)\n",
    "    except:\n",
    "        sys.exit(1)    \n",
    "    col=iv.values.tolist()[0]\n",
    "    dt=iv.values.tolist()[1]\n",
    "    i=0\n",
    "    for c in col:\n",
    "        ivd[c.strip()]=dt[i].strip()\n",
    "        i+=1        \n",
    "    return ivd\n",
    "    \n",
    "# Segregating in different lists of int, enum, reals and checking for missing values and then scaling(standardizing)    \n",
    "def impute_missing_values(df, x, scal=False):\n",
    "    # determine column types\n",
    "    ints, reals, enums = [], [], []\n",
    "    for key, val in df.types.items():\n",
    "        if key in x:\n",
    "            if val == 'enum':\n",
    "                enums.append(key)\n",
    "            elif val == 'int':\n",
    "                ints.append(key)            \n",
    "            else: \n",
    "                reals.append(key)    \n",
    "    _ = df[reals].impute(method='mean')\n",
    "    _ = df[ints].impute(method='median')\n",
    "    if scal:\n",
    "        df[reals] = df[reals].scale()\n",
    "        df[ints] = df[ints].scale()    \n",
    "    return\n",
    "\n",
    "# Determining Independent variables (X) from the dataset \n",
    "def get_independent_variables(df, targ):\n",
    "    C = [name for name in df.columns if name != targ]\n",
    "    # determine column types\n",
    "    ints, reals, enums = [], [], []\n",
    "    for key, val in df.types.items():\n",
    "        if key in C:\n",
    "            if val == 'enum':\n",
    "                enums.append(key)\n",
    "            elif val == 'int':\n",
    "                ints.append(key)            \n",
    "            else: \n",
    "                reals.append(key)    \n",
    "    x=ints+enums+reals\n",
    "    return x\n",
    "\n",
    "#Checkinh if X does not exist then remove\n",
    "def check_X(x,df):\n",
    "    for name in x:\n",
    "        if name not in df.columns:\n",
    "            x.remove(name)  \n",
    "    return x"
   ]
  },
  {
   "cell_type": "code",
   "execution_count": 58,
   "metadata": {},
   "outputs": [
    {
     "name": "stdout",
     "output_type": "stream",
     "text": [
      "3O7BboaED\n"
     ]
    }
   ],
   "source": [
    "#RUN_ID\n",
    "\n",
    "#randomly generating run_id through alphabet function\n",
    "run_id=alphabet(9)\n",
    "if server_path==None:\n",
    "    server_path=os.path.abspath(os.curdir)\n",
    "os.chdir(server_path) \n",
    "a = run_id + '_EmpAccess_' + str(run_time)\n",
    "run_dir = os.path.join(server_path,a)\n",
    "os.mkdir(run_dir)\n",
    "os.chdir(run_dir)    \n",
    "\n",
    "# run_id to std out\n",
    "print (run_id)\n"
   ]
  },
  {
   "cell_type": "code",
   "execution_count": 59,
   "metadata": {},
   "outputs": [],
   "source": [
    "# # Creating a log file\n",
    "# logfile=run_id+'_autoh2o_log.zip'\n",
    "# logs_path=os.path.join(run_dir,'logs')\n",
    "# print(logs_path,' ',logfile)"
   ]
  },
  {
   "cell_type": "code",
   "execution_count": 60,
   "metadata": {},
   "outputs": [
    {
     "data": {
      "text/plain": [
       "'3O7BboaED_EmpAccess_1000'"
      ]
     },
     "execution_count": 60,
     "metadata": {},
     "output_type": "execute_result"
    }
   ],
   "source": [
    "name = run_id+'_EmpAccess_' + str(run_time)\n",
    "name"
   ]
  },
  {
   "cell_type": "code",
   "execution_count": 61,
   "metadata": {},
   "outputs": [
    {
     "name": "stdout",
     "output_type": "stream",
     "text": [
      "{'project': '3O7BboaED_EmpAccess_1000', 'run_time': 1000, 'run_id': '3O7BboaED', 'start_time_sec': 1555546074.518602, 'min_mem_size': 3, 'balance': False, 'balance_threshold': 0.2, 'max_models': None, 'scale': False, 'model_path': None, 'server_path': 'C:\\\\Users\\\\jyoti\\\\INFO_6105-master\\\\INFO_6105-master\\\\Assignments\\\\Final Project\\\\i9a8yHolP_EmpAccess_1000', 'data_path': None, 'run_path': 'C:\\\\Users\\\\jyoti\\\\INFO_6105-master\\\\INFO_6105-master\\\\Assignments\\\\Final Project\\\\i9a8yHolP_EmpAccess_1000\\\\3O7BboaED_EmpAccess_1000', 'nthreads': 1, 'analysis': 0, 'end_time_sec': 1555546074.518602}\n"
     ]
    }
   ],
   "source": [
    "# meta data\n",
    "meta_data = set_meta_data(analysis, run_id,server_path,data_path,model_path,run_time,scale,max_models,balance_y,balance_threshold,name,run_dir,nthreads,min_mem_size)\n",
    "print(meta_data)"
   ]
  },
  {
   "cell_type": "code",
   "execution_count": 62,
   "metadata": {},
   "outputs": [
    {
     "name": "stdout",
     "output_type": "stream",
     "text": [
      "Problem Type:  Regression\n"
     ]
    }
   ],
   "source": [
    "if classification :\n",
    "    meta_data[\"Problem_type\"] = \"Classification\"\n",
    "    print(\"Problem Type:  Classification\")\n",
    "else:\n",
    "    meta_data[\"Problem_type\"] = \"Regression\"\n",
    "    print(\"Problem Type:  Regression\")"
   ]
  },
  {
   "cell_type": "code",
   "execution_count": 63,
   "metadata": {},
   "outputs": [
    {
     "name": "stdout",
     "output_type": "stream",
     "text": [
      "Checking whether there is an H2O instance running at http://localhost:47109..... not found.\n",
      "Attempting to start a local H2O server...\n",
      "; OpenJDK 64-Bit Server VM (build 25.152-b12, mixed mode)56-b12)\n",
      "  Starting server from C:\\Users\\jyoti\\Anaconda3\\lib\\site-packages\\h2o\\backend\\bin\\h2o.jar\n",
      "  Ice root: C:\\Users\\jyoti\\AppData\\Local\\Temp\\tmpgjtn5pqx\n",
      "  JVM stdout: C:\\Users\\jyoti\\AppData\\Local\\Temp\\tmpgjtn5pqx\\h2o_jyoti_started_from_python.out\n",
      "  JVM stderr: C:\\Users\\jyoti\\AppData\\Local\\Temp\\tmpgjtn5pqx\\h2o_jyoti_started_from_python.err\n",
      "  Server is running at http://127.0.0.1:47109\n",
      "Connecting to H2O server at http://127.0.0.1:47109... successful.\n"
     ]
    },
    {
     "data": {
      "text/html": [
       "<div style=\"overflow:auto\"><table style=\"width:50%\"><tr><td>H2O cluster uptime:</td>\n",
       "<td>09 secs</td></tr>\n",
       "<tr><td>H2O cluster timezone:</td>\n",
       "<td>America/New_York</td></tr>\n",
       "<tr><td>H2O data parsing timezone:</td>\n",
       "<td>UTC</td></tr>\n",
       "<tr><td>H2O cluster version:</td>\n",
       "<td>3.22.1.6</td></tr>\n",
       "<tr><td>H2O cluster version age:</td>\n",
       "<td>1 month and 3 days </td></tr>\n",
       "<tr><td>H2O cluster name:</td>\n",
       "<td>H2O_from_python_jyoti_dpafpd</td></tr>\n",
       "<tr><td>H2O cluster total nodes:</td>\n",
       "<td>1</td></tr>\n",
       "<tr><td>H2O cluster free memory:</td>\n",
       "<td>3.521 Gb</td></tr>\n",
       "<tr><td>H2O cluster total cores:</td>\n",
       "<td>8</td></tr>\n",
       "<tr><td>H2O cluster allowed cores:</td>\n",
       "<td>8</td></tr>\n",
       "<tr><td>H2O cluster status:</td>\n",
       "<td>accepting new members, healthy</td></tr>\n",
       "<tr><td>H2O connection url:</td>\n",
       "<td>http://127.0.0.1:47109</td></tr>\n",
       "<tr><td>H2O connection proxy:</td>\n",
       "<td>None</td></tr>\n",
       "<tr><td>H2O internal security:</td>\n",
       "<td>False</td></tr>\n",
       "<tr><td>H2O API Extensions:</td>\n",
       "<td>Amazon S3, Algos, AutoML, Core V3, Core V4</td></tr>\n",
       "<tr><td>Python version:</td>\n",
       "<td>3.7.1 final</td></tr></table></div>"
      ],
      "text/plain": [
       "--------------------------  ------------------------------------------\n",
       "H2O cluster uptime:         09 secs\n",
       "H2O cluster timezone:       America/New_York\n",
       "H2O data parsing timezone:  UTC\n",
       "H2O cluster version:        3.22.1.6\n",
       "H2O cluster version age:    1 month and 3 days\n",
       "H2O cluster name:           H2O_from_python_jyoti_dpafpd\n",
       "H2O cluster total nodes:    1\n",
       "H2O cluster free memory:    3.521 Gb\n",
       "H2O cluster total cores:    8\n",
       "H2O cluster allowed cores:  8\n",
       "H2O cluster status:         accepting new members, healthy\n",
       "H2O connection url:         http://127.0.0.1:47109\n",
       "H2O connection proxy:\n",
       "H2O internal security:      False\n",
       "H2O API Extensions:         Amazon S3, Algos, AutoML, Core V3, Core V4\n",
       "Python version:             3.7.1 final\n",
       "--------------------------  ------------------------------------------"
      ]
     },
     "metadata": {},
     "output_type": "display_data"
    }
   ],
   "source": [
    "# 65535 Highest port no\n",
    "port_no=random.randint(5555,55555)\n",
    "\n",
    "#initializing H2O\n",
    "h2o.init(strict_version_check=False,min_mem_size_GB=min_mem_size,port=port_no)"
   ]
  },
  {
   "cell_type": "code",
   "execution_count": 65,
   "metadata": {},
   "outputs": [
    {
     "name": "stdout",
     "output_type": "stream",
     "text": [
      "C:\\Users\\jyoti\\INFO_6105-master\\INFO_6105-master\\Assignments\\Final Project\\HousePrices_HalfMil.csv\n"
     ]
    }
   ],
   "source": [
    "print(data_path)"
   ]
  },
  {
   "cell_type": "code",
   "execution_count": 66,
   "metadata": {},
   "outputs": [
    {
     "name": "stdout",
     "output_type": "stream",
     "text": [
      "Parse progress: |█████████████████████████████████████████████████████████| 100%\n"
     ]
    }
   ],
   "source": [
    "#importing data file on h2o server\n",
    "data = h2o.import_file(data_path)"
   ]
  },
  {
   "cell_type": "code",
   "execution_count": 67,
   "metadata": {},
   "outputs": [
    {
     "data": {
      "text/html": [
       "<table>\n",
       "<thead>\n",
       "<tr><th style=\"text-align: right;\">  Area</th><th style=\"text-align: right;\">  Garage</th><th style=\"text-align: right;\">  FirePlace</th><th style=\"text-align: right;\">  Baths</th><th style=\"text-align: right;\">  White Marble</th><th style=\"text-align: right;\">  Black Marble</th><th style=\"text-align: right;\">  Indian Marble</th><th style=\"text-align: right;\">  Floors</th><th style=\"text-align: right;\">  City</th><th style=\"text-align: right;\">  Solar</th><th style=\"text-align: right;\">  Electric</th><th style=\"text-align: right;\">  Fiber</th><th style=\"text-align: right;\">  Glass Doors</th><th style=\"text-align: right;\">  Swiming Pool</th><th style=\"text-align: right;\">  Garden</th><th style=\"text-align: right;\">  Prices</th></tr>\n",
       "</thead>\n",
       "<tbody>\n",
       "<tr><td style=\"text-align: right;\">   164</td><td style=\"text-align: right;\">       2</td><td style=\"text-align: right;\">          0</td><td style=\"text-align: right;\">      2</td><td style=\"text-align: right;\">             0</td><td style=\"text-align: right;\">             1</td><td style=\"text-align: right;\">              0</td><td style=\"text-align: right;\">       0</td><td style=\"text-align: right;\">     3</td><td style=\"text-align: right;\">      1</td><td style=\"text-align: right;\">         1</td><td style=\"text-align: right;\">      1</td><td style=\"text-align: right;\">            1</td><td style=\"text-align: right;\">             0</td><td style=\"text-align: right;\">       0</td><td style=\"text-align: right;\">   43800</td></tr>\n",
       "<tr><td style=\"text-align: right;\">    84</td><td style=\"text-align: right;\">       2</td><td style=\"text-align: right;\">          0</td><td style=\"text-align: right;\">      4</td><td style=\"text-align: right;\">             0</td><td style=\"text-align: right;\">             0</td><td style=\"text-align: right;\">              1</td><td style=\"text-align: right;\">       1</td><td style=\"text-align: right;\">     2</td><td style=\"text-align: right;\">      0</td><td style=\"text-align: right;\">         0</td><td style=\"text-align: right;\">      0</td><td style=\"text-align: right;\">            1</td><td style=\"text-align: right;\">             1</td><td style=\"text-align: right;\">       1</td><td style=\"text-align: right;\">   37550</td></tr>\n",
       "<tr><td style=\"text-align: right;\">   190</td><td style=\"text-align: right;\">       2</td><td style=\"text-align: right;\">          4</td><td style=\"text-align: right;\">      4</td><td style=\"text-align: right;\">             1</td><td style=\"text-align: right;\">             0</td><td style=\"text-align: right;\">              0</td><td style=\"text-align: right;\">       0</td><td style=\"text-align: right;\">     2</td><td style=\"text-align: right;\">      0</td><td style=\"text-align: right;\">         0</td><td style=\"text-align: right;\">      1</td><td style=\"text-align: right;\">            0</td><td style=\"text-align: right;\">             0</td><td style=\"text-align: right;\">       0</td><td style=\"text-align: right;\">   49500</td></tr>\n",
       "<tr><td style=\"text-align: right;\">    75</td><td style=\"text-align: right;\">       2</td><td style=\"text-align: right;\">          4</td><td style=\"text-align: right;\">      4</td><td style=\"text-align: right;\">             0</td><td style=\"text-align: right;\">             0</td><td style=\"text-align: right;\">              1</td><td style=\"text-align: right;\">       1</td><td style=\"text-align: right;\">     1</td><td style=\"text-align: right;\">      1</td><td style=\"text-align: right;\">         1</td><td style=\"text-align: right;\">      1</td><td style=\"text-align: right;\">            1</td><td style=\"text-align: right;\">             1</td><td style=\"text-align: right;\">       1</td><td style=\"text-align: right;\">   50075</td></tr>\n",
       "<tr><td style=\"text-align: right;\">   148</td><td style=\"text-align: right;\">       1</td><td style=\"text-align: right;\">          4</td><td style=\"text-align: right;\">      2</td><td style=\"text-align: right;\">             1</td><td style=\"text-align: right;\">             0</td><td style=\"text-align: right;\">              0</td><td style=\"text-align: right;\">       1</td><td style=\"text-align: right;\">     2</td><td style=\"text-align: right;\">      1</td><td style=\"text-align: right;\">         0</td><td style=\"text-align: right;\">      0</td><td style=\"text-align: right;\">            1</td><td style=\"text-align: right;\">             1</td><td style=\"text-align: right;\">       1</td><td style=\"text-align: right;\">   52400</td></tr>\n",
       "<tr><td style=\"text-align: right;\">   124</td><td style=\"text-align: right;\">       3</td><td style=\"text-align: right;\">          3</td><td style=\"text-align: right;\">      3</td><td style=\"text-align: right;\">             0</td><td style=\"text-align: right;\">             1</td><td style=\"text-align: right;\">              0</td><td style=\"text-align: right;\">       1</td><td style=\"text-align: right;\">     1</td><td style=\"text-align: right;\">      0</td><td style=\"text-align: right;\">         0</td><td style=\"text-align: right;\">      1</td><td style=\"text-align: right;\">            1</td><td style=\"text-align: right;\">             1</td><td style=\"text-align: right;\">       1</td><td style=\"text-align: right;\">   54300</td></tr>\n",
       "<tr><td style=\"text-align: right;\">    58</td><td style=\"text-align: right;\">       1</td><td style=\"text-align: right;\">          0</td><td style=\"text-align: right;\">      2</td><td style=\"text-align: right;\">             0</td><td style=\"text-align: right;\">             0</td><td style=\"text-align: right;\">              1</td><td style=\"text-align: right;\">       0</td><td style=\"text-align: right;\">     3</td><td style=\"text-align: right;\">      0</td><td style=\"text-align: right;\">         1</td><td style=\"text-align: right;\">      1</td><td style=\"text-align: right;\">            1</td><td style=\"text-align: right;\">             0</td><td style=\"text-align: right;\">       1</td><td style=\"text-align: right;\">   34400</td></tr>\n",
       "<tr><td style=\"text-align: right;\">   249</td><td style=\"text-align: right;\">       2</td><td style=\"text-align: right;\">          1</td><td style=\"text-align: right;\">      1</td><td style=\"text-align: right;\">             1</td><td style=\"text-align: right;\">             0</td><td style=\"text-align: right;\">              0</td><td style=\"text-align: right;\">       1</td><td style=\"text-align: right;\">     1</td><td style=\"text-align: right;\">      0</td><td style=\"text-align: right;\">         1</td><td style=\"text-align: right;\">      0</td><td style=\"text-align: right;\">            1</td><td style=\"text-align: right;\">             1</td><td style=\"text-align: right;\">       0</td><td style=\"text-align: right;\">   50425</td></tr>\n",
       "<tr><td style=\"text-align: right;\">   243</td><td style=\"text-align: right;\">       1</td><td style=\"text-align: right;\">          0</td><td style=\"text-align: right;\">      2</td><td style=\"text-align: right;\">             0</td><td style=\"text-align: right;\">             0</td><td style=\"text-align: right;\">              1</td><td style=\"text-align: right;\">       1</td><td style=\"text-align: right;\">     1</td><td style=\"text-align: right;\">      0</td><td style=\"text-align: right;\">         0</td><td style=\"text-align: right;\">      0</td><td style=\"text-align: right;\">            0</td><td style=\"text-align: right;\">             1</td><td style=\"text-align: right;\">       0</td><td style=\"text-align: right;\">   29575</td></tr>\n",
       "<tr><td style=\"text-align: right;\">   242</td><td style=\"text-align: right;\">       1</td><td style=\"text-align: right;\">          2</td><td style=\"text-align: right;\">      4</td><td style=\"text-align: right;\">             0</td><td style=\"text-align: right;\">             0</td><td style=\"text-align: right;\">              1</td><td style=\"text-align: right;\">       0</td><td style=\"text-align: right;\">     2</td><td style=\"text-align: right;\">      1</td><td style=\"text-align: right;\">         0</td><td style=\"text-align: right;\">      0</td><td style=\"text-align: right;\">            0</td><td style=\"text-align: right;\">             1</td><td style=\"text-align: right;\">       0</td><td style=\"text-align: right;\">   22300</td></tr>\n",
       "</tbody>\n",
       "</table>"
      ]
     },
     "metadata": {},
     "output_type": "display_data"
    },
    {
     "data": {
      "text/plain": []
     },
     "execution_count": 67,
     "metadata": {},
     "output_type": "execute_result"
    }
   ],
   "source": [
    "data.head()"
   ]
  },
  {
   "cell_type": "code",
   "execution_count": 68,
   "metadata": {},
   "outputs": [
    {
     "name": "stdout",
     "output_type": "stream",
     "text": [
      "Total rows in the data set =  500000\n",
      "Total Columns in the data set =  16\n",
      "rows X columns =  (500000, 16)\n",
      "Total Records =  8000000\n"
     ]
    }
   ],
   "source": [
    "rows = len(data)\n",
    "print(\"Total rows in the data set = \", rows)\n",
    "cols = len(data.columns)\n",
    "print(\"Total Columns in the data set = \", cols)\n",
    "\n",
    "rowscols = data.shape\n",
    "shape = rows * cols\n",
    "print(\"rows X columns = \", rowscols)\n",
    "print(\"Total Records = \", shape)\n",
    "\n",
    "meta_data['Total Records'] = shape"
   ]
  },
  {
   "cell_type": "code",
   "execution_count": 69,
   "metadata": {},
   "outputs": [
    {
     "data": {
      "text/plain": [
       "'3O7BboaEDHousePrices_HalfMil_1000'"
      ]
     },
     "execution_count": 69,
     "metadata": {},
     "output_type": "execute_result"
    }
   ],
   "source": [
    "name = run_id+'HousePrices_HalfMil_1000'\n",
    "name"
   ]
  },
  {
   "cell_type": "code",
   "execution_count": 70,
   "metadata": {},
   "outputs": [
    {
     "data": {
      "text/plain": [
       "'Prices'"
      ]
     },
     "execution_count": 70,
     "metadata": {},
     "output_type": "execute_result"
    }
   ],
   "source": [
    "# dependent variable\n",
    "# assign target an d inputs for classification or regression\n",
    "if target==None:\n",
    "    target=\"Prices\"   \n",
    "y = target\n",
    "meta_data['Target']=y\n",
    "y"
   ]
  },
  {
   "cell_type": "code",
   "execution_count": 71,
   "metadata": {},
   "outputs": [],
   "source": [
    "if all_variables is not None:\n",
    "    ivd=get_all_variables_csv(all_variables)\n",
    "    print(ivd)    \n",
    "    X=check_all_variables(data,ivd,y)\n",
    "    print(X)"
   ]
  },
  {
   "cell_type": "code",
   "execution_count": 72,
   "metadata": {},
   "outputs": [
    {
     "name": "stdout",
     "output_type": "stream",
     "text": [
      "['Area', 'Garage', 'FirePlace', 'Baths', 'White Marble', 'Black Marble', 'Indian Marble', 'Floors', 'City', 'Solar', 'Electric', 'Fiber', 'Glass Doors', 'Swiming Pool', 'Garden']\n"
     ]
    }
   ],
   "source": [
    "# independent variables\n",
    "# putting all independent variables in the list X \n",
    "\n",
    "X = []  \n",
    "if all_variables is None:\n",
    "    X=get_independent_variables(data, target)  \n",
    "    print(X)  \n",
    "else: \n",
    "    ivd=get_all_variables_csv(all_variables)    \n",
    "    X=check_all_variables(data, ivd)\n",
    "\n",
    "\n",
    "X=check_X(X,data)\n",
    "\n",
    "\n",
    "# Add independent variables to meta data\n",
    "\n",
    "meta_data['X']=X  \n",
    "\n",
    "\n",
    "# impute missing values\n",
    "\n",
    "_=impute_missing_values(data,X, scale)"
   ]
  },
  {
   "cell_type": "code",
   "execution_count": 73,
   "metadata": {},
   "outputs": [],
   "source": [
    "def get_variables_types(data):\n",
    "    d={}\n",
    "    for key, val in data.types.items():\n",
    "        d[key]=val           \n",
    "    return d"
   ]
  },
  {
   "cell_type": "code",
   "execution_count": 74,
   "metadata": {},
   "outputs": [
    {
     "data": {
      "text/plain": [
       "{'Area': 'int',\n",
       " 'Garage': 'int',\n",
       " 'FirePlace': 'int',\n",
       " 'Baths': 'int',\n",
       " 'White Marble': 'int',\n",
       " 'Black Marble': 'int',\n",
       " 'Indian Marble': 'int',\n",
       " 'Floors': 'int',\n",
       " 'City': 'int',\n",
       " 'Solar': 'int',\n",
       " 'Electric': 'int',\n",
       " 'Fiber': 'int',\n",
       " 'Glass Doors': 'int',\n",
       " 'Swiming Pool': 'int',\n",
       " 'Garden': 'int',\n",
       " 'Prices': 'int'}"
      ]
     },
     "execution_count": 74,
     "metadata": {},
     "output_type": "execute_result"
    }
   ],
   "source": [
    "allV=get_variables_types(data)\n",
    "allV"
   ]
  },
  {
   "cell_type": "code",
   "execution_count": 75,
   "metadata": {},
   "outputs": [],
   "source": [
    "# Adding the data types to meta data \n",
    "meta_data['variables']=allV"
   ]
  },
  {
   "cell_type": "code",
   "execution_count": 76,
   "metadata": {},
   "outputs": [
    {
     "name": "stdout",
     "output_type": "stream",
     "text": [
      "Parse progress: |█████████████████████████████████████████████████████████| 100%\n"
     ]
    }
   ],
   "source": [
    "data1 = h2o.H2OFrame(df)"
   ]
  },
  {
   "cell_type": "code",
   "execution_count": 77,
   "metadata": {},
   "outputs": [],
   "source": [
    "train,test = data.split_frame(ratios=[0.8],seed=123)"
   ]
  },
  {
   "cell_type": "code",
   "execution_count": 78,
   "metadata": {},
   "outputs": [],
   "source": [
    "x = ['Area','Garage','FirePlace','Baths','White Marble','Black Marble','Indian Marble','Floors','City','Solar','Electric','Fiber','Glass Doors','Swiming Pool','Garden']\n",
    "y = 'Prices'"
   ]
  },
  {
   "cell_type": "code",
   "execution_count": 79,
   "metadata": {},
   "outputs": [],
   "source": [
    "from h2o.automl import H2OAutoML\n",
    "aml = H2OAutoML(max_runtime_secs=1000)"
   ]
  },
  {
   "cell_type": "code",
   "execution_count": 80,
   "metadata": {},
   "outputs": [],
   "source": [
    "model_start_time = time.time()"
   ]
  },
  {
   "cell_type": "code",
   "execution_count": 81,
   "metadata": {},
   "outputs": [
    {
     "name": "stdout",
     "output_type": "stream",
     "text": [
      "AutoML progress: |████████████████████████████████████████████████████████| 100%\n"
     ]
    }
   ],
   "source": [
    "aml.train(x=x,y=y,training_frame=train)"
   ]
  },
  {
   "cell_type": "code",
   "execution_count": 82,
   "metadata": {},
   "outputs": [
    {
     "name": "stdout",
     "output_type": "stream",
     "text": [
      "Execution time for  1000 sec =   1060.0588459968567\n"
     ]
    }
   ],
   "source": [
    "execution_time =  time.time() - model_start_time\n",
    "meta_data['model_execution_time_sec'] = execution_time\n",
    "print(\"Execution time for \", run_time,\"sec =  \",meta_data['model_execution_time_sec'])"
   ]
  },
  {
   "cell_type": "code",
   "execution_count": 54,
   "metadata": {},
   "outputs": [
    {
     "data": {
      "text/html": [
       "<div>\n",
       "<style scoped>\n",
       "    .dataframe tbody tr th:only-of-type {\n",
       "        vertical-align: middle;\n",
       "    }\n",
       "\n",
       "    .dataframe tbody tr th {\n",
       "        vertical-align: top;\n",
       "    }\n",
       "\n",
       "    .dataframe thead th {\n",
       "        text-align: right;\n",
       "    }\n",
       "</style>\n",
       "<table border=\"1\" class=\"dataframe\">\n",
       "  <thead>\n",
       "    <tr style=\"text-align: right;\">\n",
       "      <th></th>\n",
       "      <th>model_id</th>\n",
       "      <th>mean_residual_deviance</th>\n",
       "      <th>rmse</th>\n",
       "      <th>mse</th>\n",
       "      <th>mae</th>\n",
       "      <th>rmsle</th>\n",
       "    </tr>\n",
       "  </thead>\n",
       "  <tbody>\n",
       "    <tr>\n",
       "      <th>0</th>\n",
       "      <td>GBM_2_AutoML_20190417_182705</td>\n",
       "      <td>2.966410e+04</td>\n",
       "      <td>172.232686</td>\n",
       "      <td>2.966410e+04</td>\n",
       "      <td>136.530259</td>\n",
       "      <td>0.004781</td>\n",
       "    </tr>\n",
       "    <tr>\n",
       "      <th>1</th>\n",
       "      <td>GBM_1_AutoML_20190417_182705</td>\n",
       "      <td>3.482398e+04</td>\n",
       "      <td>186.611848</td>\n",
       "      <td>3.482398e+04</td>\n",
       "      <td>148.092800</td>\n",
       "      <td>0.005145</td>\n",
       "    </tr>\n",
       "    <tr>\n",
       "      <th>2</th>\n",
       "      <td>GLM_grid_1_AutoML_20190417_181353_model_1</td>\n",
       "      <td>1.463908e+08</td>\n",
       "      <td>12099.205650</td>\n",
       "      <td>1.463908e+08</td>\n",
       "      <td>9888.143986</td>\n",
       "      <td>0.320038</td>\n",
       "    </tr>\n",
       "    <tr>\n",
       "      <th>3</th>\n",
       "      <td>GLM_grid_1_AutoML_20190417_182705_model_1</td>\n",
       "      <td>1.463908e+08</td>\n",
       "      <td>12099.205650</td>\n",
       "      <td>1.463908e+08</td>\n",
       "      <td>9888.143986</td>\n",
       "      <td>0.320038</td>\n",
       "    </tr>\n",
       "    <tr>\n",
       "      <th>4</th>\n",
       "      <td>StackedEnsemble_BestOfFamily_AutoML_20190417_1...</td>\n",
       "      <td>1.463913e+08</td>\n",
       "      <td>12099.225749</td>\n",
       "      <td>1.463913e+08</td>\n",
       "      <td>9888.129941</td>\n",
       "      <td>0.320038</td>\n",
       "    </tr>\n",
       "    <tr>\n",
       "      <th>5</th>\n",
       "      <td>StackedEnsemble_AllModels_AutoML_20190417_181353</td>\n",
       "      <td>1.463913e+08</td>\n",
       "      <td>12099.226738</td>\n",
       "      <td>1.463913e+08</td>\n",
       "      <td>9888.129709</td>\n",
       "      <td>0.320038</td>\n",
       "    </tr>\n",
       "  </tbody>\n",
       "</table>\n",
       "</div>"
      ],
      "text/plain": [
       "                                            model_id  mean_residual_deviance  \\\n",
       "0                       GBM_2_AutoML_20190417_182705            2.966410e+04   \n",
       "1                       GBM_1_AutoML_20190417_182705            3.482398e+04   \n",
       "2          GLM_grid_1_AutoML_20190417_181353_model_1            1.463908e+08   \n",
       "3          GLM_grid_1_AutoML_20190417_182705_model_1            1.463908e+08   \n",
       "4  StackedEnsemble_BestOfFamily_AutoML_20190417_1...            1.463913e+08   \n",
       "5   StackedEnsemble_AllModels_AutoML_20190417_181353            1.463913e+08   \n",
       "\n",
       "           rmse           mse          mae     rmsle  \n",
       "0    172.232686  2.966410e+04   136.530259  0.004781  \n",
       "1    186.611848  3.482398e+04   148.092800  0.005145  \n",
       "2  12099.205650  1.463908e+08  9888.143986  0.320038  \n",
       "3  12099.205650  1.463908e+08  9888.143986  0.320038  \n",
       "4  12099.225749  1.463913e+08  9888.129941  0.320038  \n",
       "5  12099.226738  1.463913e+08  9888.129709  0.320038  "
      ]
     },
     "execution_count": 54,
     "metadata": {},
     "output_type": "execute_result"
    }
   ],
   "source": [
    "lb2 = aml.leaderboard.as_data_frame()\n",
    "lb2"
   ]
  },
  {
   "cell_type": "code",
   "execution_count": 55,
   "metadata": {},
   "outputs": [],
   "source": [
    "length = len(lb1)- 1\n",
    "length\n",
    "meta_data[\"Models_generated\"] = length"
   ]
  },
  {
   "cell_type": "code",
   "execution_count": 56,
   "metadata": {},
   "outputs": [],
   "source": [
    "# save leaderboard to csv\n",
    "# run_time = run_time.ascharacter()\n",
    "leaderboard_stats=run_id+'Melbournehousingprices_500' + '_leaderboard.csv'\n",
    "lb1.to_csv(leaderboard_stats)"
   ]
  },
  {
   "cell_type": "code",
   "execution_count": 57,
   "metadata": {},
   "outputs": [],
   "source": [
    "# STart best model as first model\n",
    "model_set=lb1['model_id']\n",
    "mod_best=h2o.get_model(model_set[0])"
   ]
  },
  {
   "cell_type": "code",
   "execution_count": 58,
   "metadata": {},
   "outputs": [
    {
     "data": {
      "text/plain": [
       "{'model_id': {'default': None,\n",
       "  'actual': {'__meta': {'schema_version': 3,\n",
       "    'schema_name': 'ModelKeyV3',\n",
       "    'schema_type': 'Key<Model>'},\n",
       "   'name': 'GBM_2_AutoML_20190417_182705',\n",
       "   'type': 'Key<Model>',\n",
       "   'URL': '/3/Models/GBM_2_AutoML_20190417_182705'}},\n",
       " 'training_frame': {'default': None,\n",
       "  'actual': {'__meta': {'schema_version': 3,\n",
       "    'schema_name': 'FrameKeyV3',\n",
       "    'schema_type': 'Key<Frame>'},\n",
       "   'name': 'automl_training_py_6_sid_9ee3',\n",
       "   'type': 'Key<Frame>',\n",
       "   'URL': '/3/Frames/automl_training_py_6_sid_9ee3'}},\n",
       " 'validation_frame': {'default': None, 'actual': None},\n",
       " 'nfolds': {'default': 0, 'actual': 5},\n",
       " 'keep_cross_validation_models': {'default': True, 'actual': False},\n",
       " 'keep_cross_validation_predictions': {'default': False, 'actual': True},\n",
       " 'keep_cross_validation_fold_assignment': {'default': False, 'actual': False},\n",
       " 'score_each_iteration': {'default': False, 'actual': False},\n",
       " 'score_tree_interval': {'default': 0, 'actual': 5},\n",
       " 'fold_assignment': {'default': 'AUTO', 'actual': 'Modulo'},\n",
       " 'fold_column': {'default': None, 'actual': None},\n",
       " 'response_column': {'default': None,\n",
       "  'actual': {'__meta': {'schema_version': 3,\n",
       "    'schema_name': 'ColSpecifierV3',\n",
       "    'schema_type': 'VecSpecifier'},\n",
       "   'column_name': 'Prices',\n",
       "   'is_member_of_frames': None}},\n",
       " 'ignored_columns': {'default': None, 'actual': []},\n",
       " 'ignore_const_cols': {'default': True, 'actual': True},\n",
       " 'offset_column': {'default': None, 'actual': None},\n",
       " 'weights_column': {'default': None, 'actual': None},\n",
       " 'balance_classes': {'default': False, 'actual': False},\n",
       " 'class_sampling_factors': {'default': None, 'actual': None},\n",
       " 'max_after_balance_size': {'default': 5.0, 'actual': 5.0},\n",
       " 'max_confusion_matrix_size': {'default': 20, 'actual': 20},\n",
       " 'max_hit_ratio_k': {'default': 0, 'actual': 0},\n",
       " 'ntrees': {'default': 50, 'actual': 205},\n",
       " 'max_depth': {'default': 5, 'actual': 15},\n",
       " 'min_rows': {'default': 10.0, 'actual': 100.0},\n",
       " 'nbins': {'default': 20, 'actual': 20},\n",
       " 'nbins_top_level': {'default': 1024, 'actual': 1024},\n",
       " 'nbins_cats': {'default': 1024, 'actual': 1024},\n",
       " 'r2_stopping': {'default': 1.7976931348623157e+308,\n",
       "  'actual': 1.7976931348623157e+308},\n",
       " 'stopping_rounds': {'default': 0, 'actual': 0},\n",
       " 'stopping_metric': {'default': 'AUTO', 'actual': 'deviance'},\n",
       " 'stopping_tolerance': {'default': 0.001, 'actual': 0.0015806726004257985},\n",
       " 'max_runtime_secs': {'default': 0.0, 'actual': 0.0},\n",
       " 'seed': {'default': -1, 'actual': 6344403308522716344},\n",
       " 'build_tree_one_node': {'default': False, 'actual': False},\n",
       " 'learn_rate': {'default': 0.1, 'actual': 0.1},\n",
       " 'learn_rate_annealing': {'default': 1.0, 'actual': 1.0},\n",
       " 'distribution': {'default': 'AUTO', 'actual': 'gaussian'},\n",
       " 'quantile_alpha': {'default': 0.5, 'actual': 0.5},\n",
       " 'tweedie_power': {'default': 1.5, 'actual': 1.5},\n",
       " 'huber_alpha': {'default': 0.9, 'actual': 0.9},\n",
       " 'checkpoint': {'default': None, 'actual': None},\n",
       " 'sample_rate': {'default': 1.0, 'actual': 0.8},\n",
       " 'sample_rate_per_class': {'default': None, 'actual': None},\n",
       " 'col_sample_rate': {'default': 1.0, 'actual': 0.8},\n",
       " 'col_sample_rate_change_per_level': {'default': 1.0, 'actual': 1.0},\n",
       " 'col_sample_rate_per_tree': {'default': 1.0, 'actual': 0.8},\n",
       " 'min_split_improvement': {'default': 1e-05, 'actual': 1e-05},\n",
       " 'histogram_type': {'default': 'AUTO', 'actual': 'AUTO'},\n",
       " 'max_abs_leafnode_pred': {'default': 1.7976931348623157e+308,\n",
       "  'actual': 1.7976931348623157e+308},\n",
       " 'pred_noise_bandwidth': {'default': 0.0, 'actual': 0.0},\n",
       " 'categorical_encoding': {'default': 'AUTO', 'actual': 'AUTO'},\n",
       " 'calibrate_model': {'default': False, 'actual': False},\n",
       " 'calibration_frame': {'default': None, 'actual': None},\n",
       " 'custom_metric_func': {'default': None, 'actual': None},\n",
       " 'export_checkpoints_dir': {'default': None, 'actual': None},\n",
       " 'monotone_constraints': {'default': None, 'actual': None},\n",
       " 'check_constant_response': {'default': True, 'actual': True}}"
      ]
     },
     "execution_count": 58,
     "metadata": {},
     "output_type": "execute_result"
    }
   ],
   "source": [
    "mod_best.params"
   ]
  },
  {
   "cell_type": "code",
   "execution_count": 59,
   "metadata": {},
   "outputs": [
    {
     "name": "stdout",
     "output_type": "stream",
     "text": [
      "\n",
      "ModelMetricsRegression: gbm\n",
      "** Reported on test data. **\n",
      "\n",
      "MSE: 27569.558546292516\n",
      "RMSE: 166.0408339725277\n",
      "MAE: 131.47522386945926\n",
      "RMSLE: 0.004623596710396046\n",
      "Mean Residual Deviance: 27569.558546292516\n"
     ]
    },
    {
     "data": {
      "text/plain": []
     },
     "execution_count": 59,
     "metadata": {},
     "output_type": "execute_result"
    }
   ],
   "source": [
    "aml.leader.model_performance(test)"
   ]
  },
  {
   "cell_type": "code",
   "execution_count": 60,
   "metadata": {},
   "outputs": [
    {
     "name": "stdout",
     "output_type": "stream",
     "text": [
      "Model Details\n",
      "=============\n",
      "H2OGradientBoostingEstimator :  Gradient Boosting Machine\n",
      "Model Key:  GBM_2_AutoML_20190417_182705\n",
      "\n",
      "\n",
      "ModelMetricsRegression: gbm\n",
      "** Reported on train data. **\n",
      "\n",
      "MSE: 26149.941886676665\n",
      "RMSE: 161.70943660367092\n",
      "MAE: 127.9736890708115\n",
      "RMSLE: 0.004511833619352955\n",
      "Mean Residual Deviance: 26149.941886676665\n",
      "\n",
      "ModelMetricsRegression: gbm\n",
      "** Reported on cross-validation data. **\n",
      "\n",
      "MSE: 29664.09803465186\n",
      "RMSE: 172.23268573256314\n",
      "MAE: 136.53025903109298\n",
      "RMSLE: 0.004780520764551986\n",
      "Mean Residual Deviance: 29664.09803465186\n",
      "Cross-Validation Metrics Summary: \n"
     ]
    },
    {
     "data": {
      "text/html": [
       "<div style=\"overflow:auto\"><table style=\"width:50%\"><tr><td><b></b></td>\n",
       "<td><b>mean</b></td>\n",
       "<td><b>sd</b></td>\n",
       "<td><b>cv_1_valid</b></td>\n",
       "<td><b>cv_2_valid</b></td>\n",
       "<td><b>cv_3_valid</b></td>\n",
       "<td><b>cv_4_valid</b></td>\n",
       "<td><b>cv_5_valid</b></td></tr>\n",
       "<tr><td>mae</td>\n",
       "<td>136.53026</td>\n",
       "<td>1.0971618</td>\n",
       "<td>139.13708</td>\n",
       "<td>137.32744</td>\n",
       "<td>134.7794</td>\n",
       "<td>135.4082</td>\n",
       "<td>135.99913</td></tr>\n",
       "<tr><td>mean_residual_deviance</td>\n",
       "<td>29664.096</td>\n",
       "<td>489.95078</td>\n",
       "<td>30868.846</td>\n",
       "<td>29935.104</td>\n",
       "<td>28912.568</td>\n",
       "<td>29146.094</td>\n",
       "<td>29457.863</td></tr>\n",
       "<tr><td>mse</td>\n",
       "<td>29664.096</td>\n",
       "<td>489.95078</td>\n",
       "<td>30868.846</td>\n",
       "<td>29935.104</td>\n",
       "<td>28912.568</td>\n",
       "<td>29146.094</td>\n",
       "<td>29457.863</td></tr>\n",
       "<tr><td>r2</td>\n",
       "<td>0.9997973</td>\n",
       "<td>0.0000032</td>\n",
       "<td>0.9997894</td>\n",
       "<td>0.9997954</td>\n",
       "<td>0.9998014</td>\n",
       "<td>0.9998018</td>\n",
       "<td>0.9997989</td></tr>\n",
       "<tr><td>residual_deviance</td>\n",
       "<td>29664.096</td>\n",
       "<td>489.95078</td>\n",
       "<td>30868.846</td>\n",
       "<td>29935.104</td>\n",
       "<td>28912.568</td>\n",
       "<td>29146.094</td>\n",
       "<td>29457.863</td></tr>\n",
       "<tr><td>rmse</td>\n",
       "<td>172.22102</td>\n",
       "<td>1.4166003</td>\n",
       "<td>175.69531</td>\n",
       "<td>173.01764</td>\n",
       "<td>170.03696</td>\n",
       "<td>170.72227</td>\n",
       "<td>171.63293</td></tr>\n",
       "<tr><td>rmsle</td>\n",
       "<td>0.0047801</td>\n",
       "<td>0.0000458</td>\n",
       "<td>0.0048779</td>\n",
       "<td>0.0047752</td>\n",
       "<td>0.0046803</td>\n",
       "<td>0.0047568</td>\n",
       "<td>0.0048101</td></tr></table></div>"
      ],
      "text/plain": [
       "                        mean        sd           cv_1_valid    cv_2_valid    cv_3_valid    cv_4_valid    cv_5_valid\n",
       "----------------------  ----------  -----------  ------------  ------------  ------------  ------------  ------------\n",
       "mae                     136.53      1.09716      139.137       137.327       134.779       135.408       135.999\n",
       "mean_residual_deviance  29664.1     489.951      30868.8       29935.1       28912.6       29146.1       29457.9\n",
       "mse                     29664.1     489.951      30868.8       29935.1       28912.6       29146.1       29457.9\n",
       "r2                      0.999797    3.23851e-06  0.999789      0.999795      0.999801      0.999802      0.999799\n",
       "residual_deviance       29664.1     489.951      30868.8       29935.1       28912.6       29146.1       29457.9\n",
       "rmse                    172.221     1.4166       175.695       173.018       170.037       170.722       171.633\n",
       "rmsle                   0.00478008  4.58147e-05  0.00487793    0.00477524    0.00468034    0.00475679    0.00481011"
      ]
     },
     "metadata": {},
     "output_type": "display_data"
    },
    {
     "name": "stdout",
     "output_type": "stream",
     "text": [
      "Scoring History: \n"
     ]
    },
    {
     "data": {
      "text/html": [
       "<div style=\"overflow:auto\"><table style=\"width:50%\"><tr><td><b></b></td>\n",
       "<td><b>timestamp</b></td>\n",
       "<td><b>duration</b></td>\n",
       "<td><b>number_of_trees</b></td>\n",
       "<td><b>training_rmse</b></td>\n",
       "<td><b>training_mae</b></td>\n",
       "<td><b>training_deviance</b></td></tr>\n",
       "<tr><td></td>\n",
       "<td>2019-04-17 18:38:27</td>\n",
       "<td> 3 min 46.377 sec</td>\n",
       "<td>0.0</td>\n",
       "<td>12099.2315897</td>\n",
       "<td>9888.1719803</td>\n",
       "<td>146391405.0603352</td></tr>\n",
       "<tr><td></td>\n",
       "<td>2019-04-17 18:38:28</td>\n",
       "<td> 3 min 47.299 sec</td>\n",
       "<td>5.0</td>\n",
       "<td>7929.2491742</td>\n",
       "<td>6469.5038915</td>\n",
       "<td>62872992.4662298</td></tr>\n",
       "<tr><td></td>\n",
       "<td>2019-04-17 18:38:28</td>\n",
       "<td> 3 min 48.096 sec</td>\n",
       "<td>10.0</td>\n",
       "<td>5436.1141902</td>\n",
       "<td>4422.7114477</td>\n",
       "<td>29551337.4884435</td></tr>\n",
       "<tr><td></td>\n",
       "<td>2019-04-17 18:38:29</td>\n",
       "<td> 3 min 49.002 sec</td>\n",
       "<td>15.0</td>\n",
       "<td>3657.5619692</td>\n",
       "<td>2964.8371937</td>\n",
       "<td>13377759.5583572</td></tr>\n",
       "<tr><td></td>\n",
       "<td>2019-04-17 18:38:30</td>\n",
       "<td> 3 min 49.767 sec</td>\n",
       "<td>20.0</td>\n",
       "<td>2626.4427156</td>\n",
       "<td>2128.5117430</td>\n",
       "<td>6898201.3384635</td></tr>\n",
       "<tr><td>---</td>\n",
       "<td>---</td>\n",
       "<td>---</td>\n",
       "<td>---</td>\n",
       "<td>---</td>\n",
       "<td>---</td>\n",
       "<td>---</td></tr>\n",
       "<tr><td></td>\n",
       "<td>2019-04-17 18:38:59</td>\n",
       "<td> 4 min 18.964 sec</td>\n",
       "<td>220.0</td>\n",
       "<td>162.4198721</td>\n",
       "<td>128.5329268</td>\n",
       "<td>26380.2148626</td></tr>\n",
       "<tr><td></td>\n",
       "<td>2019-04-17 18:39:00</td>\n",
       "<td> 4 min 19.605 sec</td>\n",
       "<td>225.0</td>\n",
       "<td>161.7094366</td>\n",
       "<td>127.9736891</td>\n",
       "<td>26149.9418867</td></tr>\n",
       "<tr><td></td>\n",
       "<td>2019-04-17 18:39:00</td>\n",
       "<td> 4 min 19.792 sec</td>\n",
       "<td>230.0</td>\n",
       "<td>161.7094366</td>\n",
       "<td>127.9736891</td>\n",
       "<td>26149.9418867</td></tr>\n",
       "<tr><td></td>\n",
       "<td>2019-04-17 18:39:00</td>\n",
       "<td> 4 min 19.948 sec</td>\n",
       "<td>235.0</td>\n",
       "<td>161.7094366</td>\n",
       "<td>127.9736891</td>\n",
       "<td>26149.9418867</td></tr>\n",
       "<tr><td></td>\n",
       "<td>2019-04-17 18:39:00</td>\n",
       "<td> 4 min 20.026 sec</td>\n",
       "<td>238.0</td>\n",
       "<td>161.7094366</td>\n",
       "<td>127.9736891</td>\n",
       "<td>26149.9418867</td></tr></table></div>"
      ],
      "text/plain": [
       "     timestamp            duration          number_of_trees    training_rmse       training_mae        training_deviance\n",
       "---  -------------------  ----------------  -----------------  ------------------  ------------------  -------------------\n",
       "     2019-04-17 18:38:27  3 min 46.377 sec  0.0                12099.231589664492  9888.171980260644   146391405.06033516\n",
       "     2019-04-17 18:38:28  3 min 47.299 sec  5.0                7929.249174179725   6469.503891527241   62872992.46622985\n",
       "     2019-04-17 18:38:28  3 min 48.096 sec  10.0               5436.114190158579   4422.711447657991   29551337.48844346\n",
       "     2019-04-17 18:38:29  3 min 49.002 sec  15.0               3657.5619691752645  2964.8371936582807  13377759.558357239\n",
       "     2019-04-17 18:38:30  3 min 49.767 sec  20.0               2626.442715625745   2128.5117430081486  6898201.33846354\n",
       "---  ---                  ---               ---                ---                 ---                 ---\n",
       "     2019-04-17 18:38:59  4 min 18.964 sec  220.0              162.41987212974917  128.5329267963347   26380.214862644072\n",
       "     2019-04-17 18:39:00  4 min 19.605 sec  225.0              161.70943660367092  127.9736890708115   26149.941886676665\n",
       "     2019-04-17 18:39:00  4 min 19.792 sec  230.0              161.70943660367092  127.9736890708115   26149.941886676665\n",
       "     2019-04-17 18:39:00  4 min 19.948 sec  235.0              161.70943660367092  127.9736890708115   26149.941886676665\n",
       "     2019-04-17 18:39:00  4 min 20.026 sec  238.0              161.70943660367092  127.9736890708115   26149.941886676665"
      ]
     },
     "metadata": {},
     "output_type": "display_data"
    },
    {
     "name": "stdout",
     "output_type": "stream",
     "text": [
      "\n",
      "See the whole table with table.as_data_frame()\n",
      "Variable Importances: \n"
     ]
    },
    {
     "data": {
      "text/html": [
       "<div style=\"overflow:auto\"><table style=\"width:50%\"><tr><td><b>variable</b></td>\n",
       "<td><b>relative_importance</b></td>\n",
       "<td><b>scaled_importance</b></td>\n",
       "<td><b>percentage</b></td></tr>\n",
       "<tr><td>Floors</td>\n",
       "<td>116001219805184.0000000</td>\n",
       "<td>1.0</td>\n",
       "<td>0.4265708</td></tr>\n",
       "<tr><td>Fiber</td>\n",
       "<td>60367396929536.0000000</td>\n",
       "<td>0.5204031</td>\n",
       "<td>0.2219888</td></tr>\n",
       "<tr><td>White Marble</td>\n",
       "<td>40338743885824.0000000</td>\n",
       "<td>0.3477441</td>\n",
       "<td>0.1483375</td></tr>\n",
       "<tr><td>City</td>\n",
       "<td>13632411795456.0000000</td>\n",
       "<td>0.1175196</td>\n",
       "<td>0.0501304</td></tr>\n",
       "<tr><td>Indian Marble</td>\n",
       "<td>11609458081792.0000000</td>\n",
       "<td>0.1000805</td>\n",
       "<td>0.0426914</td></tr>\n",
       "<tr><td>Glass Doors</td>\n",
       "<td>8269725171712.0000000</td>\n",
       "<td>0.0712900</td>\n",
       "<td>0.0304102</td></tr>\n",
       "<tr><td>Black Marble</td>\n",
       "<td>5807332130816.0000000</td>\n",
       "<td>0.0500627</td>\n",
       "<td>0.0213553</td></tr>\n",
       "<tr><td>Area</td>\n",
       "<td>5482950950912.0000000</td>\n",
       "<td>0.0472663</td>\n",
       "<td>0.0201624</td></tr>\n",
       "<tr><td>Baths</td>\n",
       "<td>5267784728576.0000000</td>\n",
       "<td>0.0454115</td>\n",
       "<td>0.0193712</td></tr>\n",
       "<tr><td>Garage</td>\n",
       "<td>2539710578688.0000000</td>\n",
       "<td>0.0218938</td>\n",
       "<td>0.0093393</td></tr>\n",
       "<tr><td>FirePlace</td>\n",
       "<td>1932850102272.0000000</td>\n",
       "<td>0.0166623</td>\n",
       "<td>0.0071077</td></tr>\n",
       "<tr><td>Electric</td>\n",
       "<td>663123001344.0000000</td>\n",
       "<td>0.0057165</td>\n",
       "<td>0.0024385</td></tr>\n",
       "<tr><td>Solar</td>\n",
       "<td>26218334208.0000000</td>\n",
       "<td>0.0002260</td>\n",
       "<td>0.0000964</td></tr>\n",
       "<tr><td>Swiming Pool</td>\n",
       "<td>13094504.0000000</td>\n",
       "<td>0.0000001</td>\n",
       "<td>0.0000000</td></tr>\n",
       "<tr><td>Garden</td>\n",
       "<td>11017283.0000000</td>\n",
       "<td>0.0000001</td>\n",
       "<td>0.0000000</td></tr></table></div>"
      ],
      "text/plain": [
       "variable       relative_importance    scaled_importance    percentage\n",
       "-------------  ---------------------  -------------------  ------------\n",
       "Floors         1.16001e+14            1                    0.426571\n",
       "Fiber          6.03674e+13            0.520403             0.221989\n",
       "White Marble   4.03387e+13            0.347744             0.148337\n",
       "City           1.36324e+13            0.11752              0.0501304\n",
       "Indian Marble  1.16095e+13            0.10008              0.0426914\n",
       "Glass Doors    8.26973e+12            0.07129              0.0304102\n",
       "Black Marble   5.80733e+12            0.0500627            0.0213553\n",
       "Area           5.48295e+12            0.0472663            0.0201624\n",
       "Baths          5.26778e+12            0.0454115            0.0193712\n",
       "Garage         2.53971e+12            0.0218938            0.00933927\n",
       "FirePlace      1.93285e+12            0.0166623            0.00710766\n",
       "Electric       6.63123e+11            0.00571652           0.0024385\n",
       "Solar          2.62183e+10            0.000226018          9.64126e-05\n",
       "Swiming Pool   1.30945e+07            1.12882e-07          4.81524e-08\n",
       "Garden         1.10173e+07            9.49756e-08          4.05138e-08"
      ]
     },
     "metadata": {},
     "output_type": "display_data"
    },
    {
     "name": "stdout",
     "output_type": "stream",
     "text": [
      "<bound method ModelBase.coef_norm of >\n"
     ]
    }
   ],
   "source": [
    "# generating normalized coeff.\n",
    "mods=mod_best.coef_norm\n",
    "print(mods)"
   ]
  },
  {
   "cell_type": "code",
   "execution_count": 61,
   "metadata": {},
   "outputs": [
    {
     "data": {
      "text/plain": [
       "pandas.core.series.Series"
      ]
     },
     "execution_count": 61,
     "metadata": {},
     "output_type": "execute_result"
    }
   ],
   "source": [
    "model_set=lb1['model_id']\n",
    "type(model_set)"
   ]
  },
  {
   "cell_type": "code",
   "execution_count": 62,
   "metadata": {},
   "outputs": [],
   "source": [
    "jsonDicts = []\n",
    "for m in model_set.iteritems():\n",
    "    m,model_name = m\n",
    "    mod_best = h2o.get_model(model_name)\n",
    "    jsonDicts.append(mod_best.params)"
   ]
  },
  {
   "cell_type": "code",
   "execution_count": 63,
   "metadata": {},
   "outputs": [
    {
     "name": "stdout",
     "output_type": "stream",
     "text": [
      "[{'model_id': {'default': None, 'actual': {'__meta': {'schema_version': 3, 'schema_name': 'ModelKeyV3', 'schema_type': 'Key<Model>'}, 'name': 'GBM_2_AutoML_20190417_182705', 'type': 'Key<Model>', 'URL': '/3/Models/GBM_2_AutoML_20190417_182705'}}, 'training_frame': {'default': None, 'actual': {'__meta': {'schema_version': 3, 'schema_name': 'FrameKeyV3', 'schema_type': 'Key<Frame>'}, 'name': 'automl_training_py_6_sid_9ee3', 'type': 'Key<Frame>', 'URL': '/3/Frames/automl_training_py_6_sid_9ee3'}}, 'validation_frame': {'default': None, 'actual': None}, 'nfolds': {'default': 0, 'actual': 5}, 'keep_cross_validation_models': {'default': True, 'actual': False}, 'keep_cross_validation_predictions': {'default': False, 'actual': True}, 'keep_cross_validation_fold_assignment': {'default': False, 'actual': False}, 'score_each_iteration': {'default': False, 'actual': False}, 'score_tree_interval': {'default': 0, 'actual': 5}, 'fold_assignment': {'default': 'AUTO', 'actual': 'Modulo'}, 'fold_column': {'default': None, 'actual': None}, 'response_column': {'default': None, 'actual': {'__meta': {'schema_version': 3, 'schema_name': 'ColSpecifierV3', 'schema_type': 'VecSpecifier'}, 'column_name': 'Prices', 'is_member_of_frames': None}}, 'ignored_columns': {'default': None, 'actual': []}, 'ignore_const_cols': {'default': True, 'actual': True}, 'offset_column': {'default': None, 'actual': None}, 'weights_column': {'default': None, 'actual': None}, 'balance_classes': {'default': False, 'actual': False}, 'class_sampling_factors': {'default': None, 'actual': None}, 'max_after_balance_size': {'default': 5.0, 'actual': 5.0}, 'max_confusion_matrix_size': {'default': 20, 'actual': 20}, 'max_hit_ratio_k': {'default': 0, 'actual': 0}, 'ntrees': {'default': 50, 'actual': 205}, 'max_depth': {'default': 5, 'actual': 15}, 'min_rows': {'default': 10.0, 'actual': 100.0}, 'nbins': {'default': 20, 'actual': 20}, 'nbins_top_level': {'default': 1024, 'actual': 1024}, 'nbins_cats': {'default': 1024, 'actual': 1024}, 'r2_stopping': {'default': 1.7976931348623157e+308, 'actual': 1.7976931348623157e+308}, 'stopping_rounds': {'default': 0, 'actual': 0}, 'stopping_metric': {'default': 'AUTO', 'actual': 'deviance'}, 'stopping_tolerance': {'default': 0.001, 'actual': 0.0015806726004257985}, 'max_runtime_secs': {'default': 0.0, 'actual': 0.0}, 'seed': {'default': -1, 'actual': 6344403308522716344}, 'build_tree_one_node': {'default': False, 'actual': False}, 'learn_rate': {'default': 0.1, 'actual': 0.1}, 'learn_rate_annealing': {'default': 1.0, 'actual': 1.0}, 'distribution': {'default': 'AUTO', 'actual': 'gaussian'}, 'quantile_alpha': {'default': 0.5, 'actual': 0.5}, 'tweedie_power': {'default': 1.5, 'actual': 1.5}, 'huber_alpha': {'default': 0.9, 'actual': 0.9}, 'checkpoint': {'default': None, 'actual': None}, 'sample_rate': {'default': 1.0, 'actual': 0.8}, 'sample_rate_per_class': {'default': None, 'actual': None}, 'col_sample_rate': {'default': 1.0, 'actual': 0.8}, 'col_sample_rate_change_per_level': {'default': 1.0, 'actual': 1.0}, 'col_sample_rate_per_tree': {'default': 1.0, 'actual': 0.8}, 'min_split_improvement': {'default': 1e-05, 'actual': 1e-05}, 'histogram_type': {'default': 'AUTO', 'actual': 'AUTO'}, 'max_abs_leafnode_pred': {'default': 1.7976931348623157e+308, 'actual': 1.7976931348623157e+308}, 'pred_noise_bandwidth': {'default': 0.0, 'actual': 0.0}, 'categorical_encoding': {'default': 'AUTO', 'actual': 'AUTO'}, 'calibrate_model': {'default': False, 'actual': False}, 'calibration_frame': {'default': None, 'actual': None}, 'custom_metric_func': {'default': None, 'actual': None}, 'export_checkpoints_dir': {'default': None, 'actual': None}, 'monotone_constraints': {'default': None, 'actual': None}, 'check_constant_response': {'default': True, 'actual': True}}, {'model_id': {'default': None, 'actual': {'__meta': {'schema_version': 3, 'schema_name': 'ModelKeyV3', 'schema_type': 'Key<Model>'}, 'name': 'GBM_1_AutoML_20190417_182705', 'type': 'Key<Model>', 'URL': '/3/Models/GBM_1_AutoML_20190417_182705'}}, 'training_frame': {'default': None, 'actual': {'__meta': {'schema_version': 3, 'schema_name': 'FrameKeyV3', 'schema_type': 'Key<Frame>'}, 'name': 'automl_training_py_6_sid_9ee3', 'type': 'Key<Frame>', 'URL': '/3/Frames/automl_training_py_6_sid_9ee3'}}, 'validation_frame': {'default': None, 'actual': None}, 'nfolds': {'default': 0, 'actual': 5}, 'keep_cross_validation_models': {'default': True, 'actual': False}, 'keep_cross_validation_predictions': {'default': False, 'actual': True}, 'keep_cross_validation_fold_assignment': {'default': False, 'actual': False}, 'score_each_iteration': {'default': False, 'actual': False}, 'score_tree_interval': {'default': 0, 'actual': 5}, 'fold_assignment': {'default': 'AUTO', 'actual': 'Modulo'}, 'fold_column': {'default': None, 'actual': None}, 'response_column': {'default': None, 'actual': {'__meta': {'schema_version': 3, 'schema_name': 'ColSpecifierV3', 'schema_type': 'VecSpecifier'}, 'column_name': 'Prices', 'is_member_of_frames': None}}, 'ignored_columns': {'default': None, 'actual': []}, 'ignore_const_cols': {'default': True, 'actual': True}, 'offset_column': {'default': None, 'actual': None}, 'weights_column': {'default': None, 'actual': None}, 'balance_classes': {'default': False, 'actual': False}, 'class_sampling_factors': {'default': None, 'actual': None}, 'max_after_balance_size': {'default': 5.0, 'actual': 5.0}, 'max_confusion_matrix_size': {'default': 20, 'actual': 20}, 'max_hit_ratio_k': {'default': 0, 'actual': 0}, 'ntrees': {'default': 50, 'actual': 205}, 'max_depth': {'default': 5, 'actual': 15}, 'min_rows': {'default': 10.0, 'actual': 100.0}, 'nbins': {'default': 20, 'actual': 20}, 'nbins_top_level': {'default': 1024, 'actual': 1024}, 'nbins_cats': {'default': 1024, 'actual': 1024}, 'r2_stopping': {'default': 1.7976931348623157e+308, 'actual': 1.7976931348623157e+308}, 'stopping_rounds': {'default': 0, 'actual': 0}, 'stopping_metric': {'default': 'AUTO', 'actual': 'deviance'}, 'stopping_tolerance': {'default': 0.001, 'actual': 0.0015806726004257985}, 'max_runtime_secs': {'default': 0.0, 'actual': 0.0}, 'seed': {'default': -1, 'actual': 6344403308522716344}, 'build_tree_one_node': {'default': False, 'actual': False}, 'learn_rate': {'default': 0.1, 'actual': 0.1}, 'learn_rate_annealing': {'default': 1.0, 'actual': 1.0}, 'distribution': {'default': 'AUTO', 'actual': 'gaussian'}, 'quantile_alpha': {'default': 0.5, 'actual': 0.5}, 'tweedie_power': {'default': 1.5, 'actual': 1.5}, 'huber_alpha': {'default': 0.9, 'actual': 0.9}, 'checkpoint': {'default': None, 'actual': None}, 'sample_rate': {'default': 1.0, 'actual': 0.8}, 'sample_rate_per_class': {'default': None, 'actual': None}, 'col_sample_rate': {'default': 1.0, 'actual': 0.8}, 'col_sample_rate_change_per_level': {'default': 1.0, 'actual': 1.0}, 'col_sample_rate_per_tree': {'default': 1.0, 'actual': 0.8}, 'min_split_improvement': {'default': 1e-05, 'actual': 1e-05}, 'histogram_type': {'default': 'AUTO', 'actual': 'AUTO'}, 'max_abs_leafnode_pred': {'default': 1.7976931348623157e+308, 'actual': 1.7976931348623157e+308}, 'pred_noise_bandwidth': {'default': 0.0, 'actual': 0.0}, 'categorical_encoding': {'default': 'AUTO', 'actual': 'AUTO'}, 'calibrate_model': {'default': False, 'actual': False}, 'calibration_frame': {'default': None, 'actual': None}, 'custom_metric_func': {'default': None, 'actual': None}, 'export_checkpoints_dir': {'default': None, 'actual': None}, 'monotone_constraints': {'default': None, 'actual': None}, 'check_constant_response': {'default': True, 'actual': True}}, {'model_id': {'default': None, 'actual': {'__meta': {'schema_version': 3, 'schema_name': 'ModelKeyV3', 'schema_type': 'Key<Model>'}, 'name': 'GLM_grid_1_AutoML_20190417_181353_model_1', 'type': 'Key<Model>', 'URL': '/3/Models/GLM_grid_1_AutoML_20190417_181353_model_1'}}, 'training_frame': {'default': None, 'actual': {'__meta': {'schema_version': 3, 'schema_name': 'FrameKeyV3', 'schema_type': 'Key<Frame>'}, 'name': 'automl_training_py_6_sid_9ee3', 'type': 'Key<Frame>', 'URL': '/3/Frames/automl_training_py_6_sid_9ee3'}}, 'validation_frame': {'default': None, 'actual': None}, 'nfolds': {'default': 0, 'actual': 5}, 'seed': {'default': -1, 'actual': -268582361245371910}, 'keep_cross_validation_models': {'default': True, 'actual': False}, 'keep_cross_validation_predictions': {'default': False, 'actual': True}, 'keep_cross_validation_fold_assignment': {'default': False, 'actual': False}, 'fold_assignment': {'default': 'AUTO', 'actual': 'Modulo'}, 'fold_column': {'default': None, 'actual': None}, 'response_column': {'default': None, 'actual': {'__meta': {'schema_version': 3, 'schema_name': 'ColSpecifierV3', 'schema_type': 'VecSpecifier'}, 'column_name': 'Prices', 'is_member_of_frames': None}}, 'ignored_columns': {'default': None, 'actual': []}, 'ignore_const_cols': {'default': True, 'actual': True}, 'score_each_iteration': {'default': False, 'actual': False}, 'offset_column': {'default': None, 'actual': None}, 'weights_column': {'default': None, 'actual': None}, 'family': {'default': 'gaussian', 'actual': 'gaussian'}, 'tweedie_variance_power': {'default': 0.0, 'actual': 0.0}, 'tweedie_link_power': {'default': 1.0, 'actual': 1.0}, 'solver': {'default': 'AUTO', 'actual': 'COORDINATE_DESCENT'}, 'alpha': {'default': None, 'actual': [0.0, 0.2, 0.4, 0.6, 0.8, 1.0]}, 'lambda': {'default': None, 'actual': [749571.309688754, 465496.48247256264, 289081.20200638974, 179524.32402834488, 111487.64670323252]}, 'lambda_search': {'default': False, 'actual': True}, 'early_stopping': {'default': True, 'actual': True}, 'nlambdas': {'default': -1, 'actual': 30}, 'standardize': {'default': True, 'actual': True}, 'missing_values_handling': {'default': 'MeanImputation', 'actual': 'MeanImputation'}, 'compute_p_values': {'default': False, 'actual': False}, 'remove_collinear_columns': {'default': False, 'actual': False}, 'intercept': {'default': True, 'actual': True}, 'non_negative': {'default': False, 'actual': False}, 'max_iterations': {'default': -1, 'actual': 300}, 'objective_epsilon': {'default': -1.0, 'actual': 0.0001}, 'beta_epsilon': {'default': 0.0001, 'actual': 0.0001}, 'gradient_epsilon': {'default': -1.0, 'actual': 1.0000000000000002e-06}, 'link': {'default': 'family_default', 'actual': 'identity'}, 'prior': {'default': -1.0, 'actual': -1.0}, 'lambda_min_ratio': {'default': -1.0, 'actual': 1.0000000000000002e-06}, 'beta_constraints': {'default': None, 'actual': None}, 'max_active_predictors': {'default': -1, 'actual': 5000}, 'interactions': {'default': None, 'actual': None}, 'interaction_pairs': {'default': None, 'actual': None}, 'obj_reg': {'default': -1.0, 'actual': 2.498525869736855e-06}, 'export_checkpoints_dir': {'default': None, 'actual': None}, 'balance_classes': {'default': False, 'actual': False}, 'class_sampling_factors': {'default': None, 'actual': None}, 'max_after_balance_size': {'default': 5.0, 'actual': 5.0}, 'max_confusion_matrix_size': {'default': 20, 'actual': 20}, 'max_hit_ratio_k': {'default': 0, 'actual': 0}, 'max_runtime_secs': {'default': 0.0, 'actual': 6.5}, 'custom_metric_func': {'default': None, 'actual': None}}, {'model_id': {'default': None, 'actual': {'__meta': {'schema_version': 3, 'schema_name': 'ModelKeyV3', 'schema_type': 'Key<Model>'}, 'name': 'GLM_grid_1_AutoML_20190417_182705_model_1', 'type': 'Key<Model>', 'URL': '/3/Models/GLM_grid_1_AutoML_20190417_182705_model_1'}}, 'training_frame': {'default': None, 'actual': {'__meta': {'schema_version': 3, 'schema_name': 'FrameKeyV3', 'schema_type': 'Key<Frame>'}, 'name': 'automl_training_py_6_sid_9ee3', 'type': 'Key<Frame>', 'URL': '/3/Frames/automl_training_py_6_sid_9ee3'}}, 'validation_frame': {'default': None, 'actual': None}, 'nfolds': {'default': 0, 'actual': 5}, 'seed': {'default': -1, 'actual': -5613084001208796172}, 'keep_cross_validation_models': {'default': True, 'actual': False}, 'keep_cross_validation_predictions': {'default': False, 'actual': True}, 'keep_cross_validation_fold_assignment': {'default': False, 'actual': False}, 'fold_assignment': {'default': 'AUTO', 'actual': 'Modulo'}, 'fold_column': {'default': None, 'actual': None}, 'response_column': {'default': None, 'actual': {'__meta': {'schema_version': 3, 'schema_name': 'ColSpecifierV3', 'schema_type': 'VecSpecifier'}, 'column_name': 'Prices', 'is_member_of_frames': None}}, 'ignored_columns': {'default': None, 'actual': []}, 'ignore_const_cols': {'default': True, 'actual': True}, 'score_each_iteration': {'default': False, 'actual': False}, 'offset_column': {'default': None, 'actual': None}, 'weights_column': {'default': None, 'actual': None}, 'family': {'default': 'gaussian', 'actual': 'gaussian'}, 'tweedie_variance_power': {'default': 0.0, 'actual': 0.0}, 'tweedie_link_power': {'default': 1.0, 'actual': 1.0}, 'solver': {'default': 'AUTO', 'actual': 'COORDINATE_DESCENT'}, 'alpha': {'default': None, 'actual': [0.0, 0.2, 0.4, 0.6, 0.8, 1.0]}, 'lambda': {'default': None, 'actual': [749571.309688754, 465496.48247256264, 289081.20200638974, 179524.32402834488, 111487.64670323252]}, 'lambda_search': {'default': False, 'actual': True}, 'early_stopping': {'default': True, 'actual': True}, 'nlambdas': {'default': -1, 'actual': 30}, 'standardize': {'default': True, 'actual': True}, 'missing_values_handling': {'default': 'MeanImputation', 'actual': 'MeanImputation'}, 'compute_p_values': {'default': False, 'actual': False}, 'remove_collinear_columns': {'default': False, 'actual': False}, 'intercept': {'default': True, 'actual': True}, 'non_negative': {'default': False, 'actual': False}, 'max_iterations': {'default': -1, 'actual': 300}, 'objective_epsilon': {'default': -1.0, 'actual': 0.0001}, 'beta_epsilon': {'default': 0.0001, 'actual': 0.0001}, 'gradient_epsilon': {'default': -1.0, 'actual': 1.0000000000000002e-06}, 'link': {'default': 'family_default', 'actual': 'identity'}, 'prior': {'default': -1.0, 'actual': -1.0}, 'lambda_min_ratio': {'default': -1.0, 'actual': 1.0000000000000002e-06}, 'beta_constraints': {'default': None, 'actual': None}, 'max_active_predictors': {'default': -1, 'actual': 5000}, 'interactions': {'default': None, 'actual': None}, 'interaction_pairs': {'default': None, 'actual': None}, 'obj_reg': {'default': -1.0, 'actual': 2.498525869736855e-06}, 'export_checkpoints_dir': {'default': None, 'actual': None}, 'balance_classes': {'default': False, 'actual': False}, 'class_sampling_factors': {'default': None, 'actual': None}, 'max_after_balance_size': {'default': 5.0, 'actual': 5.0}, 'max_confusion_matrix_size': {'default': 20, 'actual': 20}, 'max_hit_ratio_k': {'default': 0, 'actual': 0}, 'max_runtime_secs': {'default': 0.0, 'actual': 11.5}, 'custom_metric_func': {'default': None, 'actual': None}}, {'model_id': {'default': None, 'actual': {'__meta': {'schema_version': 3, 'schema_name': 'ModelKeyV3', 'schema_type': 'Key<Model>'}, 'name': 'StackedEnsemble_BestOfFamily_AutoML_20190417_181353', 'type': 'Key<Model>', 'URL': '/3/Models/StackedEnsemble_BestOfFamily_AutoML_20190417_181353'}}, 'training_frame': {'default': None, 'actual': {'__meta': {'schema_version': 3, 'schema_name': 'FrameKeyV3', 'schema_type': 'Key<Frame>'}, 'name': 'automl_training_py_6_sid_9ee3', 'type': 'Key<Frame>', 'URL': '/3/Frames/automl_training_py_6_sid_9ee3'}}, 'response_column': {'default': None, 'actual': {'__meta': {'schema_version': 3, 'schema_name': 'ColSpecifierV3', 'schema_type': 'VecSpecifier'}, 'column_name': 'Prices', 'is_member_of_frames': None}}, 'validation_frame': {'default': None, 'actual': None}, 'base_models': {'default': [], 'actual': [{'__meta': {'schema_version': 3, 'schema_name': 'ModelKeyV3', 'schema_type': 'Key<Model>'}, 'name': 'GLM_grid_1_AutoML_20190417_182705_model_1', 'type': 'Key<Model>', 'URL': '/3/Models/GLM_grid_1_AutoML_20190417_182705_model_1'}]}, 'metalearner_algorithm': {'default': 'AUTO', 'actual': 'AUTO'}, 'metalearner_nfolds': {'default': 0, 'actual': 5}, 'metalearner_fold_assignment': {'default': None, 'actual': None}, 'metalearner_fold_column': {'default': None, 'actual': None}, 'keep_levelone_frame': {'default': False, 'actual': True}, 'metalearner_params': {'default': '', 'actual': ''}, 'seed': {'default': -1, 'actual': 6585695469569683059}, 'export_checkpoints_dir': {'default': None, 'actual': None}}, {'model_id': {'default': None, 'actual': {'__meta': {'schema_version': 3, 'schema_name': 'ModelKeyV3', 'schema_type': 'Key<Model>'}, 'name': 'StackedEnsemble_AllModels_AutoML_20190417_181353', 'type': 'Key<Model>', 'URL': '/3/Models/StackedEnsemble_AllModels_AutoML_20190417_181353'}}, 'training_frame': {'default': None, 'actual': {'__meta': {'schema_version': 3, 'schema_name': 'FrameKeyV3', 'schema_type': 'Key<Frame>'}, 'name': 'automl_training_py_6_sid_9ee3', 'type': 'Key<Frame>', 'URL': '/3/Frames/automl_training_py_6_sid_9ee3'}}, 'response_column': {'default': None, 'actual': {'__meta': {'schema_version': 3, 'schema_name': 'ColSpecifierV3', 'schema_type': 'VecSpecifier'}, 'column_name': 'Prices', 'is_member_of_frames': None}}, 'validation_frame': {'default': None, 'actual': None}, 'base_models': {'default': [], 'actual': [{'__meta': {'schema_version': 3, 'schema_name': 'ModelKeyV3', 'schema_type': 'Key<Model>'}, 'name': 'GLM_grid_1_AutoML_20190417_182705_model_1', 'type': 'Key<Model>', 'URL': '/3/Models/GLM_grid_1_AutoML_20190417_182705_model_1'}, {'__meta': {'schema_version': 3, 'schema_name': 'ModelKeyV3', 'schema_type': 'Key<Model>'}, 'name': 'GLM_grid_1_AutoML_20190417_181353_model_1', 'type': 'Key<Model>', 'URL': '/3/Models/GLM_grid_1_AutoML_20190417_181353_model_1'}]}, 'metalearner_algorithm': {'default': 'AUTO', 'actual': 'AUTO'}, 'metalearner_nfolds': {'default': 0, 'actual': 5}, 'metalearner_fold_assignment': {'default': None, 'actual': None}, 'metalearner_fold_column': {'default': None, 'actual': None}, 'keep_levelone_frame': {'default': False, 'actual': True}, 'metalearner_params': {'default': '', 'actual': ''}, 'seed': {'default': -1, 'actual': -6669013783547012780}, 'export_checkpoints_dir': {'default': None, 'actual': None}}]"
     ]
    },
    {
     "name": "stdout",
     "output_type": "stream",
     "text": [
      "\n"
     ]
    }
   ],
   "source": [
    "print(jsonDicts)"
   ]
  },
  {
   "cell_type": "code",
   "execution_count": 64,
   "metadata": {},
   "outputs": [],
   "source": [
    "n=run_id+'MelbourneHousingPrices_1000_hy_parameter.json'\n",
    "dict_to_json(jsonDicts,n)"
   ]
  },
  {
   "cell_type": "code",
   "execution_count": 65,
   "metadata": {},
   "outputs": [],
   "source": [
    "meta_data['end_time'] = time.time()"
   ]
  },
  {
   "cell_type": "code",
   "execution_count": 66,
   "metadata": {},
   "outputs": [
    {
     "data": {
      "text/plain": [
       "{'project': 'd5nTmwyIp_EmpAccess_500',\n",
       " 'run_time': 500,\n",
       " 'run_id': 'd5nTmwyIp',\n",
       " 'start_time_sec': 1555539172.6287012,\n",
       " 'min_mem_size': 1,\n",
       " 'balance': False,\n",
       " 'balance_threshold': 0.2,\n",
       " 'max_models': None,\n",
       " 'scale': False,\n",
       " 'model_path': None,\n",
       " 'server_path': 'C:\\\\Users\\\\jyoti\\\\INFO_6105-master\\\\INFO_6105-master\\\\Assignments\\\\Final Project',\n",
       " 'data_path': None,\n",
       " 'run_path': 'C:\\\\Users\\\\jyoti\\\\INFO_6105-master\\\\INFO_6105-master\\\\Assignments\\\\Final Project\\\\d5nTmwyIp_EmpAccess_500',\n",
       " 'nthreads': 1,\n",
       " 'analysis': 0,\n",
       " 'end_time_sec': 1555539172.6287012,\n",
       " 'Problem_type': 'Regression',\n",
       " 'Total Records': 8000000,\n",
       " 'Target': 'Prices',\n",
       " 'X': ['Area',\n",
       "  'Garage',\n",
       "  'FirePlace',\n",
       "  'Baths',\n",
       "  'White Marble',\n",
       "  'Black Marble',\n",
       "  'Indian Marble',\n",
       "  'Floors',\n",
       "  'City',\n",
       "  'Solar',\n",
       "  'Electric',\n",
       "  'Fiber',\n",
       "  'Glass Doors',\n",
       "  'Swiming Pool',\n",
       "  'Garden'],\n",
       " 'variables': {'Area': 'int',\n",
       "  'Garage': 'int',\n",
       "  'FirePlace': 'int',\n",
       "  'Baths': 'int',\n",
       "  'White Marble': 'int',\n",
       "  'Black Marble': 'int',\n",
       "  'Indian Marble': 'int',\n",
       "  'Floors': 'int',\n",
       "  'City': 'int',\n",
       "  'Solar': 'int',\n",
       "  'Electric': 'int',\n",
       "  'Fiber': 'int',\n",
       "  'Glass Doors': 'int',\n",
       "  'Swiming Pool': 'int',\n",
       "  'Garden': 'int',\n",
       "  'Prices': 'int'},\n",
       " 'model_execution_time_sec': 1842.8140523433685,\n",
       " 'Models_generated': 5,\n",
       " 'end_time': 1555541330.7240603}"
      ]
     },
     "execution_count": 66,
     "metadata": {},
     "output_type": "execute_result"
    }
   ],
   "source": [
    "meta_data"
   ]
  },
  {
   "cell_type": "code",
   "execution_count": 67,
   "metadata": {},
   "outputs": [],
   "source": [
    "n=run_id+'MelbHousingPrices_1000_meta_data.json'\n",
    "dict_to_json(meta_data,n)"
   ]
  },
  {
   "cell_type": "code",
   "execution_count": null,
   "metadata": {},
   "outputs": [],
   "source": []
  }
 ],
 "metadata": {
  "kernelspec": {
   "display_name": "Python 3",
   "language": "python",
   "name": "python3"
  },
  "language_info": {
   "codemirror_mode": {
    "name": "ipython",
    "version": 3
   },
   "file_extension": ".py",
   "mimetype": "text/x-python",
   "name": "python",
   "nbconvert_exporter": "python",
   "pygments_lexer": "ipython3",
   "version": "3.7.1"
  }
 },
 "nbformat": 4,
 "nbformat_minor": 2
}
